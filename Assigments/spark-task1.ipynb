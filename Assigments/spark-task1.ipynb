{
 "cells": [
  {
   "cell_type": "code",
   "execution_count": 1,
   "id": "251c23f0-bd0b-4bb4-805f-6c87bb14be1a",
   "metadata": {},
   "outputs": [
    {
     "data": {
      "text/plain": [
       "Intitializing Scala interpreter ..."
      ]
     },
     "metadata": {},
     "output_type": "display_data"
    },
    {
     "data": {
      "text/plain": [
       "Spark Web UI available at http://192.168.80.128:4040\n",
       "SparkContext available as 'sc' (version = 3.1.3, master = local[*], app id = local-1647895902400)\n",
       "SparkSession available as 'spark'\n"
      ]
     },
     "metadata": {},
     "output_type": "display_data"
    },
    {
     "data": {
      "text/plain": [
       "stocksDf: org.apache.spark.sql.DataFrame = [key: binary, value: binary ... 5 more fields]\n"
      ]
     },
     "execution_count": 1,
     "metadata": {},
     "output_type": "execute_result"
    }
   ],
   "source": [
    "val stocksDf = spark.readStream\n",
    "    .format(\"kafka\")\n",
    "    .option(\"kafka.bootstrap.servers\", \"hadoop-vm:9092\")\n",
    "    .option(\"subscribe\", \"stock-ticks\")\n",
    "    .option(\"group.id\", \"stock-ticks-group-JSCScala1234\")\n",
    "    .load()"
   ]
  },
  {
   "cell_type": "code",
   "execution_count": 2,
   "id": "c4f6e0bd-3ba1-49e4-8428-9fa0aa2116cb",
   "metadata": {},
   "outputs": [
    {
     "name": "stdout",
     "output_type": "stream",
     "text": [
      "root\n",
      " |-- key: binary (nullable = true)\n",
      " |-- value: binary (nullable = true)\n",
      " |-- topic: string (nullable = true)\n",
      " |-- partition: integer (nullable = true)\n",
      " |-- offset: long (nullable = true)\n",
      " |-- timestamp: timestamp (nullable = true)\n",
      " |-- timestampType: integer (nullable = true)\n",
      "\n"
     ]
    }
   ],
   "source": [
    "stocksDf.printSchema()"
   ]
  },
  {
   "cell_type": "code",
   "execution_count": 3,
   "id": "c96dc1bd-7e9d-47f4-a8a8-6c85b29019cc",
   "metadata": {},
   "outputs": [
    {
     "name": "stdout",
     "output_type": "stream",
     "text": [
      "root\n",
      " |-- value: string (nullable = true)\n",
      " |-- timestamp: timestamp (nullable = true)\n",
      "\n"
     ]
    },
    {
     "data": {
      "text/plain": [
       "ticksDf: org.apache.spark.sql.DataFrame = [value: string, timestamp: timestamp]\n"
      ]
     },
     "execution_count": 3,
     "metadata": {},
     "output_type": "execute_result"
    }
   ],
   "source": [
    "val ticksDf = stocksDf.selectExpr(\"CAST(value AS STRING)\", \"timestamp\")\n",
    "ticksDf.printSchema()"
   ]
  },
  {
   "cell_type": "code",
   "execution_count": 4,
   "id": "7f7edfd6-4dc2-4336-8394-6c9dbb966689",
   "metadata": {},
   "outputs": [
    {
     "data": {
      "text/plain": [
       "import org.apache.spark.sql.types.{DoubleType, IntegerType, LongType, TimestampType, StringType, StructField, StructType}\n",
       "import org.apache.spark.sql.functions._\n",
       "schema: org.apache.spark.sql.types.StructType = StructType(StructField(symbol,StringType,true), StructField(price,DoubleType,true), StructField(volume,LongType,true), StructField(timestamp,LongType,true))\n"
      ]
     },
     "execution_count": 4,
     "metadata": {},
     "output_type": "execute_result"
    }
   ],
   "source": [
    "import org.apache.spark.sql.types.{DoubleType, IntegerType, LongType, TimestampType,  StringType, StructField, StructType}\n",
    "import  org.apache.spark.sql.functions._\n",
    "\n",
    "val schema = StructType(\n",
    "    List(\n",
    "      StructField(\"symbol\", StringType, true),\n",
    "      StructField(\"price\", DoubleType, true), // TimestampType with , yyyyMMdd\n",
    "      StructField(\"volume\", LongType, true),\n",
    "      StructField(\"timestamp\", LongType, true),\n",
    "    )\n",
    "  )"
   ]
  },
  {
   "cell_type": "code",
   "execution_count": 5,
   "id": "bc78cc8e-367d-4c29-9026-6d62fbe85e71",
   "metadata": {},
   "outputs": [
    {
     "name": "stdout",
     "output_type": "stream",
     "text": [
      "root\n",
      " |-- value: struct (nullable = true)\n",
      " |    |-- symbol: string (nullable = true)\n",
      " |    |-- price: double (nullable = true)\n",
      " |    |-- volume: long (nullable = true)\n",
      " |    |-- timestamp: long (nullable = true)\n",
      " |-- timestamp: timestamp (nullable = true)\n",
      "\n"
     ]
    },
    {
     "data": {
      "text/plain": [
       "jsonDf: org.apache.spark.sql.DataFrame = [value: struct<symbol: string, price: double ... 2 more fields>, timestamp: timestamp]\n"
      ]
     },
     "execution_count": 5,
     "metadata": {},
     "output_type": "execute_result"
    }
   ],
   "source": [
    "val jsonDf = ticksDf.withColumn(\"value\", from_json($\"value\", schema))\n",
    "jsonDf.printSchema()"
   ]
  },
  {
   "cell_type": "code",
   "execution_count": 6,
   "id": "14f4ae45-20fa-4caa-b67b-afc1d6ac2e63",
   "metadata": {},
   "outputs": [
    {
     "name": "stdout",
     "output_type": "stream",
     "text": [
      "root\n",
      " |-- symbol: string (nullable = true)\n",
      " |-- price: double (nullable = true)\n",
      " |-- volume: long (nullable = true)\n",
      " |-- timestamp: long (nullable = true)\n",
      "\n"
     ]
    },
    {
     "data": {
      "text/plain": [
       "stockTickDf: org.apache.spark.sql.DataFrame = [symbol: string, price: double ... 2 more fields]\n"
      ]
     },
     "execution_count": 6,
     "metadata": {},
     "output_type": "execute_result"
    }
   ],
   "source": [
    "var stockTickDf = jsonDf.select (col(\"value.*\"))\n",
    "stockTickDf.printSchema()"
   ]
  },
  {
   "cell_type": "code",
   "execution_count": 7,
   "id": "86dd1bee-04ac-4e96-afd6-d321efe07143",
   "metadata": {},
   "outputs": [
    {
     "name": "stdout",
     "output_type": "stream",
     "text": [
      "root\n",
      " |-- symbol: string (nullable = true)\n",
      " |-- price: double (nullable = true)\n",
      " |-- volume: long (nullable = true)\n",
      " |-- timestamp: long (nullable = true)\n",
      " |-- traded_value: double (nullable = true)\n",
      "\n"
     ]
    },
    {
     "data": {
      "text/plain": [
       "stockTickDf: org.apache.spark.sql.DataFrame = [symbol: string, price: double ... 3 more fields]\n"
      ]
     },
     "execution_count": 7,
     "metadata": {},
     "output_type": "execute_result"
    }
   ],
   "source": [
    "stockTickDf = stockTickDf.withColumn(\"traded_value\", col(\"price\") * col(\"volume\"))\n",
    "stockTickDf.printSchema()"
   ]
  },
  {
   "cell_type": "code",
   "execution_count": 8,
   "id": "c8177427-7334-4101-bd8a-c8b85d838a0f",
   "metadata": {},
   "outputs": [
    {
     "data": {
      "text/plain": [
       "stockTickDf: org.apache.spark.sql.DataFrame = [symbol: string, price: double ... 3 more fields]\n"
      ]
     },
     "execution_count": 8,
     "metadata": {},
     "output_type": "execute_result"
    }
   ],
   "source": [
    "stockTickDf = stockTickDf\n",
    "                .withColumn(\"timestampTemp\", (col(\"timestamp\") / 1000).cast(\"timestamp\"))\n",
    "                .withColumn(\"trade_time\", date_trunc(\"minute\", col(\"timestampTemp\")))\n",
    "                .drop(\"timestamp\")\n",
    "                .drop(\"timestampTemp\")\n",
    "                .withColumnRenamed(\"trade_time\", \"timestamp\")"
   ]
  },
  {
   "cell_type": "code",
   "execution_count": 9,
   "id": "cb891c17-1100-4180-92a7-9f3444d29c8c",
   "metadata": {},
   "outputs": [],
   "source": [
    "// import org.apache.spark.sql.streaming.Trigger\n",
    "\n",
    "\n",
    "// stockTickDf\n",
    "//      .withColumn(\"year\", date_format(col(\"timestamp\"), \"yyyy\"))\n",
    "//      .withColumn(\"month\", date_format(col(\"timestamp\"), \"MM\"))\n",
    "//      .withColumn(\"day\", date_format(col(\"timestamp\"), \"dd\"))  \n",
    "//      .withColumn(\"hour\", date_format(col(\"timestamp\"), \"HH\"))   \n",
    "//      .withColumn(\"_symbol\", col(\"symbol\"))   \n",
    "//      .writeStream\n",
    "//      .trigger(Trigger.ProcessingTime(\"65 seconds\"))\n",
    "//      .queryName(\"Write Ticks to CSV trigger by 1 min hour\")\n",
    "//      .format(\"csv\")\n",
    "//      .option(\"path\", \"hdfs://localhost:9000/dump-scala-csv-trigger-hourly-1min\")\n",
    "//      .option(\"header\", true)\n",
    "//      .option(\"checkpointLocation\", \"hdfs://localhost:9000/checkpoint/tickscsvtohdfs6\")\n",
    "//      .partitionBy(\"year\", \"month\", \"day\", \"hour\", \"_symbol\")\n",
    "//      .option(\"truncate\", false)\n",
    "//      .start()"
   ]
  },
  {
   "cell_type": "code",
   "execution_count": 11,
   "id": "8b990c47-8842-47e3-bac7-a67f0cbed7a0",
   "metadata": {},
   "outputs": [
    {
     "data": {
      "text/plain": [
       "import org.apache.spark.sql._\n",
       "processBatchData: (candleBatchDf: org.apache.spark.sql.DataFrame, batch_id: Long)Unit\n",
       "res7: org.apache.spark.sql.streaming.StreamingQuery = org.apache.spark.sql.execution.streaming.StreamingQueryWrapper@52e80259\n"
      ]
     },
     "execution_count": 11,
     "metadata": {},
     "output_type": "execute_result"
    },
    {
     "name": "stdout",
     "output_type": "stream",
     "text": [
      "(process batch called,0,writing ,0)"
     ]
    }
   ],
   "source": [
    "import org.apache.spark.sql._\n",
    "\n",
    "def processBatchData(candleBatchDf: DataFrame, batch_id: Long) = {\n",
    "    print (\"process batch called\", batch_id, \"writing \", candleBatchDf.count())\n",
    "\n",
    "     val candleBatchDoneDf = (candleBatchDf\n",
    "        .coalesce(1)\n",
    "        .write\n",
    "        .mode(\"append\")\n",
    "        .format(\"csv\")\n",
    "        .partitionBy(\"year\", \"month\", \"day\", \"hour\", \"_symbol\")\n",
    "        .option(\"header\", true)\n",
    "        .save( \"hdfs://localhost:9000/layers/raw/scala\")\n",
    "    )\n",
    "}\n",
    "    \n",
    "stockTickDf.writeStream.foreachBatch(processBatchData _).outputMode(\"update\").start()"
   ]
  },
  {
   "cell_type": "code",
   "execution_count": null,
   "id": "9ccd3fd2-800f-4abb-b8fa-577a0f04c5ab",
   "metadata": {},
   "outputs": [],
   "source": []
  }
 ],
 "metadata": {
  "kernelspec": {
   "display_name": "spylon-kernel",
   "language": "scala",
   "name": "spylon-kernel"
  },
  "language_info": {
   "codemirror_mode": "text/x-scala",
   "file_extension": ".scala",
   "help_links": [
    {
     "text": "MetaKernel Magics",
     "url": "https://metakernel.readthedocs.io/en/latest/source/README.html"
    }
   ],
   "mimetype": "text/x-scala",
   "name": "scala",
   "pygments_lexer": "scala",
   "version": "0.4.1"
  }
 },
 "nbformat": 4,
 "nbformat_minor": 5
}
