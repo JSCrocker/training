{
 "cells": [
  {
   "cell_type": "code",
   "execution_count": 1,
   "id": "995a61c3-e253-46f1-9a36-f3856b6d7dca",
   "metadata": {},
   "outputs": [
    {
     "name": "stderr",
     "output_type": "stream",
     "text": [
      "22/03/02 03:11:43 WARN Utils: Your hostname, ubuntu-virtual-machine resolves to a loopback address: 127.0.1.1; using 192.168.80.128 instead (on interface ens33)\n",
      "22/03/02 03:11:43 WARN Utils: Set SPARK_LOCAL_IP if you need to bind to another address\n",
      "22/03/02 03:11:43 WARN NativeCodeLoader: Unable to load native-hadoop library for your platform... using builtin-java classes where applicable\n",
      "Using Spark's default log4j profile: org/apache/spark/log4j-defaults.properties\n",
      "Setting default log level to \"WARN\".\n",
      "To adjust logging level use sc.setLogLevel(newLevel). For SparkR, use setLogLevel(newLevel).\n",
      "22/03/02 03:11:45 WARN Utils: Service 'SparkUI' could not bind on port 4040. Attempting port 4041.\n",
      "22/03/02 03:11:45 WARN Utils: Service 'SparkUI' could not bind on port 4041. Attempting port 4042.\n",
      "22/03/02 03:11:45 WARN Utils: Service 'SparkUI' could not bind on port 4042. Attempting port 4043.\n",
      "22/03/02 03:11:45 WARN Utils: Service 'SparkUI' could not bind on port 4043. Attempting port 4044.\n",
      "22/03/02 03:11:45 WARN Utils: Service 'SparkUI' could not bind on port 4044. Attempting port 4045.\n"
     ]
    }
   ],
   "source": [
    "# will always need this 4 lines to start \n",
    "import findspark\n",
    "findspark.init()\n",
    "from pyspark import SparkContext\n",
    "sc = SparkContext(\"local\", \"GroupBy\")"
   ]
  },
  {
   "cell_type": "code",
   "execution_count": 8,
   "id": "1ad87703-a329-4aed-bdd8-1c3ae06fe2e0",
   "metadata": {},
   "outputs": [
    {
     "name": "stdout",
     "output_type": "stream",
     "text": [
      "Group  1 <pyspark.resultiterable.ResultIterable object at 0x7fc89e614310>\n",
      "\tValue  1\n",
      "\tValue  3\n",
      "\tValue  5\n",
      "\tValue  7\n",
      "\tValue  9\n",
      "Group  0 <pyspark.resultiterable.ResultIterable object at 0x7fc89e614350>\n",
      "\tValue  2\n",
      "\tValue  4\n",
      "\tValue  6\n",
      "\tValue  8\n"
     ]
    }
   ],
   "source": [
    "numbersRdd = sc.parallelize(range(1, 10))\n",
    "# try to split odd/even number as group\n",
    "# n % 2 = the output will be either 0 or 1, use this for grouping the numbers\n",
    "# groupBy used to group by any data in your record\n",
    "# groupBy where only key is used\n",
    "# lambda will return a - or 1. the items are grouped based on the result\n",
    "resultRdd = numbersRdd.groupBy(lambda n : n % 2)\n",
    "# groupBy collect wont return list or tuple directly, we need to iterate\n",
    "# and get the output\n",
    "results = resultRdd.collect()\n",
    "# result is a list of tuple\n",
    "# result = [ (0, iterator), (1, iterator) ]\n",
    "# 0 - even number group\n",
    "# 1 - odd number group\n",
    "for key, valueItr in results:\n",
    "    print(\"Group \", key, valueItr)\n",
    "    # iterator the result to get the actual data\n",
    "    for value in valueItr:\n",
    "        print(\"\\tValue \", value)"
   ]
  },
  {
   "cell_type": "code",
   "execution_count": null,
   "id": "ff04cadf-d20c-4ad4-8be6-a13f5d8efb05",
   "metadata": {},
   "outputs": [],
   "source": []
  }
 ],
 "metadata": {
  "kernelspec": {
   "display_name": "Python 3 (ipykernel)",
   "language": "python",
   "name": "python3"
  },
  "language_info": {
   "codemirror_mode": {
    "name": "ipython",
    "version": 3
   },
   "file_extension": ".py",
   "mimetype": "text/x-python",
   "name": "python",
   "nbconvert_exporter": "python",
   "pygments_lexer": "ipython3",
   "version": "3.7.12"
  }
 },
 "nbformat": 4,
 "nbformat_minor": 5
}
