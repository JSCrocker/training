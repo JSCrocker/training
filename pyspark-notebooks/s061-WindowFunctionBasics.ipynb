{
 "cells": [
  {
   "cell_type": "code",
   "execution_count": 1,
   "id": "9105a624-75fa-43c2-9b4c-191d94880422",
   "metadata": {},
   "outputs": [],
   "source": [
    "import findspark\n",
    "findspark.init()"
   ]
  },
  {
   "cell_type": "code",
   "execution_count": 2,
   "id": "69df7048-209b-4569-bf3b-1a21529b3fea",
   "metadata": {},
   "outputs": [
    {
     "name": "stderr",
     "output_type": "stream",
     "text": [
      "22/03/08 19:50:33 WARN Utils: Your hostname, ubuntu-virtual-machine resolves to a loopback address: 127.0.1.1; using 192.168.80.128 instead (on interface ens33)\n",
      "22/03/08 19:50:33 WARN Utils: Set SPARK_LOCAL_IP if you need to bind to another address\n",
      "22/03/08 19:50:33 WARN NativeCodeLoader: Unable to load native-hadoop library for your platform... using builtin-java classes where applicable\n",
      "Using Spark's default log4j profile: org/apache/spark/log4j-defaults.properties\n",
      "Setting default log level to \"WARN\".\n",
      "To adjust logging level use sc.setLogLevel(newLevel). For SparkR, use setLogLevel(newLevel).\n",
      "22/03/08 19:50:34 WARN Utils: Service 'SparkUI' could not bind on port 4040. Attempting port 4041.\n",
      "22/03/08 19:50:34 WARN Utils: Service 'SparkUI' could not bind on port 4041. Attempting port 4042.\n"
     ]
    }
   ],
   "source": [
    "from pyspark.conf import SparkConf\n",
    "config = SparkConf()\n",
    "# config.set(\"property\", \"value\")\n",
    "config.setMaster(\"local[4]\").setAppName(\"HelloSparkSession\")\n",
    "\n",
    "from pyspark.sql import SparkSession\n",
    "# spark Session, entry point for Spark SQL, DataFrame\n",
    "spark = SparkSession.builder\\\n",
    "                    .config(conf=config)\\\n",
    "                    .getOrCreate()\n",
    "\n",
    "sc = spark.sparkContext"
   ]
  },
  {
   "cell_type": "code",
   "execution_count": 3,
   "id": "b1440ab9-1053-438e-8d68-385be413e0b1",
   "metadata": {},
   "outputs": [],
   "source": [
    "data = [(\"James\", \"Sales\", 3000),\n",
    "    (\"Michael\", \"Sales\", 4600),\n",
    "    (\"Robert\", \"Sales\", 4100),\n",
    "    (\"Maria\", \"Finance\", 3000),\n",
    "    (\"James\", \"Sales\", 3000),\n",
    "    (\"Scott\", \"Finance\", 3300),\n",
    "    (\"Jen\", \"Finance\", 3900),\n",
    "    (\"Jeff\", \"Marketing\", 3000),\n",
    "    (\"Kumar\", \"Marketing\", 2000),\n",
    "    (\"Saif\", \"Sales\", 4100)]"
   ]
  },
  {
   "cell_type": "code",
   "execution_count": 5,
   "id": "aa184d79-216a-41f7-92c0-79f284a24c54",
   "metadata": {},
   "outputs": [
    {
     "name": "stdout",
     "output_type": "stream",
     "text": [
      "root\n",
      " |-- name: string (nullable = true)\n",
      " |-- dept: string (nullable = true)\n",
      " |-- salary: long (nullable = true)\n",
      "\n",
      "+-------+---------+------+\n",
      "|   name|     dept|salary|\n",
      "+-------+---------+------+\n",
      "|  James|    Sales|  3000|\n",
      "|Michael|    Sales|  4600|\n",
      "| Robert|    Sales|  4100|\n",
      "|  Maria|  Finance|  3000|\n",
      "|  James|    Sales|  3000|\n",
      "|  Scott|  Finance|  3300|\n",
      "|    Jen|  Finance|  3900|\n",
      "|   Jeff|Marketing|  3000|\n",
      "|  Kumar|Marketing|  2000|\n",
      "|   Saif|    Sales|  4100|\n",
      "+-------+---------+------+\n",
      "\n"
     ]
    },
    {
     "data": {
      "text/plain": [
       "4"
      ]
     },
     "execution_count": 5,
     "metadata": {},
     "output_type": "execute_result"
    }
   ],
   "source": [
    "empDf = spark.createDataFrame(data = data, schema = ['name', 'dept', 'salary'])\n",
    "empDf.printSchema()\n",
    "empDf.show()\n",
    "empDf.rdd.getNumPartitions()"
   ]
  },
  {
   "cell_type": "code",
   "execution_count": 7,
   "id": "788562f1-d305-4074-8b1e-aab0b16e9689",
   "metadata": {},
   "outputs": [
    {
     "data": {
      "text/plain": [
       "[[Row(name='James', dept='Sales', salary=3000),\n",
       "  Row(name='Michael', dept='Sales', salary=4600)],\n",
       " [Row(name='Robert', dept='Sales', salary=4100),\n",
       "  Row(name='Maria', dept='Finance', salary=3000)],\n",
       " [Row(name='James', dept='Sales', salary=3000),\n",
       "  Row(name='Scott', dept='Finance', salary=3300)],\n",
       " [Row(name='Jen', dept='Finance', salary=3900),\n",
       "  Row(name='Jeff', dept='Marketing', salary=3000),\n",
       "  Row(name='Kumar', dept='Marketing', salary=2000),\n",
       "  Row(name='Saif', dept='Sales', salary=4100)]]"
      ]
     },
     "execution_count": 7,
     "metadata": {},
     "output_type": "execute_result"
    }
   ],
   "source": [
    "empDf.rdd.glom().collect()"
   ]
  },
  {
   "cell_type": "code",
   "execution_count": 12,
   "id": "c7ba0069-7438-4e89-8702-efaa451c7535",
   "metadata": {},
   "outputs": [],
   "source": [
    "empDf.write.option(\"header\", True).partitionBy(\"dept\").csv(\"/home/ubuntu/employees\")"
   ]
  },
  {
   "cell_type": "code",
   "execution_count": 14,
   "id": "c8ac41cd-682a-45d4-b48a-90848f6389c4",
   "metadata": {},
   "outputs": [
    {
     "name": "stdout",
     "output_type": "stream",
     "text": [
      "root\n",
      " |-- name: string (nullable = true)\n",
      " |-- dept: string (nullable = true)\n",
      " |-- salary: long (nullable = true)\n",
      " |-- row_number: integer (nullable = true)\n",
      "\n"
     ]
    },
    {
     "name": "stderr",
     "output_type": "stream",
     "text": [
      "                                                                                \r"
     ]
    },
    {
     "name": "stdout",
     "output_type": "stream",
     "text": [
      "+-------+---------+------+----------+\n",
      "|   name|     dept|salary|row_number|\n",
      "+-------+---------+------+----------+\n",
      "|  James|    Sales|  3000|         1|\n",
      "|  James|    Sales|  3000|         2|\n",
      "| Robert|    Sales|  4100|         3|\n",
      "|   Saif|    Sales|  4100|         4|\n",
      "|Michael|    Sales|  4600|         5|\n",
      "|  Maria|  Finance|  3000|         1|\n",
      "|  Scott|  Finance|  3300|         2|\n",
      "|    Jen|  Finance|  3900|         3|\n",
      "|  Kumar|Marketing|  2000|         1|\n",
      "|   Jeff|Marketing|  3000|         2|\n",
      "+-------+---------+------+----------+\n",
      "\n"
     ]
    },
    {
     "name": "stderr",
     "output_type": "stream",
     "text": [
      "                                                                                \r"
     ]
    }
   ],
   "source": [
    "from pyspark.sql.window import Window\n",
    "from pyspark.sql.functions import row_number\n",
    "\n",
    "# specification for window, partitions, functions that should be applied on partitions\n",
    "# with in department, order the data based on salary in ascending order\n",
    "windowSpec = Window.partitionBy(\"dept\").orderBy(\"salary\")\n",
    "# we have applied the spec on dataframe\n",
    "df = empDf.withColumn(\"row_number\", row_number().over(windowSpec))\n",
    "\n",
    "df.printSchema()\n",
    "df.show()"
   ]
  },
  {
   "cell_type": "code",
   "execution_count": 22,
   "id": "ea6c9b84-ca2e-4e32-b103-619227a708d2",
   "metadata": {},
   "outputs": [
    {
     "name": "stdout",
     "output_type": "stream",
     "text": [
      "+-------+---------+------+----+\n",
      "|   name|     dept|salary|rank|\n",
      "+-------+---------+------+----+\n",
      "|Michael|    Sales|  4600|   1|\n",
      "| Robert|    Sales|  4100|   2|\n",
      "|   Saif|    Sales|  4100|   2|\n",
      "|  James|    Sales|  3000|   4|\n",
      "|  James|    Sales|  3000|   4|\n",
      "|    Jen|  Finance|  3900|   1|\n",
      "|  Scott|  Finance|  3300|   2|\n",
      "|  Maria|  Finance|  3000|   3|\n",
      "|   Jeff|Marketing|  3000|   1|\n",
      "|  Kumar|Marketing|  2000|   2|\n",
      "+-------+---------+------+----+\n",
      "\n"
     ]
    }
   ],
   "source": [
    "from pyspark.sql.window import Window\n",
    "from pyspark.sql.functions import rank, desc\n",
    "\n",
    "\n",
    "# rank with gap\n",
    "\"\"\"\n",
    "score   rank\n",
    "90        1\n",
    "90        1\n",
    "89        3  \n",
    "[ gap, 2 is not included ] \n",
    "\"\"\"\n",
    "\n",
    "windowSpec = Window.partitionBy(\"dept\").orderBy(desc(\"salary\"))\n",
    "df = empDf.withColumn(\"rank\", rank().over(windowSpec))\n",
    "df.show()"
   ]
  },
  {
   "cell_type": "code",
   "execution_count": 21,
   "id": "724022b8-dcaf-4288-b0e1-29388153c1e4",
   "metadata": {},
   "outputs": [
    {
     "name": "stdout",
     "output_type": "stream",
     "text": [
      "+-------+---------+------+----+\n",
      "|   name|     dept|salary|rank|\n",
      "+-------+---------+------+----+\n",
      "|Michael|    Sales|  4600|   1|\n",
      "| Robert|    Sales|  4100|   2|\n",
      "|   Saif|    Sales|  4100|   2|\n",
      "|  James|    Sales|  3000|   3|\n",
      "|  James|    Sales|  3000|   3|\n",
      "|    Jen|  Finance|  3900|   1|\n",
      "|  Scott|  Finance|  3300|   2|\n",
      "|  Maria|  Finance|  3000|   3|\n",
      "|   Jeff|Marketing|  3000|   1|\n",
      "|  Kumar|Marketing|  2000|   2|\n",
      "+-------+---------+------+----+\n",
      "\n"
     ]
    }
   ],
   "source": [
    "from pyspark.sql.window import Window\n",
    "from pyspark.sql.functions import dense_rank, desc\n",
    "\n",
    "\n",
    "# dense_rank outwith gap\n",
    "\"\"\"\n",
    "score   rank\n",
    "90        1\n",
    "90        1\n",
    "89        2\n",
    "\"\"\"\n",
    "\n",
    "windowSpec = Window.partitionBy(\"dept\").orderBy(desc(\"salary\"))\n",
    "df = empDf.withColumn(\"rank\", dense_rank().over(windowSpec))\n",
    "df.show()"
   ]
  },
  {
   "cell_type": "code",
   "execution_count": 20,
   "id": "02136a0c-979b-47b2-9526-e1228f68aa82",
   "metadata": {},
   "outputs": [
    {
     "name": "stdout",
     "output_type": "stream",
     "text": [
      "+-------+---------+------+----+\n",
      "|   name|     dept|salary|rank|\n",
      "+-------+---------+------+----+\n",
      "|Michael|    Sales|  4600| 0.0|\n",
      "| Robert|    Sales|  4100|0.25|\n",
      "|   Saif|    Sales|  4100|0.25|\n",
      "|  James|    Sales|  3000|0.75|\n",
      "|  James|    Sales|  3000|0.75|\n",
      "|    Jen|  Finance|  3900| 0.0|\n",
      "|  Scott|  Finance|  3300| 0.5|\n",
      "|  Maria|  Finance|  3000| 1.0|\n",
      "|   Jeff|Marketing|  3000| 0.0|\n",
      "|  Kumar|Marketing|  2000| 1.0|\n",
      "+-------+---------+------+----+\n",
      "\n"
     ]
    }
   ],
   "source": [
    "from pyspark.sql.window import Window\n",
    "from pyspark.sql.functions import percent_rank, desc\n",
    "\n",
    "\n",
    "# percent_rank ranking with percent calcution\n",
    "\"\"\"\n",
    "score   rank\n",
    "90        1\n",
    "90        1\n",
    "89        2\n",
    "\"\"\"\n",
    "\n",
    "windowSpec = Window.partitionBy(\"dept\").orderBy(desc(\"salary\"))\n",
    "df = empDf.withColumn(\"rank\", percent_rank().over(windowSpec))\n",
    "df.show()"
   ]
  },
  {
   "cell_type": "code",
   "execution_count": 25,
   "id": "d248e19a-bffe-40eb-8482-6f54c513c522",
   "metadata": {},
   "outputs": [
    {
     "name": "stdout",
     "output_type": "stream",
     "text": [
      "+-------+---------+------+----+\n",
      "|   name|     dept|salary|rank|\n",
      "+-------+---------+------+----+\n",
      "|Michael|    Sales|  4600|   1|\n",
      "| Robert|    Sales|  4100|   1|\n",
      "|   Saif|    Sales|  4100|   2|\n",
      "|  James|    Sales|  3000|   2|\n",
      "|  James|    Sales|  3000|   3|\n",
      "|    Jen|  Finance|  3900|   1|\n",
      "|  Scott|  Finance|  3300|   2|\n",
      "|  Maria|  Finance|  3000|   3|\n",
      "|   Jeff|Marketing|  3000|   1|\n",
      "|  Kumar|Marketing|  2000|   2|\n",
      "+-------+---------+------+----+\n",
      "\n"
     ]
    }
   ],
   "source": [
    "from pyspark.sql.window import Window\n",
    "from pyspark.sql.functions import ntile, desc\n",
    "\n",
    "\n",
    "# ntile ranking with related certain range for rank\n",
    "# rank will fit into a range\n",
    "\"\"\"\n",
    "score   rank\n",
    "90        1\n",
    "90        1\n",
    "89        2\n",
    "\"\"\"\n",
    "\n",
    "windowSpec = Window.partitionBy(\"dept\").orderBy(desc(\"salary\"))\n",
    "df = empDf.withColumn(\"rank\", ntile(3).over(windowSpec))\n",
    "df.show()"
   ]
  },
  {
   "cell_type": "code",
   "execution_count": 26,
   "id": "b414f121-4aa1-4375-a1bd-8f36a5983b11",
   "metadata": {},
   "outputs": [
    {
     "name": "stdout",
     "output_type": "stream",
     "text": [
      "+-------+---------+------+------------------+\n",
      "|   name|     dept|salary|         cume_dist|\n",
      "+-------+---------+------+------------------+\n",
      "|Michael|    Sales|  4600|               0.2|\n",
      "| Robert|    Sales|  4100|               0.6|\n",
      "|   Saif|    Sales|  4100|               0.6|\n",
      "|  James|    Sales|  3000|               1.0|\n",
      "|  James|    Sales|  3000|               1.0|\n",
      "|    Jen|  Finance|  3900|0.3333333333333333|\n",
      "|  Scott|  Finance|  3300|0.6666666666666666|\n",
      "|  Maria|  Finance|  3000|               1.0|\n",
      "|   Jeff|Marketing|  3000|               0.5|\n",
      "|  Kumar|Marketing|  2000|               1.0|\n",
      "+-------+---------+------+------------------+\n",
      "\n"
     ]
    }
   ],
   "source": [
    "# Analytic functions\n",
    "# Cumulative distribution - similar to rank, calculated and values are bound between\n",
    "# 0 and 1\n",
    "\n",
    "# 10 USD per share => 13 USD per share          = 3 USD per share, 30% gain .3\n",
    "# 100 USD per share => 110 USD per share        = 10 USD per share, 10% gain .1\n",
    "\n",
    "from pyspark.sql.window import Window\n",
    "from pyspark.sql.functions import cume_dist, desc\n",
    "\n",
    "windowSpec = Window.partitionBy(\"dept\").orderBy(desc(\"salary\"))\n",
    "df = empDf.withColumn(\"cume_dist\", cume_dist().over(windowSpec))\n",
    "df.show()"
   ]
  },
  {
   "cell_type": "code",
   "execution_count": 32,
   "id": "9589cc6f-0b42-43e8-8f1d-df3e8cd61e7e",
   "metadata": {},
   "outputs": [
    {
     "name": "stdout",
     "output_type": "stream",
     "text": [
      "+-------+---------+------+----+\n",
      "|   name|     dept|salary| lag|\n",
      "+-------+---------+------+----+\n",
      "|  James|    Sales|  3000|null|\n",
      "|  James|    Sales|  3000|3000|\n",
      "| Robert|    Sales|  4100|3000|\n",
      "|   Saif|    Sales|  4100|4100|\n",
      "|Michael|    Sales|  4600|4100|\n",
      "|  Maria|  Finance|  3000|null|\n",
      "|  Scott|  Finance|  3300|3000|\n",
      "|    Jen|  Finance|  3900|3300|\n",
      "|  Kumar|Marketing|  2000|null|\n",
      "|   Jeff|Marketing|  3000|2000|\n",
      "+-------+---------+------+----+\n",
      "\n"
     ]
    }
   ],
   "source": [
    "# Lag - the previous one\n",
    "from pyspark.sql.window import Window\n",
    "from pyspark.sql.functions import lag\n",
    "\n",
    "windowSpec = Window.partitionBy(\"dept\").orderBy(\"salary\")\n",
    "df = empDf.withColumn(\"lag\", lag(\"salary\", 1).over(windowSpec))\n",
    "df.show()"
   ]
  },
  {
   "cell_type": "code",
   "execution_count": 31,
   "id": "be71310a-1104-4d75-97fb-8546040a5126",
   "metadata": {},
   "outputs": [
    {
     "name": "stdout",
     "output_type": "stream",
     "text": [
      "+-------+---------+------+----+\n",
      "|   name|     dept|salary|lead|\n",
      "+-------+---------+------+----+\n",
      "|  James|    Sales|  3000|3000|\n",
      "|  James|    Sales|  3000|4100|\n",
      "| Robert|    Sales|  4100|4100|\n",
      "|   Saif|    Sales|  4100|4600|\n",
      "|Michael|    Sales|  4600|null|\n",
      "|  Maria|  Finance|  3000|3300|\n",
      "|  Scott|  Finance|  3300|3900|\n",
      "|    Jen|  Finance|  3900|null|\n",
      "|  Kumar|Marketing|  2000|3000|\n",
      "|   Jeff|Marketing|  3000|null|\n",
      "+-------+---------+------+----+\n",
      "\n"
     ]
    }
   ],
   "source": [
    "# lead - the one ahead\n",
    "from pyspark.sql.window import Window\n",
    "from pyspark.sql.functions import lead\n",
    "\n",
    "windowSpec = Window.partitionBy(\"dept\").orderBy(\"salary\")\n",
    "df = empDf.withColumn(\"lead\", lead(\"salary\", 1).over(windowSpec))\n",
    "df.show()"
   ]
  },
  {
   "cell_type": "code",
   "execution_count": 35,
   "id": "fccc4341-ca4c-4bd2-9c62-d25a3e67acdd",
   "metadata": {},
   "outputs": [
    {
     "name": "stdout",
     "output_type": "stream",
     "text": [
      "+-------+---------+------+----+----+------+-----+-----+\n",
      "|   name|     dept|salary| min| max|   avg|count|  sum|\n",
      "+-------+---------+------+----+----+------+-----+-----+\n",
      "|  James|    Sales|  3000|3000|4600|3760.0|    5|18800|\n",
      "|Michael|    Sales|  4600|3000|4600|3760.0|    5|18800|\n",
      "| Robert|    Sales|  4100|3000|4600|3760.0|    5|18800|\n",
      "|  James|    Sales|  3000|3000|4600|3760.0|    5|18800|\n",
      "|   Saif|    Sales|  4100|3000|4600|3760.0|    5|18800|\n",
      "|  Maria|  Finance|  3000|3000|3900|3400.0|    3|10200|\n",
      "|  Scott|  Finance|  3300|3000|3900|3400.0|    3|10200|\n",
      "|    Jen|  Finance|  3900|3000|3900|3400.0|    3|10200|\n",
      "|   Jeff|Marketing|  3000|2000|3000|2500.0|    2| 5000|\n",
      "|  Kumar|Marketing|  2000|2000|3000|2500.0|    2| 5000|\n",
      "+-------+---------+------+----+----+------+-----+-----+\n",
      "\n"
     ]
    }
   ],
   "source": [
    "# aggragate functions: min, max, sum, count, avg\n",
    "from pyspark.sql.window import Window\n",
    "from pyspark.sql.functions import avg, sum, min, max, count, col\n",
    "\n",
    "windowSpec = Window.partitionBy(\"dept\")\n",
    "df = empDf.withColumn(\"min\", min(col(\"salary\")).over(windowSpec))\\\n",
    "            .withColumn(\"max\", max(col(\"salary\")).over(windowSpec))\\\n",
    "            .withColumn(\"avg\", avg(col(\"salary\")).over(windowSpec))\\\n",
    "            .withColumn(\"count\", count(col(\"salary\")).over(windowSpec))\\\n",
    "            .withColumn(\"sum\", sum(col(\"salary\")).over(windowSpec))\n",
    "df.show()"
   ]
  },
  {
   "cell_type": "code",
   "execution_count": 38,
   "id": "1074ed0c-719d-4d95-90b1-ec8e6bc472c9",
   "metadata": {},
   "outputs": [
    {
     "name": "stderr",
     "output_type": "stream",
     "text": [
      "                                                                                \r"
     ]
    },
    {
     "name": "stdout",
     "output_type": "stream",
     "text": [
      "+---------+------+----------+----+----+------+-----+-----+\n",
      "|     dept|salary|row_number| min| max|   avg|count|  sum|\n",
      "+---------+------+----------+----+----+------+-----+-----+\n",
      "|    Sales|  3000|         1|3000|3000|3000.0|    2| 6000|\n",
      "|    Sales|  3000|         2|3000|3000|3000.0|    2| 6000|\n",
      "|    Sales|  4100|         3|3000|4100|3550.0|    4|14200|\n",
      "|    Sales|  4100|         4|3000|4100|3550.0|    4|14200|\n",
      "|    Sales|  4600|         5|3000|4600|3760.0|    5|18800|\n",
      "|  Finance|  3000|         1|3000|3000|3000.0|    1| 3000|\n",
      "|  Finance|  3300|         2|3000|3300|3150.0|    2| 6300|\n",
      "|  Finance|  3900|         3|3000|3900|3400.0|    3|10200|\n",
      "|Marketing|  2000|         1|2000|2000|2000.0|    1| 2000|\n",
      "|Marketing|  3000|         2|2000|3000|2500.0|    2| 5000|\n",
      "+---------+------+----------+----+----+------+-----+-----+\n",
      "\n"
     ]
    },
    {
     "name": "stderr",
     "output_type": "stream",
     "text": [
      "                                                                                \r"
     ]
    }
   ],
   "source": [
    "from pyspark.sql.window import Window\n",
    "from pyspark.sql.functions import avg, sum, min, max, count, col\n",
    "\n",
    "windowSpec = Window.partitionBy(\"dept\").orderBy(\"salary\")\n",
    "\n",
    "df = empDf.drop(\"name\")\\\n",
    "            .withColumn(\"row_number\", row_number().over(windowSpec))\\\n",
    "            .withColumn(\"min\", min(col(\"salary\")).over(windowSpec))\\\n",
    "            .withColumn(\"max\", max(col(\"salary\")).over(windowSpec))\\\n",
    "            .withColumn(\"avg\", avg(col(\"salary\")).over(windowSpec))\\\n",
    "            .withColumn(\"count\", count(col(\"salary\")).over(windowSpec))\\\n",
    "            .withColumn(\"sum\", sum(col(\"salary\")).over(windowSpec))\n",
    "df.show()"
   ]
  },
  {
   "cell_type": "code",
   "execution_count": null,
   "id": "8da9092d-c6c3-4a2a-953b-82cb10e81a88",
   "metadata": {},
   "outputs": [],
   "source": []
  }
 ],
 "metadata": {
  "kernelspec": {
   "display_name": "Python 3 (ipykernel)",
   "language": "python",
   "name": "python3"
  },
  "language_info": {
   "codemirror_mode": {
    "name": "ipython",
    "version": 3
   },
   "file_extension": ".py",
   "mimetype": "text/x-python",
   "name": "python",
   "nbconvert_exporter": "python",
   "pygments_lexer": "ipython3",
   "version": "3.7.12"
  }
 },
 "nbformat": 4,
 "nbformat_minor": 5
}
