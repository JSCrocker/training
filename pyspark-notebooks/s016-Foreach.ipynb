{
 "cells": [
  {
   "cell_type": "code",
   "execution_count": 1,
   "id": "733da3a2-1189-49d6-8ac6-0cbd7077c896",
   "metadata": {},
   "outputs": [
    {
     "name": "stderr",
     "output_type": "stream",
     "text": [
      "22/03/02 02:42:54 WARN Utils: Your hostname, ubuntu-virtual-machine resolves to a loopback address: 127.0.1.1; using 192.168.80.128 instead (on interface ens33)\n",
      "22/03/02 02:42:54 WARN Utils: Set SPARK_LOCAL_IP if you need to bind to another address\n",
      "22/03/02 02:42:54 WARN NativeCodeLoader: Unable to load native-hadoop library for your platform... using builtin-java classes where applicable\n",
      "Using Spark's default log4j profile: org/apache/spark/log4j-defaults.properties\n",
      "Setting default log level to \"WARN\".\n",
      "To adjust logging level use sc.setLogLevel(newLevel). For SparkR, use setLogLevel(newLevel).\n",
      "22/03/02 02:42:56 WARN Utils: Service 'SparkUI' could not bind on port 4040. Attempting port 4041.\n",
      "22/03/02 02:42:56 WARN Utils: Service 'SparkUI' could not bind on port 4041. Attempting port 4042.\n",
      "22/03/02 02:42:56 WARN Utils: Service 'SparkUI' could not bind on port 4042. Attempting port 4043.\n",
      "22/03/02 02:42:56 WARN Utils: Service 'SparkUI' could not bind on port 4043. Attempting port 4044.\n"
     ]
    }
   ],
   "source": [
    "# will always need this 4 lines to start \n",
    "import findspark\n",
    "findspark.init()\n",
    "from pyspark import SparkContext\n",
    "sc = SparkContext(\"local\", \"Foreach\")"
   ]
  },
  {
   "cell_type": "code",
   "execution_count": 2,
   "id": "51d5327b-3653-419a-b5ed-e9b1a55e6540",
   "metadata": {},
   "outputs": [
    {
     "name": "stderr",
     "output_type": "stream",
     "text": [
      "[Stage 0:>                                                          (0 + 1) / 1]acc 0 value 200 output 200\n",
      "acc 0 value 50 output 50\n",
      "acc 0 value 20 output 20\n",
      "acc 200 value 100 output 300\n",
      "acc 50 value 25 output 75\n",
      "                                                                                \r"
     ]
    },
    {
     "data": {
      "text/plain": [
       "[('INFY', 300), ('TSLA', 75), ('EMR', 20)]"
      ]
     },
     "execution_count": 2,
     "metadata": {},
     "output_type": "execute_result"
    }
   ],
   "source": [
    "# foreach\n",
    "# apply a function to each element in the rdd (all partitions)\n",
    "# write any custom function that deal with db, datastore, cache, etc\n",
    "orders = [\n",
    "    # SYMBOL QTY\n",
    "    ('INFY', 200),\n",
    "    ('TSLA', 50),\n",
    "    ('EMR', 20),\n",
    "    ('INFY', 100),\n",
    "    ('TSLA', 25)\n",
    "]\n",
    "\n",
    "def add(acc, value):\n",
    "    output = acc + value\n",
    "    print(\"acc\", acc, \"value\", value, \"output\", output)\n",
    "    return output\n",
    "\n",
    "orderRdd = sc.parallelize(orders)\n",
    "\n",
    "resultRdd = orderRdd.foldByKey(0, add)\n",
    "resultRdd.collect()"
   ]
  },
  {
   "cell_type": "code",
   "execution_count": 4,
   "id": "ddb894a4-dc9a-425f-a34a-8bacb22518cb",
   "metadata": {},
   "outputs": [
    {
     "name": "stderr",
     "output_type": "stream",
     "text": [
      "Saving  ('INFY', 300)  to db \n",
      "Saving  ('TSLA', 75)  to db \n",
      "Saving  ('EMR', 20)  to db \n"
     ]
    }
   ],
   "source": [
    "# resultRdd has result, new we apply foreach, it may store data to data store\n",
    "def updateDB(stock):\n",
    "    print(\"Saving \", str(stock), \" to db \")\n",
    "\n",
    "#foreach is ACTION method\n",
    "resultRdd.foreach(updateDB)"
   ]
  },
  {
   "cell_type": "code",
   "execution_count": 5,
   "id": "c2543720-e112-4cd6-b919-2bd242c86934",
   "metadata": {},
   "outputs": [
    {
     "name": "stderr",
     "output_type": "stream",
     "text": [
      "Processing  ('INFY', 300)\n",
      "Processing  ('TSLA', 75)\n",
      "Processing  ('EMR', 20)\n",
      "------------------------------\n"
     ]
    }
   ],
   "source": [
    "# foreachPartition\n",
    "# custom logic to handle data in the partitions\n",
    "# runs inside executors\n",
    "# foreach process 1 element at a time, where foreachPartition can process all\n",
    "# parition data as bulk\n",
    "# bulk insert/update/delete\n",
    "\n",
    "# iterator will have each partition data as a whole\n",
    "# part 0 - 5 records, then iterator will have 5 records\n",
    "def processData(iterator):\n",
    "    print(Process data called\n",
    "    for record in iterator:\n",
    "        print(\"Processing \", str(record))\n",
    "        \n",
    "    print('-' * 30)\n",
    "    \n",
    "# Action method\n",
    "resultRdd.foreachPartition(processData)"
   ]
  },
  {
   "cell_type": "code",
   "execution_count": null,
   "id": "800da0e8-769b-40b9-8786-fb5c370f0dce",
   "metadata": {},
   "outputs": [],
   "source": []
  }
 ],
 "metadata": {
  "kernelspec": {
   "display_name": "Python 3 (ipykernel)",
   "language": "python",
   "name": "python3"
  },
  "language_info": {
   "codemirror_mode": {
    "name": "ipython",
    "version": 3
   },
   "file_extension": ".py",
   "mimetype": "text/x-python",
   "name": "python",
   "nbconvert_exporter": "python",
   "pygments_lexer": "ipython3",
   "version": "3.7.12"
  }
 },
 "nbformat": 4,
 "nbformat_minor": 5
}
