{
 "cells": [
  {
   "cell_type": "code",
   "execution_count": 1,
   "id": "3abf189f-f17e-4984-8046-860f4185b9ed",
   "metadata": {},
   "outputs": [],
   "source": [
    "import findspark\n",
    "findspark.init()"
   ]
  },
  {
   "cell_type": "code",
   "execution_count": 17,
   "id": "f89c25ad-f132-438a-94b0-34caa40c0e01",
   "metadata": {},
   "outputs": [],
   "source": [
    "from pyspark.conf import SparkConf\n",
    "config = SparkConf()\n",
    "# config.set(\"property\", \"value\")\n",
    "config.setMaster(\"local\").setAppName(\"SparkStreamWordCount\")\n",
    "\n",
    "from pyspark.sql import SparkSession\n",
    "# spark Session, entry point for Spark SQL, DataFrame\n",
    "spark = SparkSession.builder\\\n",
    "                    .config(conf=config)\\\n",
    "                    .getOrCreate()\n",
    "\n",
    "sc = spark.sparkContext"
   ]
  },
  {
   "cell_type": "code",
   "execution_count": null,
   "id": "822db13d-7bf8-424b-8891-168c9c314476",
   "metadata": {},
   "outputs": [],
   "source": [
    "# pre-requistes\n",
    "\n",
    "# we need a server running on port 9999, that provides text stream to spark\n",
    "# spark stream is a client, that will connect ot a server running on port 9999\n",
    "\n",
    "# terminal, \n",
    "\n",
    "# nc -lk 9999"
   ]
  },
  {
   "cell_type": "code",
   "execution_count": null,
   "id": "7aabfcdd-08a0-47cc-a486-9467107bb7f2",
   "metadata": {},
   "outputs": [],
   "source": [
    "# Structured Streaming \n",
    "# based on Data Frame/ internally there is RDD\n",
    "# Micro Batch\n",
    "# spark batch programming, we use spark.read\n",
    "# in streaming, we use readStream\n",
    "# socket is predefined word, represent data comes from TCP/IP socket\n",
    "lineStreamDf = spark\\\n",
    "                .readStream\\\n",
    "                .format(\"socket\")\\\n",
    "                .option(\"host\", \"localhost\")\\\n",
    "                .option(\"port\", 9999)\\\n",
    "                .load()\n",
    "\n",
    "# now spark shall connect the server running on port 9999\n",
    "# then it will wait the input from server\n",
    "# user/developer can write something on server console and Press Enter key\n",
    "# to send to spark / client"
   ]
  },
  {
   "cell_type": "code",
   "execution_count": null,
   "id": "a8d51854-af52-4843-b216-a4a6f6323f51",
   "metadata": {},
   "outputs": [],
   "source": [
    "lineStreamDf.printSchema()"
   ]
  },
  {
   "cell_type": "code",
   "execution_count": null,
   "id": "e7006c47-20e4-4f32-9bad-c859699ef2e0",
   "metadata": {},
   "outputs": [],
   "source": [
    "from pyspark.sql.functions import split, explode, col\n",
    "# split , split the stirng using space, convert line into word list\n",
    "# explode project every element in list as element in stream [similar to flatMap]\n",
    "# output is a stream of word\n",
    "# Input \"welcome to Kafka\"\n",
    "# split => [\"welcome\", \"to\", \"Kafka\"]\n",
    "# explode makes every element as stream element\n",
    "# welcome\n",
    "# to\n",
    "# Kafka\n",
    "wordsDf = lineStreamDf.select(explode(split(lineStreamDf.value, \" \")).alias(\"word\"))\n",
    "wordsDf.printSchema()"
   ]
  },
  {
   "cell_type": "code",
   "execution_count": null,
   "id": "ec547791-3893-48d4-be98-937ef9b2a2f1",
   "metadata": {},
   "outputs": [],
   "source": [
    "# word count by group\n",
    "# word  count\n",
    "# Kafka  2..\n",
    "wordCountDf = wordsDf.groupBy(\"word\").count()"
   ]
  },
  {
   "cell_type": "code",
   "execution_count": null,
   "id": "90209c07-a4fd-4e14-a475-0a00249b6b9d",
   "metadata": {},
   "outputs": [],
   "source": [
    "# print out on console \n",
    "# default batch, as soon possible , latest spark says 100 ms, expect 1 second delay\n",
    "# check this cell or next cell\n",
    "echoOnConsole = wordCountDf.writeStream.outputMode(\"complete\").format(\"console\").start()"
   ]
  },
  {
   "cell_type": "code",
   "execution_count": null,
   "id": "8d62de2c-1898-4b6f-8c5a-6550f635c7c8",
   "metadata": {},
   "outputs": [],
   "source": [
    "# print out on console \n",
    "# Output: update\n",
    "# only print if there is difference in output, not printing all results\n",
    "# default batch, as soon possible , latest spark says 100 ms, expect 1 second delay\n",
    "echoOnConsole = wordCountDf.writeStream.outputMode(\"update\").format(\"console\").start()"
   ]
  }
 ],
 "metadata": {
  "kernelspec": {
   "display_name": "Python 3 (ipykernel)",
   "language": "python",
   "name": "python3"
  },
  "language_info": {
   "codemirror_mode": {
    "name": "ipython",
    "version": 3
   },
   "file_extension": ".py",
   "mimetype": "text/x-python",
   "name": "python",
   "nbconvert_exporter": "python",
   "pygments_lexer": "ipython3",
   "version": "3.7.12"
  }
 },
 "nbformat": 4,
 "nbformat_minor": 5
}
