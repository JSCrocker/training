{
 "cells": [
  {
   "cell_type": "code",
   "execution_count": 1,
   "id": "4587cea2-7a28-43a3-9031-b9c377bdc433",
   "metadata": {},
   "outputs": [
    {
     "name": "stderr",
     "output_type": "stream",
     "text": [
      "22/03/01 23:16:54 WARN Utils: Your hostname, ubuntu-virtual-machine resolves to a loopback address: 127.0.1.1; using 192.168.80.128 instead (on interface ens33)\n",
      "22/03/01 23:16:54 WARN Utils: Set SPARK_LOCAL_IP if you need to bind to another address\n",
      "22/03/01 23:16:55 WARN NativeCodeLoader: Unable to load native-hadoop library for your platform... using builtin-java classes where applicable\n",
      "Using Spark's default log4j profile: org/apache/spark/log4j-defaults.properties\n",
      "Setting default log level to \"WARN\".\n",
      "To adjust logging level use sc.setLogLevel(newLevel). For SparkR, use setLogLevel(newLevel).\n"
     ]
    }
   ],
   "source": [
    "# will always need this 4 lines to start \n",
    "import findspark\n",
    "findspark.init()\n",
    "from pyspark import SparkContext\n",
    "sc = SparkContext(\"local\", \"Join\")"
   ]
  },
  {
   "cell_type": "code",
   "execution_count": 10,
   "id": "f3d4f4ec-1fa1-45a3-b7f0-8a3b3c3ea168",
   "metadata": {},
   "outputs": [
    {
     "data": {
      "text/plain": [
       "[(0, ('AUTOMOTIVE', ('TSLA', 100))),\n",
       " (0, ('AUTOMOTIVE', ('GN', 100))),\n",
       " (4, ('mANUFACTORING', ('SYM2', 67))),\n",
       " (1, ('TEXTILE', ('SYM1', 45)))]"
      ]
     },
     "execution_count": 10,
     "metadata": {},
     "output_type": "execute_result"
    }
   ],
   "source": [
    "# joins\n",
    "sectors = [\n",
    "    # sector id, sector name\n",
    "    (0, \"AUTOMOTIVE\"),\n",
    "    (1, \"TEXTILE\"),\n",
    "    (2, \"IT\"),\n",
    "    (4, \"mANUFACTORING\")\n",
    "]\n",
    "\n",
    "stocks = [\n",
    "    # sector id, symbol, price\n",
    "    (0, (\"TSLA\", 100)),\n",
    "    (0, (\"GN\", 100)),\n",
    "    (1, (\"SYM1\", 45)),\n",
    "    (4, (\"SYM2\", 67))\n",
    "]\n",
    "\n",
    "sectorRdd = sc.parallelize(sectors)\n",
    "stocksRdd = sc.parallelize(stocks)\n",
    "\n",
    "joinRdd = sectorRdd.join(stocksRdd)\n",
    "joinRdd.collect()"
   ]
  },
  {
   "cell_type": "code",
   "execution_count": null,
   "id": "debd809f-7916-4df7-a1e6-a1e093acd0b1",
   "metadata": {},
   "outputs": [],
   "source": []
  }
 ],
 "metadata": {
  "kernelspec": {
   "display_name": "Python 3 (ipykernel)",
   "language": "python",
   "name": "python3"
  },
  "language_info": {
   "codemirror_mode": {
    "name": "ipython",
    "version": 3
   },
   "file_extension": ".py",
   "mimetype": "text/x-python",
   "name": "python",
   "nbconvert_exporter": "python",
   "pygments_lexer": "ipython3",
   "version": "3.7.12"
  }
 },
 "nbformat": 4,
 "nbformat_minor": 5
}
