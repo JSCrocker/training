{
 "cells": [
  {
   "cell_type": "code",
   "execution_count": 1,
   "id": "4b91d240-815b-4fc0-85ab-67fa5ebde056",
   "metadata": {},
   "outputs": [
    {
     "name": "stderr",
     "output_type": "stream",
     "text": [
      "22/03/02 01:34:05 WARN Utils: Your hostname, ubuntu-virtual-machine resolves to a loopback address: 127.0.1.1; using 192.168.80.128 instead (on interface ens33)\n",
      "22/03/02 01:34:05 WARN Utils: Set SPARK_LOCAL_IP if you need to bind to another address\n",
      "22/03/02 01:34:06 WARN NativeCodeLoader: Unable to load native-hadoop library for your platform... using builtin-java classes where applicable\n",
      "Using Spark's default log4j profile: org/apache/spark/log4j-defaults.properties\n",
      "Setting default log level to \"WARN\".\n",
      "To adjust logging level use sc.setLogLevel(newLevel). For SparkR, use setLogLevel(newLevel).\n",
      "22/03/02 01:34:08 WARN Utils: Service 'SparkUI' could not bind on port 4040. Attempting port 4041.\n",
      "22/03/02 01:34:08 WARN Utils: Service 'SparkUI' could not bind on port 4041. Attempting port 4042.\n"
     ]
    }
   ],
   "source": [
    "# will always need this 4 lines to start \n",
    "import findspark\n",
    "findspark.init()\n",
    "from pyspark import SparkContext\n",
    "sc = SparkContext(\"local\", \"IntersectionUnion\")"
   ]
  },
  {
   "cell_type": "code",
   "execution_count": 2,
   "id": "9d2fb1ef-e64c-4cc5-9835-bffe3ef1b860",
   "metadata": {},
   "outputs": [],
   "source": [
    "# here general rdd apis\n",
    "dayTradeSymbols = sc.parallelize(['INFY', 'MINDTREE', 'TSLA'])\n",
    "swingTradeSymbols = sc.parallelize(['EMR', 'AAPLE', 'TSLA', 'INFY'])"
   ]
  },
  {
   "cell_type": "code",
   "execution_count": 4,
   "id": "d262ed5a-c0b3-40a9-a59b-afdc741a9dcc",
   "metadata": {},
   "outputs": [
    {
     "name": "stderr",
     "output_type": "stream",
     "text": [
      "                                                                                \r"
     ]
    },
    {
     "data": {
      "text/plain": [
       "['INFY', 'TSLA']"
      ]
     },
     "execution_count": 4,
     "metadata": {},
     "output_type": "execute_result"
    }
   ],
   "source": [
    "# return the elements/stock that are present in both\n",
    "intersectionRdd = dayTradeSymbols.intersection(swingTradeSymbols)\n",
    "intersectionRdd.collect()"
   ]
  },
  {
   "cell_type": "code",
   "execution_count": 5,
   "id": "e4bde305-bf3c-4a94-bad1-9551ccdbca9a",
   "metadata": {},
   "outputs": [
    {
     "data": {
      "text/plain": [
       "['INFY', 'MINDTREE', 'TSLA', 'EMR', 'AAPLE', 'TSLA', 'INFY']"
      ]
     },
     "execution_count": 5,
     "metadata": {},
     "output_type": "execute_result"
    }
   ],
   "source": [
    "unionRdd = dayTradeSymbols.union(swingTradeSymbols)\n",
    "unionRdd.collect()"
   ]
  },
  {
   "cell_type": "code",
   "execution_count": 7,
   "id": "b8882208-4ad3-457f-9ec2-fafe78e54c17",
   "metadata": {},
   "outputs": [
    {
     "data": {
      "text/plain": [
       "['INFY', 'EMR', 'MINDTREE', 'TSLA', 'AAPLE']"
      ]
     },
     "execution_count": 7,
     "metadata": {},
     "output_type": "execute_result"
    }
   ],
   "source": [
    "# distrinct, remove dup\n",
    "# unionRdd has dups TSLA, INFY\n",
    "distinctRdd = unionRdd.distinct()\n",
    "distinctRdd.collect()"
   ]
  },
  {
   "cell_type": "code",
   "execution_count": null,
   "id": "c51daf5a-174a-46c9-ad5f-5a1b12106eb5",
   "metadata": {},
   "outputs": [],
   "source": []
  }
 ],
 "metadata": {
  "kernelspec": {
   "display_name": "Python 3 (ipykernel)",
   "language": "python",
   "name": "python3"
  },
  "language_info": {
   "codemirror_mode": {
    "name": "ipython",
    "version": 3
   },
   "file_extension": ".py",
   "mimetype": "text/x-python",
   "name": "python",
   "nbconvert_exporter": "python",
   "pygments_lexer": "ipython3",
   "version": "3.7.12"
  }
 },
 "nbformat": 4,
 "nbformat_minor": 5
}
