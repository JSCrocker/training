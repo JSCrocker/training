{
 "cells": [
  {
   "cell_type": "code",
   "execution_count": 1,
   "id": "836c8db6-e131-4409-b837-73c1408efb8f",
   "metadata": {},
   "outputs": [
    {
     "name": "stderr",
     "output_type": "stream",
     "text": [
      "22/02/28 23:01:17 WARN Utils: Your hostname, ubuntu-virtual-machine resolves to a loopback address: 127.0.1.1; using 192.168.80.128 instead (on interface ens33)\n",
      "22/02/28 23:01:17 WARN Utils: Set SPARK_LOCAL_IP if you need to bind to another address\n",
      "22/02/28 23:01:18 WARN NativeCodeLoader: Unable to load native-hadoop library for your platform... using builtin-java classes where applicable\n",
      "Using Spark's default log4j profile: org/apache/spark/log4j-defaults.properties\n",
      "Setting default log level to \"WARN\".\n",
      "To adjust logging level use sc.setLogLevel(newLevel). For SparkR, use setLogLevel(newLevel).\n",
      "22/02/28 23:01:21 WARN Utils: Service 'SparkUI' could not bind on port 4040. Attempting port 4041.\n",
      "22/02/28 23:01:21 WARN Utils: Service 'SparkUI' could not bind on port 4041. Attempting port 4042.\n",
      "22/02/28 23:01:21 WARN Utils: Service 'SparkUI' could not bind on port 4042. Attempting port 4043.\n",
      "22/02/28 23:01:21 WARN Utils: Service 'SparkUI' could not bind on port 4043. Attempting port 4044.\n"
     ]
    }
   ],
   "source": [
    "# will always need this 4 lines to start \n",
    "import findspark\n",
    "findspark.init()\n",
    "from pyspark import SparkContext\n",
    "sc = SparkContext(\"local\", \"PartitionBasic2\")"
   ]
  },
  {
   "cell_type": "code",
   "execution_count": 2,
   "id": "7e57ec00-8448-42b9-a033-a7efbbe63c0e",
   "metadata": {},
   "outputs": [],
   "source": [
    "data = range(1, 10)\n",
    "# create RDD with 2 partitions\n",
    "rdd1 = sc.parallelize(data, 2) # 2 is the number of partitions"
   ]
  },
  {
   "cell_type": "code",
   "execution_count": 3,
   "id": "c3ef7c7f-040a-43ef-8ea0-b274213db06f",
   "metadata": {},
   "outputs": [
    {
     "data": {
      "text/plain": [
       "2"
      ]
     },
     "execution_count": 3,
     "metadata": {},
     "output_type": "execute_result"
    }
   ],
   "source": [
    "rdd1.getNumPartitions()"
   ]
  },
  {
   "cell_type": "code",
   "execution_count": 4,
   "id": "147b7577-c2af-4dc6-a70e-e476dd7d5d30",
   "metadata": {},
   "outputs": [
    {
     "name": "stderr",
     "output_type": "stream",
     "text": [
      "                                                                                \r"
     ]
    },
    {
     "data": {
      "text/plain": [
       "[1, 2, 3, 4, 5, 6, 7, 8, 9]"
      ]
     },
     "execution_count": 4,
     "metadata": {},
     "output_type": "execute_result"
    }
   ],
   "source": [
    "# collect take data from all partitions()\n",
    "data = rdd1.collect()\n",
    "data"
   ]
  },
  {
   "cell_type": "code",
   "execution_count": 5,
   "id": "e820cec5-8d11-453e-b801-4adf7e7368c4",
   "metadata": {},
   "outputs": [
    {
     "name": "stdout",
     "output_type": "stream",
     "text": [
      "[[1, 2, 3, 4], [5, 6, 7, 8, 9]]\n"
     ]
    }
   ],
   "source": [
    "# glom() collect data from each partitions as List\n",
    "data = rdd1.glom().collect()\n",
    "print(data)\n",
    "# see the output, we have list of list of elements\n",
    "# [1,2,3,4] is from partition 0\n",
    "# [5,6,7,8,9] is from partition 1"
   ]
  },
  {
   "cell_type": "code",
   "execution_count": 7,
   "id": "6c254209-c6d0-4354-89ca-a3061b790415",
   "metadata": {},
   "outputs": [
    {
     "name": "stdout",
     "output_type": "stream",
     "text": [
      "[1, 2, 3]\n"
     ]
    }
   ],
   "source": [
    "# take command collect first few elements, partition 0 onwards\n",
    "data = rdd1.take(3) # from partition 0\n",
    "print(data)"
   ]
  },
  {
   "cell_type": "code",
   "execution_count": 8,
   "id": "b379bcea-d7ef-41c8-addc-ee02817165df",
   "metadata": {},
   "outputs": [
    {
     "name": "stdout",
     "output_type": "stream",
     "text": [
      "[1, 2, 3, 4, 5, 6]\n"
     ]
    }
   ],
   "source": [
    "# take 6 elements, where as partition 0 only have 4 elements\n",
    "# takes [1,2,3,4] from partition 0 and take [5,6] from partition 1\n",
    "data = rdd1.take(6) \n",
    "print(data)"
   ]
  },
  {
   "cell_type": "code",
   "execution_count": null,
   "id": "d38d9261-ad8a-46dd-be42-0d500c8084c4",
   "metadata": {},
   "outputs": [],
   "source": []
  }
 ],
 "metadata": {
  "kernelspec": {
   "display_name": "Python 3 (ipykernel)",
   "language": "python",
   "name": "python3"
  },
  "language_info": {
   "codemirror_mode": {
    "name": "ipython",
    "version": 3
   },
   "file_extension": ".py",
   "mimetype": "text/x-python",
   "name": "python",
   "nbconvert_exporter": "python",
   "pygments_lexer": "ipython3",
   "version": "3.7.12"
  }
 },
 "nbformat": 4,
 "nbformat_minor": 5
}
