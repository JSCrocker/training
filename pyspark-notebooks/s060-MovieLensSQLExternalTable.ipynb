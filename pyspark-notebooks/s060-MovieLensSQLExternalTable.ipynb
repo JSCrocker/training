{
 "cells": [
  {
   "cell_type": "code",
   "execution_count": null,
   "id": "7e1fb6e7-0535-4bfd-82a8-8e683dbdbe9e",
   "metadata": {},
   "outputs": [],
   "source": [
    "# use directly movies and ratings tables from moviedb which are external tables"
   ]
  },
  {
   "cell_type": "code",
   "execution_count": 1,
   "id": "9fb5e025-002d-481b-a129-aa06209bb5db",
   "metadata": {},
   "outputs": [],
   "source": [
    "import findspark\n",
    "findspark.init()"
   ]
  },
  {
   "cell_type": "code",
   "execution_count": 2,
   "id": "e8e46cac-ab47-4621-abb7-88ff78d7dd20",
   "metadata": {},
   "outputs": [
    {
     "name": "stderr",
     "output_type": "stream",
     "text": [
      "Warning: Ignoring non-Spark config property: hive.metastore.uris\n",
      "Warning: Ignoring non-Spark config property: hive.metastore.warehouse.dir\n",
      "22/03/08 02:07:30 WARN Utils: Your hostname, ubuntu-virtual-machine resolves to a loopback address: 127.0.1.1; using 192.168.80.128 instead (on interface ens33)\n",
      "22/03/08 02:07:30 WARN Utils: Set SPARK_LOCAL_IP if you need to bind to another address\n",
      "22/03/08 02:07:31 WARN NativeCodeLoader: Unable to load native-hadoop library for your platform... using builtin-java classes where applicable\n",
      "Using Spark's default log4j profile: org/apache/spark/log4j-defaults.properties\n",
      "Setting default log level to \"WARN\".\n",
      "To adjust logging level use sc.setLogLevel(newLevel). For SparkR, use setLogLevel(newLevel).\n",
      "22/03/08 02:07:31 WARN SparkConf: Note that spark.local.dir will be overridden by the value set by the cluster manager (via SPARK_LOCAL_DIRS in mesos/standalone/kubernetes and LOCAL_DIRS in YARN).\n"
     ]
    }
   ],
   "source": [
    "from pyspark.conf import SparkConf\n",
    "config = SparkConf()\n",
    "# config.set(\"property\", \"value\")\n",
    "config.setMaster(\"local\").setAppName(\"MovieLensSQLExternalTable\")\n",
    "\n",
    "config.set(\"spark.local.dir\", \"/home/ubuntu/spark-temp\")\n",
    "\n",
    "# while using \"hive.metastore.warehouse.dir, we should not use spark warehouse dir\n",
    "config.set(\"hive.metastore.uris\", \"thrift://localhost:9083\")\n",
    "config.set(\"hive.metastore.warehouse.dir\", \"hdfs://localhost:9000/user/hive/warehouse\")\n",
    "\n",
    "from pyspark.sql import SparkSession\n",
    "# spark Session, entry point for Spark SQL, DataFrame\n",
    "spark = SparkSession.builder\\\n",
    "                    .config(conf=config)\\\n",
    "                    .enableHiveSupport()\\\n",
    "                    .getOrCreate()\n",
    "\n",
    "sc = spark.sparkContext"
   ]
  },
  {
   "cell_type": "code",
   "execution_count": 3,
   "id": "7eb3e9b2-0e91-4135-b038-c51cbc88fc59",
   "metadata": {},
   "outputs": [
    {
     "name": "stdout",
     "output_type": "stream",
     "text": [
      "+--------+--------------------+--------------------+\n",
      "|movie_id|               title|              genres|\n",
      "+--------+--------------------+--------------------+\n",
      "|    null|               title|              genres|\n",
      "|       1|    Toy Story (1995)|Adventure|Animati...|\n",
      "|       2|      Jumanji (1995)|Adventure|Childre...|\n",
      "|       3|Grumpier Old Men ...|      Comedy|Romance|\n",
      "|       4|Waiting to Exhale...|Comedy|Drama|Romance|\n",
      "+--------+--------------------+--------------------+\n",
      "\n"
     ]
    }
   ],
   "source": [
    "# external talbe pointing to csv file(s)\n",
    "spark.sql(\"\"\"\n",
    "    SELECT * FROM moviedb.movies LIMIT 5\n",
    "    \"\"\"\n",
    "         ).show()"
   ]
  },
  {
   "cell_type": "code",
   "execution_count": 4,
   "id": "9826fb49-a9c7-46d5-8e67-2e78f4edf7d6",
   "metadata": {},
   "outputs": [
    {
     "name": "stdout",
     "output_type": "stream",
     "text": [
      "+-------+--------+------+----------------+\n",
      "|user_id|movie_id|rating|rating_timestamp|\n",
      "+-------+--------+------+----------------+\n",
      "|   null|    null|  null|            null|\n",
      "|      1|       1|     4|       964982703|\n",
      "|      1|       3|     4|       964981247|\n",
      "|      1|       6|     4|       964982224|\n",
      "|      1|      47|     5|       964983815|\n",
      "+-------+--------+------+----------------+\n",
      "\n"
     ]
    }
   ],
   "source": [
    "spark.sql(\"\"\"\n",
    "    SELECT * FROM moviedb.ratings LIMIT 5\n",
    "    \"\"\"\n",
    "         ).show()"
   ]
  },
  {
   "cell_type": "code",
   "execution_count": 7,
   "id": "d6051c14-abb3-47a7-aee6-e122c2a831a9",
   "metadata": {},
   "outputs": [
    {
     "name": "stdout",
     "output_type": "stream",
     "text": [
      "root\n",
      " |-- movie_id: integer (nullable = true)\n",
      " |-- avg_rating: decimal(14,4) (nullable = true)\n",
      " |-- total_ratings: long (nullable = false)\n",
      "\n"
     ]
    },
    {
     "name": "stderr",
     "output_type": "stream",
     "text": [
      "[Stage 4:>                                                          (0 + 1) / 1]"
     ]
    },
    {
     "name": "stdout",
     "output_type": "stream",
     "text": [
      "+--------+----------+-------------+\n",
      "|movie_id|avg_rating|total_ratings|\n",
      "+--------+----------+-------------+\n",
      "|    1580|    3.6364|          165|\n",
      "|    2366|    3.7200|           25|\n",
      "|    3175|    3.6933|           75|\n",
      "|    1088|    3.5714|           42|\n",
      "|   32460|    4.5000|            4|\n",
      "+--------+----------+-------------+\n",
      "only showing top 5 rows\n",
      "\n"
     ]
    },
    {
     "name": "stderr",
     "output_type": "stream",
     "text": [
      "                                                                                \r"
     ]
    }
   ],
   "source": [
    "# rating analytics for popular movies\n",
    "popularMovieDf = spark.sql(\"\"\"\n",
    "        SELECT movie_id, avg(rating) AS avg_rating, count(user_id) AS total_ratings\n",
    "        FROM moviedb.ratings\n",
    "        WHERE movie_id IS NOT NULL\n",
    "        GROUP BY movie_id        \n",
    "        \"\"\")     \n",
    "\n",
    "popularMovieDf.printSchema()\n",
    "popularMovieDf.show(5)"
   ]
  },
  {
   "cell_type": "code",
   "execution_count": 9,
   "id": "8c70d59f-2547-4e75-b958-1f4b0845efa3",
   "metadata": {},
   "outputs": [
    {
     "data": {
      "text/plain": [
       "DataFrame[]"
      ]
     },
     "execution_count": 9,
     "metadata": {},
     "output_type": "execute_result"
    }
   ],
   "source": [
    "# rating analytics for popular movies\n",
    "# create a temporary view out of SQL SELECT statement\n",
    "# CTAS - CREATE TABLE AS\n",
    "# the popular_movies will have output analytical query\n",
    "spark.sql(\"\"\"\n",
    "    CREATE OR REPLACE TEMP VIEW popular_movies AS\n",
    "    SELECT movie_id, avg(rating) AS avg_rating, count(user_id) AS total_ratings\n",
    "    FROM moviedb.ratings\n",
    "    WHERE movie_id IS NOT null\n",
    "    GROUP BY movie_id\n",
    "    HAVING avg_rating >= 3.5 AND total_ratings >= 100\n",
    "    \"\"\")     "
   ]
  },
  {
   "cell_type": "code",
   "execution_count": 10,
   "id": "a11b8718-40b4-4984-aa7f-d32ae9ce030b",
   "metadata": {},
   "outputs": [
    {
     "name": "stdout",
     "output_type": "stream",
     "text": [
      "+--------+--------------+-----------+\n",
      "|database|     tableName|isTemporary|\n",
      "+--------+--------------+-----------+\n",
      "| default|        brands|      false|\n",
      "| default|     employees|      false|\n",
      "| default|       moviedb|      false|\n",
      "| default|      payroles|      false|\n",
      "|        |popular_movies|       true|\n",
      "+--------+--------------+-----------+\n",
      "\n"
     ]
    }
   ],
   "source": [
    "spark.sql(\"SHOW TABLES\").show()"
   ]
  },
  {
   "cell_type": "code",
   "execution_count": 11,
   "id": "c768a3ec-722a-4f5d-8711-afd95fc8f6d5",
   "metadata": {},
   "outputs": [
    {
     "name": "stdout",
     "output_type": "stream",
     "text": [
      "+--------+----------+-------------+\n",
      "|movie_id|avg_rating|total_ratings|\n",
      "+--------+----------+-------------+\n",
      "|    1580|    3.6364|          165|\n",
      "|    1721|    3.5571|          140|\n",
      "|     858|    4.3958|          192|\n",
      "|    1270|    4.1696|          171|\n",
      "|    1265|    4.0699|          143|\n",
      "+--------+----------+-------------+\n",
      "only showing top 5 rows\n",
      "\n"
     ]
    }
   ],
   "source": [
    "spark.sql(\"SELECT * FROM popular_movies\").show(5)"
   ]
  },
  {
   "cell_type": "code",
   "execution_count": 12,
   "id": "aa1b7b5d-a67c-45d3-ba95-d6393fce82bd",
   "metadata": {},
   "outputs": [
    {
     "name": "stderr",
     "output_type": "stream",
     "text": [
      "22/03/08 02:18:13 WARN LazyStruct: Extra bytes detected at the end of the row! Ignoring similar problems.\n",
      "[Stage 14:====================================================> (194 + 1) / 200]"
     ]
    },
    {
     "name": "stdout",
     "output_type": "stream",
     "text": [
      "+--------+--------------------+----------+-------------+\n",
      "|movie_id|               title|avg_rating|total_ratings|\n",
      "+--------+--------------------+----------+-------------+\n",
      "|     318|\"Shawshank Redemp...|    4.5300|          317|\n",
      "|   48516|           \"Departed|    4.4673|          107|\n",
      "|    2959|   Fight Club (1999)|    4.4404|          218|\n",
      "|   58559|        \"Dark Knight|    4.4295|          149|\n",
      "|    1213|   Goodfellas (1990)|    4.3968|          126|\n",
      "|     858|          \"Godfather|    4.3958|          192|\n",
      "|    2329|American History ...|    4.3876|          129|\n",
      "|    1197|     \"Princess Bride|    4.3732|          142|\n",
      "|      50|     \"Usual Suspects|    4.3725|          204|\n",
      "|    1221| \"Godfather: Part II|    4.3721|          129|\n",
      "|     912|   Casablanca (1942)|    4.3600|          100|\n",
      "|    7361|Eternal Sunshine ...|    4.3511|          131|\n",
      "|     527|Schindler's List ...|    4.3500|          220|\n",
      "|    1193|One Flew Over the...|    4.3308|          133|\n",
      "|     260|Star Wars: Episod...|    4.3307|          251|\n",
      "|    1208|Apocalypse Now (1...|    4.3271|          107|\n",
      "|    1196|Star Wars: Episod...|    4.3270|          211|\n",
      "|    4226|      Memento (2000)|    4.3208|          159|\n",
      "|    2571|             \"Matrix|    4.3201|          278|\n",
      "|    1198|Raiders of the Lo...|    4.3200|          200|\n",
      "+--------+--------------------+----------+-------------+\n",
      "only showing top 20 rows\n",
      "\n"
     ]
    },
    {
     "name": "stderr",
     "output_type": "stream",
     "text": [
      "                                                                                \r"
     ]
    }
   ],
   "source": [
    "# join to get the movie title\n",
    "# INNER JOIN moviedb.movies movies. in this statement, movies is an ALAIS\n",
    "spark.sql(\"\"\"\n",
    "    SELECT movies.movie_id, title, avg_rating, total_ratings\n",
    "    FROM popular_movies\n",
    "    INNER JOIN moviedb.movies movies ON popular_movies.movie_iD = movies.movie_id\n",
    "    ORDER BY avg_rating DESC\n",
    "    \"\"\").show()"
   ]
  },
  {
   "cell_type": "code",
   "execution_count": 13,
   "id": "d092abf4-b925-4e2f-8cc0-f6bdfac1a860",
   "metadata": {},
   "outputs": [
    {
     "data": {
      "text/plain": [
       "DataFrame[]"
      ]
     },
     "execution_count": 13,
     "metadata": {},
     "output_type": "execute_result"
    }
   ],
   "source": [
    "# CREATE A PERMANENT MANAGED TABLE in HIVE CATALOG\n",
    "# data will be stored in /user/hive/warehouse/moviedb/popular_movies\n",
    "# CTAS create table as select\n",
    "# FIXME\n",
    "\n",
    "spark.sql(\"\"\"\n",
    "    CREATE OR REPLACE TEMP VIEW most_popular_movies AS \n",
    "    SELECT movies.movie_id, title, avg_rating, total_ratings\n",
    "    FROM popular_movies\n",
    "    INNER JOIN moviedb.movies movies ON popular_movies.movie_iD = movies.movie_id\n",
    "    ORDER BY avg_rating DESC\n",
    "    \"\"\")"
   ]
  },
  {
   "cell_type": "code",
   "execution_count": 14,
   "id": "2a6a3cee-5075-445b-8148-3942c229d62b",
   "metadata": {},
   "outputs": [
    {
     "name": "stderr",
     "output_type": "stream",
     "text": [
      "22/03/08 02:20:26 WARN LazyStruct: Extra bytes detected at the end of the row! Ignoring similar problems.\n",
      "[Stage 17:========================================>             (150 + 2) / 200]"
     ]
    },
    {
     "name": "stdout",
     "output_type": "stream",
     "text": [
      "+--------+--------------------+----------+-------------+\n",
      "|movie_id|               title|avg_rating|total_ratings|\n",
      "+--------+--------------------+----------+-------------+\n",
      "|     318|\"Shawshank Redemp...|    4.5300|          317|\n",
      "|   48516|           \"Departed|    4.4673|          107|\n",
      "|    2959|   Fight Club (1999)|    4.4404|          218|\n",
      "|   58559|        \"Dark Knight|    4.4295|          149|\n",
      "|    1213|   Goodfellas (1990)|    4.3968|          126|\n",
      "+--------+--------------------+----------+-------------+\n",
      "only showing top 5 rows\n",
      "\n"
     ]
    },
    {
     "name": "stderr",
     "output_type": "stream",
     "text": [
      "                                                                                \r"
     ]
    }
   ],
   "source": [
    "spark.sql(\"SELECT * FROM most_popular_movies\").show(5)"
   ]
  },
  {
   "cell_type": "code",
   "execution_count": 15,
   "id": "4f5647ec-4349-4454-815c-29aabdb4092e",
   "metadata": {},
   "outputs": [
    {
     "name": "stderr",
     "output_type": "stream",
     "text": [
      "22/03/08 02:21:08 WARN LazyStruct: Extra bytes detected at the end of the row! Ignoring similar problems.\n",
      "[Stage 23:>                                                       (1 + 1) / 121]22/03/08 02:21:13 WARN DFSClient: Caught exception \n",
      "java.lang.InterruptedException\n",
      "\tat java.lang.Object.wait(Native Method)\n",
      "\tat java.lang.Thread.join(Thread.java:1252)\n",
      "\tat java.lang.Thread.join(Thread.java:1326)\n",
      "\tat org.apache.hadoop.hdfs.DFSOutputStream$DataStreamer.closeResponder(DFSOutputStream.java:609)\n",
      "\tat org.apache.hadoop.hdfs.DFSOutputStream$DataStreamer.endBlock(DFSOutputStream.java:370)\n",
      "\tat org.apache.hadoop.hdfs.DFSOutputStream$DataStreamer.run(DFSOutputStream.java:546)\n",
      "[Stage 23:=====>                                                 (12 + 1) / 121]22/03/08 02:21:14 WARN DFSClient: Caught exception \n",
      "java.lang.InterruptedException\n",
      "\tat java.lang.Object.wait(Native Method)\n",
      "\tat java.lang.Thread.join(Thread.java:1252)\n",
      "\tat java.lang.Thread.join(Thread.java:1326)\n",
      "\tat org.apache.hadoop.hdfs.DFSOutputStream$DataStreamer.closeResponder(DFSOutputStream.java:609)\n",
      "\tat org.apache.hadoop.hdfs.DFSOutputStream$DataStreamer.endBlock(DFSOutputStream.java:370)\n",
      "\tat org.apache.hadoop.hdfs.DFSOutputStream$DataStreamer.run(DFSOutputStream.java:546)\n",
      "[Stage 23:=======>                                               (17 + 1) / 121]22/03/08 02:21:15 WARN DFSClient: Caught exception \n",
      "java.lang.InterruptedException\n",
      "\tat java.lang.Object.wait(Native Method)\n",
      "\tat java.lang.Thread.join(Thread.java:1252)\n",
      "\tat java.lang.Thread.join(Thread.java:1326)\n",
      "\tat org.apache.hadoop.hdfs.DFSOutputStream$DataStreamer.closeResponder(DFSOutputStream.java:609)\n",
      "\tat org.apache.hadoop.hdfs.DFSOutputStream$DataStreamer.endBlock(DFSOutputStream.java:370)\n",
      "\tat org.apache.hadoop.hdfs.DFSOutputStream$DataStreamer.run(DFSOutputStream.java:546)\n",
      "[Stage 23:=========>                                             (20 + 1) / 121]22/03/08 02:21:15 WARN DFSClient: Caught exception \n",
      "java.lang.InterruptedException\n",
      "\tat java.lang.Object.wait(Native Method)\n",
      "\tat java.lang.Thread.join(Thread.java:1252)\n",
      "\tat java.lang.Thread.join(Thread.java:1326)\n",
      "\tat org.apache.hadoop.hdfs.DFSOutputStream$DataStreamer.closeResponder(DFSOutputStream.java:609)\n",
      "\tat org.apache.hadoop.hdfs.DFSOutputStream$DataStreamer.endBlock(DFSOutputStream.java:370)\n",
      "\tat org.apache.hadoop.hdfs.DFSOutputStream$DataStreamer.run(DFSOutputStream.java:546)\n",
      "22/03/08 02:21:15 WARN DFSClient: Caught exception \n",
      "java.lang.InterruptedException\n",
      "\tat java.lang.Object.wait(Native Method)\n",
      "\tat java.lang.Thread.join(Thread.java:1252)\n",
      "\tat java.lang.Thread.join(Thread.java:1326)\n",
      "\tat org.apache.hadoop.hdfs.DFSOutputStream$DataStreamer.closeResponder(DFSOutputStream.java:609)\n",
      "\tat org.apache.hadoop.hdfs.DFSOutputStream$DataStreamer.endBlock(DFSOutputStream.java:370)\n",
      "\tat org.apache.hadoop.hdfs.DFSOutputStream$DataStreamer.run(DFSOutputStream.java:546)\n",
      "[Stage 23:===========>                                           (25 + 1) / 121]22/03/08 02:21:15 WARN DFSClient: Caught exception \n",
      "java.lang.InterruptedException\n",
      "\tat java.lang.Object.wait(Native Method)\n",
      "\tat java.lang.Thread.join(Thread.java:1252)\n",
      "\tat java.lang.Thread.join(Thread.java:1326)\n",
      "\tat org.apache.hadoop.hdfs.DFSOutputStream$DataStreamer.closeResponder(DFSOutputStream.java:609)\n",
      "\tat org.apache.hadoop.hdfs.DFSOutputStream$DataStreamer.endBlock(DFSOutputStream.java:370)\n",
      "\tat org.apache.hadoop.hdfs.DFSOutputStream$DataStreamer.run(DFSOutputStream.java:546)\n",
      "[Stage 23:============>                                          (28 + 1) / 121]22/03/08 02:21:15 WARN DFSClient: Caught exception \n",
      "java.lang.InterruptedException\n",
      "\tat java.lang.Object.wait(Native Method)\n",
      "\tat java.lang.Thread.join(Thread.java:1252)\n",
      "\tat java.lang.Thread.join(Thread.java:1326)\n",
      "\tat org.apache.hadoop.hdfs.DFSOutputStream$DataStreamer.closeResponder(DFSOutputStream.java:609)\n",
      "\tat org.apache.hadoop.hdfs.DFSOutputStream$DataStreamer.endBlock(DFSOutputStream.java:370)\n",
      "\tat org.apache.hadoop.hdfs.DFSOutputStream$DataStreamer.run(DFSOutputStream.java:546)\n",
      "[Stage 23:=========================>                             (56 + 1) / 121]22/03/08 02:21:17 WARN DFSClient: Caught exception \n",
      "java.lang.InterruptedException\n",
      "\tat java.lang.Object.wait(Native Method)\n",
      "\tat java.lang.Thread.join(Thread.java:1252)\n",
      "\tat java.lang.Thread.join(Thread.java:1326)\n",
      "\tat org.apache.hadoop.hdfs.DFSOutputStream$DataStreamer.closeResponder(DFSOutputStream.java:609)\n",
      "\tat org.apache.hadoop.hdfs.DFSOutputStream$DataStreamer.endBlock(DFSOutputStream.java:370)\n",
      "\tat org.apache.hadoop.hdfs.DFSOutputStream$DataStreamer.run(DFSOutputStream.java:546)\n",
      "[Stage 23:=============================>                         (64 + 1) / 121]22/03/08 02:21:18 WARN DFSClient: Caught exception \n",
      "java.lang.InterruptedException\n",
      "\tat java.lang.Object.wait(Native Method)\n",
      "\tat java.lang.Thread.join(Thread.java:1252)\n",
      "\tat java.lang.Thread.join(Thread.java:1326)\n",
      "\tat org.apache.hadoop.hdfs.DFSOutputStream$DataStreamer.closeResponder(DFSOutputStream.java:609)\n",
      "\tat org.apache.hadoop.hdfs.DFSOutputStream$DataStreamer.endBlock(DFSOutputStream.java:370)\n",
      "\tat org.apache.hadoop.hdfs.DFSOutputStream$DataStreamer.run(DFSOutputStream.java:546)\n",
      "[Stage 23:===============================>                       (69 + 1) / 121]22/03/08 02:21:18 WARN DFSClient: Caught exception \n",
      "java.lang.InterruptedException\n",
      "\tat java.lang.Object.wait(Native Method)\n",
      "\tat java.lang.Thread.join(Thread.java:1252)\n",
      "\tat java.lang.Thread.join(Thread.java:1326)\n",
      "\tat org.apache.hadoop.hdfs.DFSOutputStream$DataStreamer.closeResponder(DFSOutputStream.java:609)\n",
      "\tat org.apache.hadoop.hdfs.DFSOutputStream$DataStreamer.closeInternal(DFSOutputStream.java:577)\n",
      "\tat org.apache.hadoop.hdfs.DFSOutputStream$DataStreamer.run(DFSOutputStream.java:573)\n",
      "[Stage 23:=======================================>               (86 + 1) / 121]22/03/08 02:21:18 WARN DFSClient: Caught exception \n",
      "java.lang.InterruptedException\n",
      "\tat java.lang.Object.wait(Native Method)\n",
      "\tat java.lang.Thread.join(Thread.java:1252)\n",
      "\tat java.lang.Thread.join(Thread.java:1326)\n",
      "\tat org.apache.hadoop.hdfs.DFSOutputStream$DataStreamer.closeResponder(DFSOutputStream.java:609)\n",
      "\tat org.apache.hadoop.hdfs.DFSOutputStream$DataStreamer.endBlock(DFSOutputStream.java:370)\n",
      "\tat org.apache.hadoop.hdfs.DFSOutputStream$DataStreamer.run(DFSOutputStream.java:546)\n",
      "[Stage 23:============================================>          (97 + 1) / 121]22/03/08 02:21:19 WARN DFSClient: Caught exception \n",
      "java.lang.InterruptedException\n",
      "\tat java.lang.Object.wait(Native Method)\n",
      "\tat java.lang.Thread.join(Thread.java:1252)\n",
      "\tat java.lang.Thread.join(Thread.java:1326)\n",
      "\tat org.apache.hadoop.hdfs.DFSOutputStream$DataStreamer.closeResponder(DFSOutputStream.java:609)\n",
      "\tat org.apache.hadoop.hdfs.DFSOutputStream$DataStreamer.closeInternal(DFSOutputStream.java:577)\n",
      "\tat org.apache.hadoop.hdfs.DFSOutputStream$DataStreamer.run(DFSOutputStream.java:573)\n",
      "22/03/08 02:21:19 WARN DFSClient: Caught exception \n",
      "java.lang.InterruptedException\n",
      "\tat java.lang.Object.wait(Native Method)\n",
      "\tat java.lang.Thread.join(Thread.java:1252)\n",
      "\tat java.lang.Thread.join(Thread.java:1326)\n",
      "\tat org.apache.hadoop.hdfs.DFSOutputStream$DataStreamer.closeResponder(DFSOutputStream.java:609)\n",
      "\tat org.apache.hadoop.hdfs.DFSOutputStream$DataStreamer.endBlock(DFSOutputStream.java:370)\n",
      "\tat org.apache.hadoop.hdfs.DFSOutputStream$DataStreamer.run(DFSOutputStream.java:546)\n",
      "[Stage 23:=============================================>        (102 + 1) / 121]22/03/08 02:21:19 WARN DFSClient: Caught exception \n",
      "java.lang.InterruptedException\n",
      "\tat java.lang.Object.wait(Native Method)\n",
      "\tat java.lang.Thread.join(Thread.java:1252)\n",
      "\tat java.lang.Thread.join(Thread.java:1326)\n",
      "\tat org.apache.hadoop.hdfs.DFSOutputStream$DataStreamer.closeResponder(DFSOutputStream.java:609)\n",
      "\tat org.apache.hadoop.hdfs.DFSOutputStream$DataStreamer.endBlock(DFSOutputStream.java:370)\n",
      "\tat org.apache.hadoop.hdfs.DFSOutputStream$DataStreamer.run(DFSOutputStream.java:546)\n",
      "22/03/08 02:21:19 WARN DFSClient: Caught exception \n",
      "java.lang.InterruptedException\n",
      "\tat java.lang.Object.wait(Native Method)\n",
      "\tat java.lang.Thread.join(Thread.java:1252)\n",
      "\tat java.lang.Thread.join(Thread.java:1326)\n",
      "\tat org.apache.hadoop.hdfs.DFSOutputStream$DataStreamer.closeResponder(DFSOutputStream.java:609)\n",
      "\tat org.apache.hadoop.hdfs.DFSOutputStream$DataStreamer.endBlock(DFSOutputStream.java:370)\n",
      "\tat org.apache.hadoop.hdfs.DFSOutputStream$DataStreamer.run(DFSOutputStream.java:546)\n",
      "22/03/08 02:21:19 WARN DFSClient: Caught exception \n",
      "java.lang.InterruptedException\n",
      "\tat java.lang.Object.wait(Native Method)\n",
      "\tat java.lang.Thread.join(Thread.java:1252)\n",
      "\tat java.lang.Thread.join(Thread.java:1326)\n",
      "\tat org.apache.hadoop.hdfs.DFSOutputStream$DataStreamer.closeResponder(DFSOutputStream.java:609)\n",
      "\tat org.apache.hadoop.hdfs.DFSOutputStream$DataStreamer.endBlock(DFSOutputStream.java:370)\n",
      "\tat org.apache.hadoop.hdfs.DFSOutputStream$DataStreamer.run(DFSOutputStream.java:546)\n",
      "[Stage 23:================================================>     (108 + 1) / 121]22/03/08 02:21:19 WARN DFSClient: Caught exception \n",
      "java.lang.InterruptedException\n",
      "\tat java.lang.Object.wait(Native Method)\n",
      "\tat java.lang.Thread.join(Thread.java:1252)\n",
      "\tat java.lang.Thread.join(Thread.java:1326)\n",
      "\tat org.apache.hadoop.hdfs.DFSOutputStream$DataStreamer.closeResponder(DFSOutputStream.java:609)\n",
      "\tat org.apache.hadoop.hdfs.DFSOutputStream$DataStreamer.endBlock(DFSOutputStream.java:370)\n",
      "\tat org.apache.hadoop.hdfs.DFSOutputStream$DataStreamer.run(DFSOutputStream.java:546)\n",
      "[Stage 23:=================================================>    (112 + 1) / 121]22/03/08 02:21:19 WARN DFSClient: Caught exception \n",
      "java.lang.InterruptedException\n",
      "\tat java.lang.Object.wait(Native Method)\n",
      "\tat java.lang.Thread.join(Thread.java:1252)\n",
      "\tat java.lang.Thread.join(Thread.java:1326)\n",
      "\tat org.apache.hadoop.hdfs.DFSOutputStream$DataStreamer.closeResponder(DFSOutputStream.java:609)\n",
      "\tat org.apache.hadoop.hdfs.DFSOutputStream$DataStreamer.endBlock(DFSOutputStream.java:370)\n",
      "\tat org.apache.hadoop.hdfs.DFSOutputStream$DataStreamer.run(DFSOutputStream.java:546)\n",
      "22/03/08 02:21:20 WARN DFSClient: Caught exception \n",
      "java.lang.InterruptedException\n",
      "\tat java.lang.Object.wait(Native Method)\n",
      "\tat java.lang.Thread.join(Thread.java:1252)\n",
      "\tat java.lang.Thread.join(Thread.java:1326)\n",
      "\tat org.apache.hadoop.hdfs.DFSOutputStream$DataStreamer.closeResponder(DFSOutputStream.java:609)\n",
      "\tat org.apache.hadoop.hdfs.DFSOutputStream$DataStreamer.endBlock(DFSOutputStream.java:370)\n",
      "\tat org.apache.hadoop.hdfs.DFSOutputStream$DataStreamer.run(DFSOutputStream.java:546)\n",
      "[Stage 23:===================================================>  (115 + 1) / 121]22/03/08 02:21:20 WARN DFSClient: Caught exception \n",
      "java.lang.InterruptedException\n",
      "\tat java.lang.Object.wait(Native Method)\n",
      "\tat java.lang.Thread.join(Thread.java:1252)\n",
      "\tat java.lang.Thread.join(Thread.java:1326)\n",
      "\tat org.apache.hadoop.hdfs.DFSOutputStream$DataStreamer.closeResponder(DFSOutputStream.java:609)\n",
      "\tat org.apache.hadoop.hdfs.DFSOutputStream$DataStreamer.endBlock(DFSOutputStream.java:370)\n",
      "\tat org.apache.hadoop.hdfs.DFSOutputStream$DataStreamer.run(DFSOutputStream.java:546)\n",
      "22/03/08 02:21:20 WARN DFSClient: Caught exception \n",
      "java.lang.InterruptedException\n",
      "\tat java.lang.Object.wait(Native Method)\n",
      "\tat java.lang.Thread.join(Thread.java:1252)\n",
      "\tat java.lang.Thread.join(Thread.java:1326)\n",
      "\tat org.apache.hadoop.hdfs.DFSOutputStream$DataStreamer.closeResponder(DFSOutputStream.java:609)\n",
      "\tat org.apache.hadoop.hdfs.DFSOutputStream$DataStreamer.endBlock(DFSOutputStream.java:370)\n",
      "\tat org.apache.hadoop.hdfs.DFSOutputStream$DataStreamer.run(DFSOutputStream.java:546)\n",
      "22/03/08 02:21:20 WARN DFSClient: Caught exception \n",
      "java.lang.InterruptedException\n",
      "\tat java.lang.Object.wait(Native Method)\n",
      "\tat java.lang.Thread.join(Thread.java:1252)\n",
      "\tat java.lang.Thread.join(Thread.java:1326)\n",
      "\tat org.apache.hadoop.hdfs.DFSOutputStream$DataStreamer.closeResponder(DFSOutputStream.java:609)\n",
      "\tat org.apache.hadoop.hdfs.DFSOutputStream$DataStreamer.closeInternal(DFSOutputStream.java:577)\n",
      "\tat org.apache.hadoop.hdfs.DFSOutputStream$DataStreamer.run(DFSOutputStream.java:573)\n",
      "22/03/08 02:21:21 WARN LazyStruct: Extra bytes detected at the end of the row! Ignoring similar problems.\n",
      "[Stage 26:======================================>               (141 + 2) / 200]"
     ]
    },
    {
     "name": "stdout",
     "output_type": "stream",
     "text": [
      "+--------+--------------------+----------+-------------+\n",
      "|movie_id|               title|avg_rating|total_ratings|\n",
      "+--------+--------------------+----------+-------------+\n",
      "|     318|\"Shawshank Redemp...|    4.5300|          317|\n",
      "|   48516|           \"Departed|    4.4673|          107|\n",
      "|    2959|   Fight Club (1999)|    4.4404|          218|\n",
      "|   58559|        \"Dark Knight|    4.4295|          149|\n",
      "|    1213|   Goodfellas (1990)|    4.3968|          126|\n",
      "+--------+--------------------+----------+-------------+\n",
      "only showing top 5 rows\n",
      "\n"
     ]
    },
    {
     "name": "stderr",
     "output_type": "stream",
     "text": [
      "                                                                                \r"
     ]
    }
   ],
   "source": [
    "# get dataframe from table/temp view\n",
    "most_popular_moviesDf = spark.table(\"most_popular_movies\")\n",
    "most_popular_moviesDf.write\\\n",
    "                        .mode('overwrite')\\\n",
    "                        .saveAsTable(\"moviedb.most_popular_movies2\")\n",
    "most_popular_moviesDf.show(5)"
   ]
  },
  {
   "cell_type": "code",
   "execution_count": 16,
   "id": "d60255c9-8658-4eac-81ad-c59255783bc4",
   "metadata": {},
   "outputs": [
    {
     "name": "stdout",
     "output_type": "stream",
     "text": [
      "+-------+--------------------+------------------+-------------+\n",
      "|movieId|               title|        avg_rating|total_ratings|\n",
      "+-------+--------------------+------------------+-------------+\n",
      "|   4896|Harry Potter and ...|3.7616822429906542|          107|\n",
      "|   1198|Raiders of the Lo...|            4.2075|          200|\n",
      "|    293|Léon: The Profess...| 4.018796992481203|          133|\n",
      "|   6539|Pirates of the Ca...| 3.778523489932886|          149|\n",
      "|   4993|Lord of the Rings...| 4.106060606060606|          198|\n",
      "+-------+--------------------+------------------+-------------+\n",
      "only showing top 5 rows\n",
      "\n"
     ]
    }
   ],
   "source": [
    "spark.sql(\"SELECT * FROM moviedb.most_popular_movies\").show(5)"
   ]
  },
  {
   "cell_type": "code",
   "execution_count": 17,
   "id": "58f0be01-83b3-494e-baf4-3499a2630c0d",
   "metadata": {},
   "outputs": [
    {
     "name": "stdout",
     "output_type": "stream",
     "text": [
      "+--------+--------------------+-----------+\n",
      "|database|           tableName|isTemporary|\n",
      "+--------+--------------------+-----------+\n",
      "| moviedb| most_popular_movies|      false|\n",
      "| moviedb|most_popular_movies2|      false|\n",
      "| moviedb|              movies|      false|\n",
      "| moviedb|             ratings|      false|\n",
      "| moviedb|             reviews|      false|\n",
      "|        | most_popular_movies|       true|\n",
      "|        |      popular_movies|       true|\n",
      "+--------+--------------------+-----------+\n",
      "\n"
     ]
    }
   ],
   "source": [
    "spark.sql(\"SHOW TABLES IN moviedb\").show()"
   ]
  },
  {
   "cell_type": "code",
   "execution_count": null,
   "id": "94c1bc65-14ad-4081-80fb-895baa295522",
   "metadata": {},
   "outputs": [],
   "source": [
    "# On hive CLI\n",
    "\"\"\"\n",
    "SELECT * FROM moviedb.most_popular_movies;\n",
    "\"\"\""
   ]
  }
 ],
 "metadata": {
  "kernelspec": {
   "display_name": "Python 3 (ipykernel)",
   "language": "python",
   "name": "python3"
  },
  "language_info": {
   "codemirror_mode": {
    "name": "ipython",
    "version": 3
   },
   "file_extension": ".py",
   "mimetype": "text/x-python",
   "name": "python",
   "nbconvert_exporter": "python",
   "pygments_lexer": "ipython3",
   "version": "3.7.12"
  }
 },
 "nbformat": 4,
 "nbformat_minor": 5
}
