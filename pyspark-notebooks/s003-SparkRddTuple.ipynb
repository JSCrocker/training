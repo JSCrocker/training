{
 "cells": [
  {
   "cell_type": "code",
   "execution_count": 1,
   "id": "99547c90-8001-48dc-90e5-e5a0d3299120",
   "metadata": {},
   "outputs": [
    {
     "name": "stderr",
     "output_type": "stream",
     "text": [
      "22/02/28 22:11:17 WARN Utils: Your hostname, ubuntu-virtual-machine resolves to a loopback address: 127.0.1.1; using 192.168.80.128 instead (on interface ens33)\n",
      "22/02/28 22:11:17 WARN Utils: Set SPARK_LOCAL_IP if you need to bind to another address\n",
      "22/02/28 22:11:18 WARN NativeCodeLoader: Unable to load native-hadoop library for your platform... using builtin-java classes where applicable\n",
      "Using Spark's default log4j profile: org/apache/spark/log4j-defaults.properties\n",
      "Setting default log level to \"WARN\".\n",
      "To adjust logging level use sc.setLogLevel(newLevel). For SparkR, use setLogLevel(newLevel).\n",
      "22/02/28 22:11:19 WARN Utils: Service 'SparkUI' could not bind on port 4040. Attempting port 4041.\n",
      "22/02/28 22:11:19 WARN Utils: Service 'SparkUI' could not bind on port 4041. Attempting port 4042.\n"
     ]
    }
   ],
   "source": [
    "# will always need this 4 lines to start \n",
    "import findspark\n",
    "findspark.init()\n",
    "from pyspark import SparkContext\n",
    "sc = SparkContext(\"local\", \"Tuple\")"
   ]
  },
  {
   "cell_type": "code",
   "execution_count": 2,
   "id": "a028e8ae-176d-4c76-a2fe-628e26b5ea3a",
   "metadata": {},
   "outputs": [],
   "source": [
    "stocks = [ # LIST\n",
    "    # Tuple (symbol, opem, low, high, close)\n",
    "    ('MSFT', 50, 48, 51, 50.5),\n",
    "    ('FB', 200, 198, 204, 202.3),\n",
    "    ('AMD', 90, 88, 92, 91),\n",
    "    ('TSLA', 100, 90, 90, 100)\n",
    "]\n",
    "rdd = sc.parallelize(stocks)    "
   ]
  },
  {
   "cell_type": "code",
   "execution_count": 3,
   "id": "879a6faf-69f3-4ff0-9131-015c725b655a",
   "metadata": {},
   "outputs": [
    {
     "name": "stderr",
     "output_type": "stream",
     "text": [
      "                                                                                \r"
     ]
    },
    {
     "data": {
      "text/plain": [
       "[('MSFT', 50, 48, 51, 50.5),\n",
       " ('AMD', 90, 88, 92, 91),\n",
       " ('TSLA', 100, 90, 90, 100)]"
      ]
     },
     "execution_count": 3,
     "metadata": {},
     "output_type": "execute_result"
    }
   ],
   "source": [
    "# pick stock where close price is less than or equal to 100. stock[4] is close price\n",
    "rdd2 = rdd.filter(lambda stock: stock[4] <= 100)\n",
    "rdd2.collect()"
   ]
  },
  {
   "cell_type": "code",
   "execution_count": 5,
   "id": "3e696181-60cd-4677-bb84-2bf501acd53f",
   "metadata": {},
   "outputs": [
    {
     "data": {
      "text/plain": [
       "[0.5, 2.3000000000000114, 1, 0]"
      ]
     },
     "execution_count": 5,
     "metadata": {},
     "output_type": "execute_result"
    }
   ],
   "source": [
    "# find gain for the data\n",
    "# take close price - open price\n",
    "rdd3 = rdd.map(lambda stock: stock[4] - stock[1])\n",
    "rdd3.collect()"
   ]
  },
  {
   "cell_type": "code",
   "execution_count": 8,
   "id": "afa3ea57-97f8-4ca7-ac47-941fc5937592",
   "metadata": {},
   "outputs": [
    {
     "data": {
      "text/plain": [
       "[('MSFT', 50, 48, 51, 50.5, 0.5),\n",
       " ('FB', 200, 198, 204, 202.3, 2.3000000000000114),\n",
       " ('AMD', 90, 88, 92, 91, 1),\n",
       " ('TSLA', 100, 90, 90, 100, 0)]"
      ]
     },
     "execution_count": 8,
     "metadata": {},
     "output_type": "execute_result"
    }
   ],
   "source": [
    "# find gain for the data, but include all the results. Also include\n",
    "# gain as one element\n",
    "# tuples do not support mutation\n",
    "# we have to create a new tuple and include diff\n",
    "rdd4 = rdd.map(lambda stock: (stock[0], stock[1], stock[2], stock[3], stock[4],\n",
    "                              stock[4] -  stock[1])\n",
    "              )\n",
    "rdd4.collect()"
   ]
  },
  {
   "cell_type": "code",
   "execution_count": 9,
   "id": "ac3a5df0-601f-4bab-a05a-afc1f1397c57",
   "metadata": {},
   "outputs": [
    {
     "data": {
      "text/plain": [
       "(1, 2, 3, 'a', 'b', 'c')"
      ]
     },
     "execution_count": 9,
     "metadata": {},
     "output_type": "execute_result"
    }
   ],
   "source": [
    "# add two tuples possible it will create new tuple\n",
    "(1, 2, 3) + ('a', 'b', 'c')"
   ]
  },
  {
   "cell_type": "code",
   "execution_count": 13,
   "id": "046adbbe-2420-424e-bed5-d9da5c62c158",
   "metadata": {},
   "outputs": [
    {
     "data": {
      "text/plain": [
       "[('MSFT', 50, 48, 51, 50.5, 0.5),\n",
       " ('FB', 200, 198, 204, 202.3, 2.3000000000000114),\n",
       " ('AMD', 90, 88, 92, 91, 1),\n",
       " ('TSLA', 100, 90, 90, 100, 0)]"
      ]
     },
     "execution_count": 13,
     "metadata": {},
     "output_type": "execute_result"
    }
   ],
   "source": [
    "# refactoring\n",
    "# comman is MUST if we make tuple with 1 element in Python\n",
    "rdd4 = rdd.map(lambda stock: stock + (stock[4] - stock[1],))\n",
    "rdd4.collect()"
   ]
  },
  {
   "cell_type": "code",
   "execution_count": null,
   "id": "18a1b70d-73a2-4b4a-a70f-dadcf6bdf7fa",
   "metadata": {},
   "outputs": [],
   "source": []
  }
 ],
 "metadata": {
  "kernelspec": {
   "display_name": "Python 3 (ipykernel)",
   "language": "python",
   "name": "python3"
  },
  "language_info": {
   "codemirror_mode": {
    "name": "ipython",
    "version": 3
   },
   "file_extension": ".py",
   "mimetype": "text/x-python",
   "name": "python",
   "nbconvert_exporter": "python",
   "pygments_lexer": "ipython3",
   "version": "3.7.12"
  }
 },
 "nbformat": 4,
 "nbformat_minor": 5
}
