{
 "cells": [
  {
   "cell_type": "code",
   "execution_count": 1,
   "id": "edd0874a-6d26-4a2f-b31a-d68c1f99a1f3",
   "metadata": {},
   "outputs": [],
   "source": [
    "import os\n",
    "# save using vs code\n",
    "SCALA_VERSION = '2.12'\n",
    "SPARK_VERSION = '3.1.3'\n",
    "# Download Kafka Jar file, this for readStream.format(\"kafka\"), \"kafka\" is a driver\n",
    "# kafka driver code is part of Maven Jar file\n",
    "# https://mvnrepository.com/artifact/org.apache.spark/spark-sql-kafka-0-10_2.12/3.1.3\n",
    "# pyspark-shell shall download the jar file behind..\n",
    "os.environ['PYSPARK_SUBMIT_ARGS'] = f'--packages org.apache.spark:spark-sql-kafka-0-10_{SCALA_VERSION}:{SPARK_VERSION} pyspark-shell'"
   ]
  },
  {
   "cell_type": "code",
   "execution_count": null,
   "id": "eeb7cb8f-9eb5-4eed-8e00-0deed35b0941",
   "metadata": {},
   "outputs": [],
   "source": [
    "import sys\n",
    "sys.stdout = open(\"/dev/stdout\", \"w\")\n",
    "print(\"Now my output shall be on terminal, not on my notebook\")"
   ]
  },
  {
   "cell_type": "code",
   "execution_count": 3,
   "id": "0588f727-1c85-43aa-8e87-f1242ab3ae6c",
   "metadata": {},
   "outputs": [],
   "source": [
    "# here we implement windowed candle data for 1 minute\n",
    "# here we implement windowed candle data for 3 minute\n",
    "# here we implement windowed candle data for 5 minute\n",
    "\n",
    "# we use hadoop-vm as hostname, which is running on another system\n",
    "\n",
    "\n",
    "#     kafka-topics  --create --bootstrap-server hadoop-vm:9092 --replication-factor 1 --partitions 1 --topic stock-ticks \n",
    "    \n",
    "#     kafka-topics  --create --bootstrap-server hadoop-vm:9092 --replication-factor 1 --partitions 1 --topic candles-1min \n",
    "#     kafka-console-consumer --bootstrap-server hadoop-vm:9092 --topic  candles-1min  --from-beginning\n",
    " \n",
    "#     kafka-topics  --create --bootstrap-server hadoop-vm:9092 --replication-factor 1 --partitions 1 --topic candles-3min \n",
    "#     kafka-console-consumer --bootstrap-server hadoop-vm:9092 --topic  candles-3min  --from-beginning\n",
    "\n",
    "#     kafka-topics  --create --bootstrap-server hadoop-vm:9092 --replication-factor 1 --partitions 1 --topic candles-5min \n",
    "#     kafka-console-consumer --bootstrap-server hadoop-vm:9092 --topic  candles-5min  --from-beginning"
   ]
  },
  {
   "cell_type": "code",
   "execution_count": 4,
   "id": "2a257c12-ddef-4397-bb01-624c08b9e34b",
   "metadata": {},
   "outputs": [],
   "source": [
    "import findspark\n",
    "findspark.init()"
   ]
  },
  {
   "cell_type": "code",
   "execution_count": 5,
   "id": "a7d11bfe-fb17-47fb-976a-1e74b437072e",
   "metadata": {},
   "outputs": [
    {
     "name": "stderr",
     "output_type": "stream",
     "text": [
      "22/03/19 00:38:44 WARN Utils: Your hostname, ubuntu-virtual-machine resolves to a loopback address: 127.0.1.1; using 192.168.80.128 instead (on interface ens33)\n",
      "22/03/19 00:38:44 WARN Utils: Set SPARK_LOCAL_IP if you need to bind to another address\n",
      "Ivy Default Cache set to: /home/ubuntu/.ivy2/cache\n",
      "The jars for the packages stored in: /home/ubuntu/.ivy2/jars\n",
      "org.apache.spark#spark-sql-kafka-0-10_2.12 added as a dependency\n",
      ":: resolving dependencies :: org.apache.spark#spark-submit-parent-22fb773c-8e3e-46a4-af77-7a545cdfe538;1.0\n",
      "\tconfs: [default]\n",
      "\tfound org.apache.spark#spark-sql-kafka-0-10_2.12;3.1.3 in central\n",
      "\tfound org.apache.spark#spark-token-provider-kafka-0-10_2.12;3.1.3 in central\n",
      "\tfound org.apache.kafka#kafka-clients;2.6.0 in central\n",
      "\tfound com.github.luben#zstd-jni;1.4.8-1 in central\n",
      "\tfound org.lz4#lz4-java;1.7.1 in central\n",
      "\tfound org.xerial.snappy#snappy-java;1.1.8.2 in central\n",
      "\tfound org.slf4j#slf4j-api;1.7.30 in central\n",
      "\tfound org.spark-project.spark#unused;1.0.0 in central\n",
      "\tfound org.apache.commons#commons-pool2;2.6.2 in central\n",
      ":: resolution report :: resolve 623ms :: artifacts dl 12ms\n",
      "\t:: modules in use:\n",
      "\tcom.github.luben#zstd-jni;1.4.8-1 from central in [default]\n",
      "\torg.apache.commons#commons-pool2;2.6.2 from central in [default]\n",
      "\torg.apache.kafka#kafka-clients;2.6.0 from central in [default]\n",
      "\torg.apache.spark#spark-sql-kafka-0-10_2.12;3.1.3 from central in [default]\n",
      "\torg.apache.spark#spark-token-provider-kafka-0-10_2.12;3.1.3 from central in [default]\n",
      "\torg.lz4#lz4-java;1.7.1 from central in [default]\n",
      "\torg.slf4j#slf4j-api;1.7.30 from central in [default]\n",
      "\torg.spark-project.spark#unused;1.0.0 from central in [default]\n",
      "\torg.xerial.snappy#snappy-java;1.1.8.2 from central in [default]\n",
      "\t---------------------------------------------------------------------\n",
      "\t|                  |            modules            ||   artifacts   |\n",
      "\t|       conf       | number| search|dwnlded|evicted|| number|dwnlded|\n",
      "\t---------------------------------------------------------------------\n",
      "\t|      default     |   9   |   0   |   0   |   0   ||   9   |   0   |\n",
      "\t---------------------------------------------------------------------\n",
      ":: retrieving :: org.apache.spark#spark-submit-parent-22fb773c-8e3e-46a4-af77-7a545cdfe538\n",
      "\tconfs: [default]\n",
      "\t0 artifacts copied, 9 already retrieved (0kB/11ms)\n",
      "22/03/19 00:38:45 WARN NativeCodeLoader: Unable to load native-hadoop library for your platform... using builtin-java classes where applicable\n",
      "Using Spark's default log4j profile: org/apache/spark/log4j-defaults.properties\n",
      "Setting default log level to \"WARN\".\n",
      "To adjust logging level use sc.setLogLevel(newLevel). For SparkR, use setLogLevel(newLevel).\n"
     ]
    }
   ],
   "source": [
    "import pyspark\n",
    "\n",
    "\n",
    "from pyspark.sql import SparkSession\n",
    "# spark groupBy has default setting for spark.sql.shuffle.partitions as 200\n",
    "# we set to  4, should NOT be done in production \n",
    "spark = SparkSession.builder.master(\"local[1]\")\\\n",
    "                            .config('spark.sql.shuffle.partitions', 4)\\\n",
    "                            .appName(\"SparkStreamingKafkaCandles\").getOrCreate()"
   ]
  },
  {
   "cell_type": "code",
   "execution_count": 6,
   "id": "c2ec2f5c-2da1-4fe3-bc34-f7fb7672174f",
   "metadata": {},
   "outputs": [],
   "source": [
    "# read from kafka, here spark is consumer for kafka topic called test\n",
    "# spark streaming works as dataframe/sql\n",
    "# group.id is consumer group id\n",
    "# subcribe is kafka topic\n",
    "# \"kafka\" driver is not available by default with spark, we need to download it, we did on cell 1\n",
    "# GROUP ID SHOULD BE CHANGED FOR EVERY PERSON \n",
    "kafkaDf = spark.readStream.format(\"kafka\")\\\n",
    "  .option(\"kafka.bootstrap.servers\", \"hadoop-vm:9092\")\\\n",
    "  .option(\"subscribe\", \"stock-ticks\")\\\n",
    "  .option(\"group.id\", \"stock-ticks-group23\")\\\n",
    "  .load()"
   ]
  },
  {
   "cell_type": "code",
   "execution_count": 7,
   "id": "c920a9fb-3be9-4280-bc61-63305f160733",
   "metadata": {},
   "outputs": [],
   "source": [
    "# key and value are binary type, we need to CAST To STRING type\n",
    "kafkaDf.printSchema()\n",
    "# timestampType values\n",
    "# CreateTime:  Timestamp relates to message creation time as set by a Kafka client/producer\n",
    "# LogAppendTime : Timestamp relates to the time a message was appended to a Kafka log.\n",
    "# UnknownType"
   ]
  },
  {
   "cell_type": "code",
   "execution_count": 14,
   "id": "c501270a-3084-4b8f-ba2b-ab79e1c1db65",
   "metadata": {},
   "outputs": [],
   "source": [
    "# Kafka value, key are in binary format\n",
    "# we need to type cast to STRING, \n",
    "# we pick only value, timestamp as we need for 10 minute window\n",
    "ticksDf = kafkaDf.selectExpr(\"CAST(value AS STRING)\", \"timestamp\")\n",
    "ticksDf.printSchema() # we get only value as string"
   ]
  },
  {
   "cell_type": "code",
   "execution_count": 9,
   "id": "57e119b1-050a-4b2e-8019-fb71af2ad289",
   "metadata": {},
   "outputs": [],
   "source": [
    "import pyspark.sql.functions as F\n",
    "from pyspark.sql.types import StructField, StructType, DoubleType, StringType, LongType, TimestampType\n",
    "\n",
    "schema = StructType( [\n",
    "    StructField(\"symbol\", StringType(), True),\n",
    "    StructField(\"price\", DoubleType(), True),\n",
    "    StructField(\"volume\", LongType(), True),\n",
    "    StructField(\"timestamp\", LongType(),  True)\n",
    "])"
   ]
  },
  {
   "cell_type": "code",
   "execution_count": 10,
   "id": "376b650e-b461-4e1b-a7ae-4c0e8934f779",
   "metadata": {},
   "outputs": [],
   "source": [
    "# we parse value which is JSON string to kafka struct, \n",
    "# this create a new column [replacing existing value which is string] with type\n",
    "jsonDf = ticksDf.withColumn(\"value\", F.from_json(\"value\", schema))\n",
    "jsonDf.printSchema()"
   ]
  },
  {
   "cell_type": "code",
   "execution_count": 11,
   "id": "1e156f02-b18f-4dc8-b5f0-4d0a3a322132",
   "metadata": {},
   "outputs": [],
   "source": [
    "# now extract all the sub fields symbol, price, volume, timestamp into data frame\n",
    "# exisitng value, timestamp shall be removed. existing timestamp is value produced time, not a stock tick time\n",
    "# value.timestamp that comes from producer is basically a event time\n",
    "stockTickDf = jsonDf.select (F.col(\"value.*\")) # extract all sub fields as schema\n",
    "stockTickDf.printSchema()"
   ]
  },
  {
   "cell_type": "code",
   "execution_count": 12,
   "id": "e675f28f-7a27-47b9-8144-c22952d21b1f",
   "metadata": {},
   "outputs": [],
   "source": [
    "# we have data coming in stream, each record has timestamp\n",
    "# we have milli seconds 1647283268253, the actual seconds Mon Mar 14 2022 14:41:08\n",
    "# now we have to calculate 1 minute window, sum(volume) up to 1 minute\n",
    "# after conversions, we take timestamp which is truncatd to minute instead of milli seconds, drop temp columns\n",
    "stockTickDf = stockTickDf\\\n",
    "                .withColumn(\"timestamp\", (F.col(\"timestamp\") / 1000).cast(\"timestamp\"))\\\n",
    "\n",
    "stockTickDf.printSchema()"
   ]
  },
  {
   "cell_type": "code",
   "execution_count": 13,
   "id": "979611fe-a2e8-4d45-b0b5-d3fe8a3b25bc",
   "metadata": {},
   "outputs": [],
   "source": [
    "stockTickDf1Min = stockTickDf\\\n",
    "                            .selectExpr(\"timestamp\", \"symbol\",  \"struct(*) as value\")\\\n",
    "                            .withWatermark(\"timestamp\", \"1 minutes\")\\\n",
    "                            .groupBy(\"symbol\", F.window(\"timestamp\", \"60 seconds\"))\\\n",
    "                          .agg( F.collect_list(\"value\").alias(\"ticks\"))\n",
    "\n",
    "stockTickDf1Min.printSchema()"
   ]
  },
  {
   "cell_type": "code",
   "execution_count": 15,
   "id": "6acfe70b-ae46-485f-9915-a1ba6245591e",
   "metadata": {},
   "outputs": [
    {
     "name": "stderr",
     "output_type": "stream",
     "text": [
      "22/03/19 00:40:43 WARN StreamingQueryManager: Temporary checkpoint location created which is deleted normally when the query didn't fail: /tmp/temporary-e784bcfa-86fe-4281-aa3b-cb56e29dcd73. If it's required to delete it under any circumstances, please set spark.sql.streaming.forceDeleteTempCheckpointLocation to true. Important to know deleting temp checkpoint folder is best effort.\n"
     ]
    },
    {
     "data": {
      "text/plain": [
       "<pyspark.sql.streaming.StreamingQuery at 0x7f2b14780650>"
      ]
     },
     "execution_count": 15,
     "metadata": {},
     "output_type": "execute_result"
    },
    {
     "name": "stderr",
     "output_type": "stream",
     "text": [
      "                                                                                \r"
     ]
    }
   ],
   "source": [
    "# spark stream with batch output\n",
    "# spark basically process the data as batch\n",
    "# for developer convinence, we have api, that can give us finite data frame for writing to file/jsbc/db/custom coding\n",
    "# process discrete output batch\n",
    "# this function is called for every update/delete/comlete triggers with result data set as dataframe\n",
    "# candleBatchDf is BATCH DATAFRAME\n",
    "# stockTickDf1Min is STREAM DATAFRAME\n",
    "def processBatchData(candleBatchDf, batch_id):\n",
    "    from pyspark.sql.functions import explode, col\n",
    "\n",
    "    print (\"process batch called\", batch_id, \"writing \", candleBatchDf.count())\n",
    "    #result = candleBatchDf.collect()\n",
    "    #print(result)\n",
    "    #candleBatchDf.printSchema()\n",
    "    #candleBatchDf.show(2, truncate = False)\n",
    "    \n",
    "    # pick all the elements inside ticks array into element\n",
    "    # breaking group using explode\n",
    "    candleTickBatchDf = (candleBatchDf.select(\"window\", explode(F.column(\"ticks\")) )\n",
    "                                      .select(F.col(\"window.*\"), F.col(\"col.*\"))\n",
    "                        )\n",
    "    \n",
    "    candleTickBatchDf.printSchema()\n",
    "    candleTickBatchDf.show(2, truncate=False)\n",
    "    # write to csv/json/parqeut/database /jdbc etc\n",
    "    # window is nested column, has its children columns called start and end\n",
    "    # start and end are part of nested window column\n",
    "    # append mode will not delete existin data, instead append to existing table\n",
    "     \n",
    "    \n",
    "stockTickDf1Min.writeStream.outputMode(\"append\").foreachBatch(processBatchData).start()\n",
    "    \n",
    "# now go to mysql, check candle_1min exist\n",
    "# show tables;\n",
    "# select * from candle_1min"
   ]
  },
  {
   "cell_type": "code",
   "execution_count": null,
   "id": "4dbbd5c1-937f-407b-8170-06bff5e16b7e",
   "metadata": {},
   "outputs": [],
   "source": []
  }
 ],
 "metadata": {
  "kernelspec": {
   "display_name": "Python 3 (ipykernel)",
   "language": "python",
   "name": "python3"
  },
  "language_info": {
   "codemirror_mode": {
    "name": "ipython",
    "version": 3
   },
   "file_extension": ".py",
   "mimetype": "text/x-python",
   "name": "python",
   "nbconvert_exporter": "python",
   "pygments_lexer": "ipython3",
   "version": "3.7.12"
  }
 },
 "nbformat": 4,
 "nbformat_minor": 5
}
