{
 "cells": [
  {
   "cell_type": "code",
   "execution_count": 1,
   "id": "3656833a-7c6a-4f7f-a19b-8b0acf338477",
   "metadata": {},
   "outputs": [],
   "source": [
    "import findspark\n",
    "findspark.init()"
   ]
  },
  {
   "cell_type": "code",
   "execution_count": 4,
   "id": "e19e972f-5ab5-4db9-99ee-7486ea0466e3",
   "metadata": {},
   "outputs": [],
   "source": [
    "from pyspark.conf import SparkConf\n",
    "config = SparkConf()\n",
    "config.setMaster(\"local\").setAppName(\"SparkHiveDatabase\")\n",
    "\n",
    "config.set(\"spark.local.dir\", \"/home/ubuntu/spark-temp\")\n",
    "\n",
    "# while using \"hive.metastore.warehouse.dir, we should not use spark warehouse dir\n",
    "config.set(\"hive.metastore.uris\", \"thrift://localhost:9083\")\n",
    "config.set(\"hive.metastore.warehouse.dir\", \"hdfs://localhost:9000/user/hive/warehouse\")\n",
    "\n",
    "# enableHiveSupport() create a meta catalog/database using derby database\n",
    "# multiple noteboos can share hive meta server. works in parallel\n",
    "\n",
    "from pyspark.sql import SparkSession\n",
    "spark = SparkSession.builder\\\n",
    "                    .config(conf=config)\\\n",
    "                    .enableHiveSupport()\\\n",
    "                    .getOrCreate()\n",
    "\n",
    "sc = spark.sparkContext"
   ]
  },
  {
   "cell_type": "code",
   "execution_count": 5,
   "id": "062cc678-29f0-4c55-b9dd-59fa97a042d9",
   "metadata": {},
   "outputs": [
    {
     "name": "stdout",
     "output_type": "stream",
     "text": [
      "+------------+\n",
      "|databaseName|\n",
      "+------------+\n",
      "|     default|\n",
      "|     moviedb|\n",
      "|    moviesdb|\n",
      "|    ordersdb|\n",
      "|  productsdb|\n",
      "|      testdb|\n",
      "+------------+\n",
      "\n"
     ]
    }
   ],
   "source": [
    "spark.sql(\"SHOW DATABASES\").show()"
   ]
  },
  {
   "cell_type": "code",
   "execution_count": 6,
   "id": "c8154852-bd9c-4ef9-bb47-24f3012b9367",
   "metadata": {},
   "outputs": [
    {
     "data": {
      "text/plain": [
       "DataFrame[]"
      ]
     },
     "execution_count": 6,
     "metadata": {},
     "output_type": "execute_result"
    }
   ],
   "source": [
    "# located in /hive/user/warehouse/moviedb/revies\n",
    "spark.sql(\"\"\"\n",
    "    CREATE TABLE moviedb.reviews(user_id INT, moive_id INT, comments STRING)\n",
    "    \"\"\"\n",
    "         )"
   ]
  },
  {
   "cell_type": "code",
   "execution_count": 7,
   "id": "6ccec58b-0779-46c0-8f1a-b13eb5d8651f",
   "metadata": {},
   "outputs": [
    {
     "name": "stdout",
     "output_type": "stream",
     "text": [
      "+--------+---------+-----------+\n",
      "|database|tableName|isTemporary|\n",
      "+--------+---------+-----------+\n",
      "| moviedb|   movies|      false|\n",
      "| moviedb|  ratings|      false|\n",
      "| moviedb|  reviews|      false|\n",
      "+--------+---------+-----------+\n",
      "\n"
     ]
    }
   ],
   "source": [
    "spark.sql(\"SHOW TABLES in moviedb\").show()"
   ]
  },
  {
   "cell_type": "code",
   "execution_count": 8,
   "id": "8c5032a9-bfbe-4e75-99e8-62d788f7e8b8",
   "metadata": {},
   "outputs": [
    {
     "name": "stderr",
     "output_type": "stream",
     "text": [
      "                                                                                \r"
     ]
    },
    {
     "data": {
      "text/plain": [
       "DataFrame[]"
      ]
     },
     "execution_count": 8,
     "metadata": {},
     "output_type": "execute_result"
    }
   ],
   "source": [
    "spark.sql(\"\"\"\n",
    "    INSERT INTO moviedb.reviews VALUES(1, 1, 'nice moive')\n",
    "    \"\"\"\n",
    "         )"
   ]
  },
  {
   "cell_type": "code",
   "execution_count": 9,
   "id": "cc39c4d0-940b-453a-870a-537bf109b403",
   "metadata": {},
   "outputs": [
    {
     "name": "stdout",
     "output_type": "stream",
     "text": [
      "+-------+--------+----------+\n",
      "|user_id|moive_id|  comments|\n",
      "+-------+--------+----------+\n",
      "|      1|       1|nice moive|\n",
      "+-------+--------+----------+\n",
      "\n"
     ]
    }
   ],
   "source": [
    "# spark is a query engire now\n",
    "# spark uses hive meta store as central catalog\n",
    "# spark itself query hdfs, take files, scan records\n",
    "spark.sql(\"SELECT * FROM moviedb.reviews\").show()"
   ]
  },
  {
   "cell_type": "code",
   "execution_count": null,
   "id": "37df7e38-addc-4bf6-a983-82db0a276aa7",
   "metadata": {},
   "outputs": [],
   "source": [
    " "
   ]
  }
 ],
 "metadata": {
  "kernelspec": {
   "display_name": "Python 3 (ipykernel)",
   "language": "python",
   "name": "python3"
  },
  "language_info": {
   "codemirror_mode": {
    "name": "ipython",
    "version": 3
   },
   "file_extension": ".py",
   "mimetype": "text/x-python",
   "name": "python",
   "nbconvert_exporter": "python",
   "pygments_lexer": "ipython3",
   "version": "3.7.12"
  }
 },
 "nbformat": 4,
 "nbformat_minor": 5
}
