{
 "cells": [
  {
   "cell_type": "code",
   "execution_count": 1,
   "id": "2f532705-52a3-468c-a4dc-c856df5681ba",
   "metadata": {},
   "outputs": [],
   "source": [
    "import findspark\n",
    "findspark.init()"
   ]
  },
  {
   "cell_type": "code",
   "execution_count": 2,
   "id": "0f34924c-a075-4c2d-8396-a6912190c9f0",
   "metadata": {},
   "outputs": [
    {
     "name": "stderr",
     "output_type": "stream",
     "text": [
      "22/03/03 23:25:25 WARN Utils: Your hostname, ubuntu-virtual-machine resolves to a loopback address: 127.0.1.1; using 192.168.80.128 instead (on interface ens33)\n",
      "22/03/03 23:25:25 WARN Utils: Set SPARK_LOCAL_IP if you need to bind to another address\n",
      "22/03/03 23:25:26 WARN NativeCodeLoader: Unable to load native-hadoop library for your platform... using builtin-java classes where applicable\n",
      "Using Spark's default log4j profile: org/apache/spark/log4j-defaults.properties\n",
      "Setting default log level to \"WARN\".\n",
      "To adjust logging level use sc.setLogLevel(newLevel). For SparkR, use setLogLevel(newLevel).\n",
      "22/03/03 23:25:27 WARN Utils: Service 'SparkUI' could not bind on port 4040. Attempting port 4041.\n"
     ]
    }
   ],
   "source": [
    "from pyspark.conf import SparkConf\n",
    "config = SparkConf()\n",
    "# config.set(\"property\", \"value\")\n",
    "config.setMaster(\"local\").setAppName(\"DataFrameBasic\")\n",
    "\n",
    "from pyspark.sql import SparkSession\n",
    "# spark Session, entry point for Spark SQL, DataFrame\n",
    "spark = SparkSession.builder\\\n",
    "                    .config(conf=config)\\\n",
    "                    .getOrCreate()\n",
    "\n",
    "sc = spark.sparkContext"
   ]
  },
  {
   "cell_type": "code",
   "execution_count": 3,
   "id": "bf486d06-5620-4791-8034-9737d0a2d049",
   "metadata": {},
   "outputs": [],
   "source": [
    "# spark dataframe\n",
    "# Structured Data\n",
    "# data + schema\n",
    "# schema will contain columns and data types\n",
    "# Dataframe Core Engine, Spark SQL, Core are same\n",
    "# DataFrame internally has RDD, Rdd[Row]\n",
    "# DataFrame is alias, the actual data still on RDD only\n",
    "# Data Frame is API, when we call the API, internally API is converted into \n",
    "# various plans [Logical, optimized, physical plans] and finally phyiscal plan\n",
    "# used to create Java Byte using Scala\n",
    "# When it comes to execution, it is still RDD, transformation, action only"
   ]
  },
  {
   "cell_type": "code",
   "execution_count": 4,
   "id": "b32885a5-f98b-450c-a8ff-6e92302733bb",
   "metadata": {},
   "outputs": [
    {
     "name": "stdout",
     "output_type": "stream",
     "text": [
      "root\n",
      " |-- prodcut_id: long (nullable = true)\n",
      " |-- product_name: string (nullable = true)\n",
      " |-- price: double (nullable = true)\n",
      " |-- brand_id: long (nullable = true)\n",
      " |-- offer: long (nullable = true)\n",
      "\n"
     ]
    },
    {
     "name": "stderr",
     "output_type": "stream",
     "text": [
      "[Stage 0:>                                                          (0 + 1) / 1]"
     ]
    },
    {
     "name": "stdout",
     "output_type": "stream",
     "text": [
      "+----------+------------+------+--------+-----+\n",
      "|prodcut_id|product_name| price|brand_id|offer|\n",
      "+----------+------------+------+--------+-----+\n",
      "|         1|      iphone|1000.0|     100|    0|\n",
      "|         2|      Galaxy| 545.5|     101| null|\n",
      "|         3|       Pixel|645.99|     101| null|\n",
      "+----------+------------+------+--------+-----+\n",
      "\n"
     ]
    },
    {
     "name": "stderr",
     "output_type": "stream",
     "text": [
      "                                                                                \r"
     ]
    }
   ],
   "source": [
    "products = [\n",
    "    # (product_id, product_name, price, brand_id, offer)\n",
    "    (1, 'iphone', 1000.0, 100, 0),\n",
    "    (2, 'Galaxy', 545.5, 101, None),\n",
    "    (3, 'Pixel', 645.99, 101, None)\n",
    "]\n",
    "\n",
    "# no data type mentioned, however we will let spark infer schema by reading data\n",
    "schema = ['prodcut_id', 'product_name', 'price', 'brand_id', 'offer']\n",
    "\n",
    "productDf = spark.createDataFrame(data=products, schema=schema)\n",
    "\n",
    "# every data frame has schema, we can print it\n",
    "productDf.printSchema()\n",
    "productDf.show() # will print 20 records"
   ]
  },
  {
   "cell_type": "code",
   "execution_count": 5,
   "id": "e052997a-411f-49c4-bf8b-e0ac62a47036",
   "metadata": {},
   "outputs": [
    {
     "data": {
      "text/plain": [
       "[Row(prodcut_id=1, product_name='iphone', price=1000.0, brand_id=100, offer=0),\n",
       " Row(prodcut_id=2, product_name='Galaxy', price=545.5, brand_id=101, offer=None),\n",
       " Row(prodcut_id=3, product_name='Pixel', price=645.99, brand_id=101, offer=None)]"
      ]
     },
     "execution_count": 5,
     "metadata": {},
     "output_type": "execute_result"
    }
   ],
   "source": [
    "# every data frame has rdd internally\n",
    "# data is nothing but api applied on rdd\n",
    "# DataFrame(DF) is RDD of Row, each has column name, value\n",
    "productDf.rdd.collect()"
   ]
  },
  {
   "cell_type": "code",
   "execution_count": 6,
   "id": "b29b46d6-e98b-4b49-8b3a-bbde1be49ff9",
   "metadata": {},
   "outputs": [
    {
     "data": {
      "text/plain": [
       "1"
      ]
     },
     "execution_count": 6,
     "metadata": {},
     "output_type": "execute_result"
    }
   ],
   "source": [
    "# dataframe rdd partitions\n",
    "productDf.rdd.getNumPartitions()"
   ]
  },
  {
   "cell_type": "code",
   "execution_count": 7,
   "id": "41d46aeb-3f9c-403d-a736-bd3e147146aa",
   "metadata": {},
   "outputs": [],
   "source": [
    "# data frame has transformation and actions\n",
    "# transformations will return dataframe which is immutable\n",
    "# transformation are lazy\n",
    "# data frame filter\n",
    "# return a new data dataframe, it wont execute the data, no job no actiob\n",
    "df = productDf.filter(productDf[\"price\"] <= 750)"
   ]
  },
  {
   "cell_type": "code",
   "execution_count": 8,
   "id": "cc9abc5d-d020-4935-94d4-c5aea4089961",
   "metadata": {},
   "outputs": [
    {
     "name": "stdout",
     "output_type": "stream",
     "text": [
      "root\n",
      " |-- prodcut_id: long (nullable = true)\n",
      " |-- product_name: string (nullable = true)\n",
      " |-- price: double (nullable = true)\n",
      " |-- brand_id: long (nullable = true)\n",
      " |-- offer: long (nullable = true)\n",
      "\n",
      "+----------+------------+------+--------+-----+\n",
      "|prodcut_id|product_name| price|brand_id|offer|\n",
      "+----------+------------+------+--------+-----+\n",
      "|         2|      Galaxy| 545.5|     101| null|\n",
      "|         3|       Pixel|645.99|     101| null|\n",
      "+----------+------------+------+--------+-----+\n",
      "\n"
     ]
    }
   ],
   "source": [
    "# apply actions show is action\n",
    "df.printSchema()\n",
    "df.show() # execute job"
   ]
  },
  {
   "cell_type": "code",
   "execution_count": 9,
   "id": "8d7a7252-01e1-4508-a89d-798aa29cf3f4",
   "metadata": {},
   "outputs": [
    {
     "name": "stdout",
     "output_type": "stream",
     "text": [
      "root\n",
      " |-- product_name: string (nullable = true)\n",
      " |-- price: double (nullable = true)\n",
      "\n",
      "+------------+------+\n",
      "|product_name| price|\n",
      "+------------+------+\n",
      "|      iphone|1000.0|\n",
      "|      Galaxy| 545.5|\n",
      "|       Pixel|645.99|\n",
      "+------------+------+\n",
      "\n"
     ]
    }
   ],
   "source": [
    "# selct api, projection\n",
    "df = productDf.select(\"product_name\", \"price\")\n",
    "df.printSchema()\n",
    "df.show()"
   ]
  },
  {
   "cell_type": "code",
   "execution_count": 10,
   "id": "7827b21d-027f-4087-9170-6c32d275b1cb",
   "metadata": {},
   "outputs": [
    {
     "name": "stdout",
     "output_type": "stream",
     "text": [
      "root\n",
      " |-- product_name: string (nullable = true)\n",
      " |-- upper(product_name): string (nullable = true)\n",
      " |-- price: double (nullable = true)\n",
      " |-- (price * 0.9): double (nullable = true)\n",
      "\n",
      "+------------+-------------------+------+-----------------+\n",
      "|product_name|upper(product_name)| price|    (price * 0.9)|\n",
      "+------------+-------------------+------+-----------------+\n",
      "|      iphone|             IPHONE|1000.0|            900.0|\n",
      "|      Galaxy|             GALAXY| 545.5|           490.95|\n",
      "|       Pixel|              PIXEL|645.99|581.3910000000001|\n",
      "+------------+-------------------+------+-----------------+\n",
      "\n"
     ]
    }
   ],
   "source": [
    "# selectExpr - dynamic expression, CAST\n",
    "df = productDf.selectExpr(\"product_name\", \"upper(product_name)\", \n",
    "                            \"price\", \"price * 0.9\")\n",
    "\n",
    "df.printSchema()\n",
    "df.show()"
   ]
  },
  {
   "cell_type": "code",
   "execution_count": 11,
   "id": "65e8c4d1-805f-4387-b7ab-4559348bd7d4",
   "metadata": {},
   "outputs": [
    {
     "name": "stdout",
     "output_type": "stream",
     "text": [
      "root\n",
      " |-- product_name: string (nullable = true)\n",
      " |-- title: string (nullable = true)\n",
      " |-- price: double (nullable = true)\n",
      " |-- grand_total: double (nullable = true)\n",
      "\n",
      "+------------+------+------+-----------------+\n",
      "|product_name| title| price|      grand_total|\n",
      "+------------+------+------+-----------------+\n",
      "|      iphone|IPHONE|1000.0|            900.0|\n",
      "|      Galaxy|GALAXY| 545.5|           490.95|\n",
      "|       Pixel| PIXEL|645.99|581.3910000000001|\n",
      "+------------+------+------+-----------------+\n",
      "\n"
     ]
    }
   ],
   "source": [
    "df = productDf.selectExpr(\"product_name\", \"upper(product_name) as title\", \n",
    "                            \"price\", \"price * 0.9 as grand_total\")\n",
    "\n",
    "df.printSchema()\n",
    "df.show()"
   ]
  },
  {
   "cell_type": "code",
   "execution_count": 12,
   "id": "4467de3b-5d04-4391-9e05-3421842e96e9",
   "metadata": {},
   "outputs": [
    {
     "name": "stdout",
     "output_type": "stream",
     "text": [
      "root\n",
      " |-- prodcut_id: long (nullable = true)\n",
      " |-- product_name: string (nullable = true)\n",
      " |-- price: double (nullable = true)\n",
      " |-- brand_id: long (nullable = true)\n",
      " |-- offer: long (nullable = true)\n",
      " |-- offer_price: double (nullable = true)\n",
      "\n",
      "+----------+------------+------+--------+-----+-----------------+\n",
      "|prodcut_id|product_name| price|brand_id|offer|      offer_price|\n",
      "+----------+------------+------+--------+-----+-----------------+\n",
      "|         1|      iphone|1000.0|     100|    0|            900.0|\n",
      "|         2|      Galaxy| 545.5|     101| null|           490.95|\n",
      "|         3|       Pixel|645.99|     101| null|581.3910000000001|\n",
      "+----------+------------+------+--------+-----+-----------------+\n",
      "\n"
     ]
    }
   ],
   "source": [
    "# dervied a new column called offer_price. adding new column from existing columns\n",
    "df = productDf.withColumn(\"offer_price\", productDf.price * 0.9)\n",
    "df.printSchema()\n",
    "df.show()"
   ]
  },
  {
   "cell_type": "code",
   "execution_count": 13,
   "id": "84123e83-5251-4e27-8d3d-338c96854dd2",
   "metadata": {},
   "outputs": [
    {
     "name": "stdout",
     "output_type": "stream",
     "text": [
      "root\n",
      " |-- prodcut_id: long (nullable = true)\n",
      " |-- product_name: string (nullable = true)\n",
      " |-- total: double (nullable = true)\n",
      " |-- brand_id: long (nullable = true)\n",
      " |-- offer: long (nullable = true)\n",
      "\n",
      "+----------+------------+------+--------+-----+\n",
      "|prodcut_id|product_name| total|brand_id|offer|\n",
      "+----------+------------+------+--------+-----+\n",
      "|         1|      iphone|1000.0|     100|    0|\n",
      "|         2|      Galaxy| 545.5|     101| null|\n",
      "|         3|       Pixel|645.99|     101| null|\n",
      "+----------+------------+------+--------+-----+\n",
      "\n"
     ]
    }
   ],
   "source": [
    "# rename column\n",
    "df = productDf.withColumnRenamed(\"price\", \"total\")\n",
    "df.printSchema()\n",
    "df.show()"
   ]
  },
  {
   "cell_type": "code",
   "execution_count": 14,
   "id": "990acb54-b577-4ae7-b082-0f6319b720b2",
   "metadata": {},
   "outputs": [
    {
     "name": "stdout",
     "output_type": "stream",
     "text": [
      "root\n",
      " |-- prodcut_id: long (nullable = true)\n",
      " |-- product_name: string (nullable = true)\n",
      " |-- price: double (nullable = true)\n",
      " |-- offer: long (nullable = true)\n",
      "\n",
      "+----------+------------+------+-----+\n",
      "|prodcut_id|product_name| price|offer|\n",
      "+----------+------------+------+-----+\n",
      "|         1|      iphone|1000.0|    0|\n",
      "|         2|      Galaxy| 545.5| null|\n",
      "|         3|       Pixel|645.99| null|\n",
      "+----------+------------+------+-----+\n",
      "\n"
     ]
    }
   ],
   "source": [
    "# drop Columns\n",
    "df = productDf.drop(\"brand_id\")\n",
    "df.printSchema()\n",
    "df.show()                "
   ]
  },
  {
   "cell_type": "code",
   "execution_count": 15,
   "id": "e825fdef-63bc-48e4-9af0-aad1cbb26793",
   "metadata": {},
   "outputs": [
    {
     "name": "stdout",
     "output_type": "stream",
     "text": [
      "root\n",
      " |-- prodcut_id: long (nullable = true)\n",
      " |-- product_name: string (nullable = true)\n",
      " |-- price: double (nullable = true)\n",
      " |-- brand_id: long (nullable = true)\n",
      " |-- offer: long (nullable = true)\n",
      "\n",
      "+----------+------------+-----+--------+-----+\n",
      "|prodcut_id|product_name|price|brand_id|offer|\n",
      "+----------+------------+-----+--------+-----+\n",
      "|         2|      Galaxy|545.5|     101| null|\n",
      "+----------+------------+-----+--------+-----+\n",
      "\n"
     ]
    }
   ],
   "source": [
    "# filter, where conditions\n",
    "# filter and where are same, alias\n",
    "# python expression\n",
    "df = productDf.filter((productDf.price >= 500) & (productDf[\"price\"] < 600))\n",
    "df.printSchema()\n",
    "df.show()"
   ]
  },
  {
   "cell_type": "code",
   "execution_count": 16,
   "id": "dfe238e3-3e03-4434-9430-c624923b9204",
   "metadata": {},
   "outputs": [
    {
     "name": "stdout",
     "output_type": "stream",
     "text": [
      "root\n",
      " |-- prodcut_id: long (nullable = true)\n",
      " |-- product_name: string (nullable = true)\n",
      " |-- price: double (nullable = true)\n",
      " |-- brand_id: long (nullable = true)\n",
      " |-- offer: long (nullable = true)\n",
      "\n",
      "+----------+------------+-----+--------+-----+\n",
      "|prodcut_id|product_name|price|brand_id|offer|\n",
      "+----------+------------+-----+--------+-----+\n",
      "|         2|      Galaxy|545.5|     101| null|\n",
      "+----------+------------+-----+--------+-----+\n",
      "\n"
     ]
    }
   ],
   "source": [
    "# filter and where are same\n",
    "df = productDf.where((productDf.price >= 500) & (productDf[\"price\"] < 600))\n",
    "df.printSchema()\n",
    "df.show()"
   ]
  },
  {
   "cell_type": "code",
   "execution_count": 17,
   "id": "44e59932-91b8-4e0f-abb1-5de8c17dabd9",
   "metadata": {},
   "outputs": [
    {
     "name": "stdout",
     "output_type": "stream",
     "text": [
      "root\n",
      " |-- prodcut_id: long (nullable = true)\n",
      " |-- product_name: string (nullable = true)\n",
      " |-- price: double (nullable = true)\n",
      " |-- brand_id: long (nullable = true)\n",
      " |-- offer: long (nullable = true)\n",
      "\n",
      "+----------+------------+-----+--------+-----+\n",
      "|prodcut_id|product_name|price|brand_id|offer|\n",
      "+----------+------------+-----+--------+-----+\n",
      "|         2|      Galaxy|545.5|     101| null|\n",
      "+----------+------------+-----+--------+-----+\n",
      "\n"
     ]
    }
   ],
   "source": [
    "# pyspark, filter, or where with sql expression\n",
    "df = productDf.where(\"price >= 500 AND price < 600\")\n",
    "df.printSchema()\n",
    "df.show()"
   ]
  },
  {
   "cell_type": "code",
   "execution_count": 18,
   "id": "cb734815-3fce-4349-8423-5ec1d09c5652",
   "metadata": {},
   "outputs": [
    {
     "name": "stdout",
     "output_type": "stream",
     "text": [
      "Column<b'price'>\n",
      "Column<b'price'>\n",
      "Column<b'price'>\n"
     ]
    }
   ],
   "source": [
    "# how to reference columns in pyspark\n",
    "print(productDf.price)\n",
    "print(productDf['price'])\n",
    "\n",
    "# with function col - column\n",
    "from pyspark.sql.functions import col\n",
    "print(col('price'))"
   ]
  },
  {
   "cell_type": "code",
   "execution_count": 19,
   "id": "4c15745f-3c4b-4d7f-bd3b-0a1fc9b3173f",
   "metadata": {},
   "outputs": [
    {
     "name": "stdout",
     "output_type": "stream",
     "text": [
      "root\n",
      " |-- prodcut_id: long (nullable = true)\n",
      " |-- product_name: string (nullable = true)\n",
      " |-- price: double (nullable = true)\n",
      " |-- brand_id: long (nullable = true)\n",
      " |-- offer: long (nullable = true)\n",
      " |-- qty: integer (nullable = false)\n",
      " |-- amount: double (nullable = true)\n",
      "\n",
      "+----------+------------+------+--------+-----+---+-------+\n",
      "|prodcut_id|product_name| price|brand_id|offer|qty| amount|\n",
      "+----------+------------+------+--------+-----+---+-------+\n",
      "|         1|      iphone|1000.0|     100|    0|  4| 4000.0|\n",
      "|         2|      Galaxy| 545.5|     101| null|  4| 2182.0|\n",
      "|         3|       Pixel|645.99|     101| null|  4|2583.96|\n",
      "+----------+------------+------+--------+-----+---+-------+\n",
      "\n"
     ]
    }
   ],
   "source": [
    "# add a new column, which a fixed constant\n",
    "from pyspark.sql.functions import lit # lit - literal - constant\n",
    "df = productDf.withColumn('qty', lit(4))\\\n",
    "                .withColumn(\"amount\", col(\"qty\") * col(\"price\"))\n",
    "df.printSchema()\n",
    "df.show()"
   ]
  },
  {
   "cell_type": "code",
   "execution_count": 20,
   "id": "310b21e4-75fb-4a4c-b604-a15a83cee731",
   "metadata": {},
   "outputs": [
    {
     "name": "stdout",
     "output_type": "stream",
     "text": [
      "+----------+------------+------+--------+-----+\n",
      "|prodcut_id|product_name| price|brand_id|offer|\n",
      "+----------+------------+------+--------+-----+\n",
      "|         2|      Galaxy| 545.5|     101| null|\n",
      "|         3|       Pixel|645.99|     101| null|\n",
      "|         1|      iphone|1000.0|     100|    0|\n",
      "+----------+------------+------+--------+-----+\n",
      "\n"
     ]
    }
   ],
   "source": [
    "# sort data ascending order\n",
    "df = productDf.sort(\"price\")\n",
    "df.show()"
   ]
  },
  {
   "cell_type": "code",
   "execution_count": 21,
   "id": "df477f9b-865a-4532-8f5b-d6a9249697c7",
   "metadata": {},
   "outputs": [
    {
     "name": "stdout",
     "output_type": "stream",
     "text": [
      "+----------+------------+------+--------+-----+\n",
      "|prodcut_id|product_name| price|brand_id|offer|\n",
      "+----------+------------+------+--------+-----+\n",
      "|         1|      iphone|1000.0|     100|    0|\n",
      "|         3|       Pixel|645.99|     101| null|\n",
      "|         2|      Galaxy| 545.5|     101| null|\n",
      "+----------+------------+------+--------+-----+\n",
      "\n"
     ]
    }
   ],
   "source": [
    "# sorting data decending order\n",
    "from pyspark.sql.functions import desc\n",
    "df = productDf.sort(desc(\"price\"))\n",
    "df.show()"
   ]
  },
  {
   "cell_type": "code",
   "execution_count": 22,
   "id": "b145f4ba-5ce4-469e-9815-909b6c5c13e3",
   "metadata": {},
   "outputs": [
    {
     "name": "stdout",
     "output_type": "stream",
     "text": [
      "+----------+------------+------+--------+-----+\n",
      "|prodcut_id|product_name| price|brand_id|offer|\n",
      "+----------+------------+------+--------+-----+\n",
      "|         2|      Galaxy| 545.5|     101| null|\n",
      "|         3|       Pixel|645.99|     101| null|\n",
      "|         1|      iphone|1000.0|     100|    0|\n",
      "+----------+------------+------+--------+-----+\n",
      "\n",
      "+----------+------------+------+--------+-----+\n",
      "|prodcut_id|product_name| price|brand_id|offer|\n",
      "+----------+------------+------+--------+-----+\n",
      "|         1|      iphone|1000.0|     100|    0|\n",
      "|         3|       Pixel|645.99|     101| null|\n",
      "|         2|      Galaxy| 545.5|     101| null|\n",
      "+----------+------------+------+--------+-----+\n",
      "\n"
     ]
    }
   ],
   "source": [
    "# alternatively use dataframes columns if we have df reference\n",
    "df = productDf.sort(productDf.price.asc())\n",
    "df.show()\n",
    "df = productDf.sort(productDf.price.desc())\n",
    "df.show()"
   ]
  },
  {
   "cell_type": "code",
   "execution_count": 27,
   "id": "69cc22bd-a9a6-46ae-a55c-4bc558cb8689",
   "metadata": {},
   "outputs": [
    {
     "name": "stdout",
     "output_type": "stream",
     "text": [
      "+----------+------------+------+--------+-----+\n",
      "|prodcut_id|product_name| price|brand_id|offer|\n",
      "+----------+------------+------+--------+-----+\n",
      "|         1|      iphone|1000.0|     100|    0|\n",
      "|         2|      Galaxy| 545.5|     101| null|\n",
      "|         3|       Pixel|645.99|     101| null|\n",
      "+----------+------------+------+--------+-----+\n",
      "\n",
      "+----------+------------+------+--------+-----+\n",
      "|prodcut_id|product_name| price|brand_id|offer|\n",
      "+----------+------------+------+--------+-----+\n",
      "|         1|      iphone|1000.0|     100|    0|\n",
      "|         2|      Galaxy| 545.5|     101|    0|\n",
      "|         3|       Pixel|645.99|     101|    0|\n",
      "+----------+------------+------+--------+-----+\n",
      "\n"
     ]
    }
   ],
   "source": [
    "# fillNA\n",
    "productDf.show()\n",
    "df = productDf.fillna(value=0, subset=['offer']) # Null vaule replace with 0\n",
    "df.show()"
   ]
  },
  {
   "cell_type": "code",
   "execution_count": null,
   "id": "10254638-c318-43ea-a98f-b17d05ed6b6c",
   "metadata": {},
   "outputs": [],
   "source": []
  }
 ],
 "metadata": {
  "kernelspec": {
   "display_name": "Python 3 (ipykernel)",
   "language": "python",
   "name": "python3"
  },
  "language_info": {
   "codemirror_mode": {
    "name": "ipython",
    "version": 3
   },
   "file_extension": ".py",
   "mimetype": "text/x-python",
   "name": "python",
   "nbconvert_exporter": "python",
   "pygments_lexer": "ipython3",
   "version": "3.7.12"
  }
 },
 "nbformat": 4,
 "nbformat_minor": 5
}
