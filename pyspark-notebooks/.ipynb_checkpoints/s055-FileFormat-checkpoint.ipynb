{
 "cells": [
  {
   "cell_type": "code",
   "execution_count": 1,
   "id": "51f42be5-ad1e-4c02-b4aa-a104f2043307",
   "metadata": {},
   "outputs": [],
   "source": [
    "import findspark\n",
    "findspark.init()"
   ]
  },
  {
   "cell_type": "code",
   "execution_count": 2,
   "id": "3d93d602-4ead-4b31-890d-5048f1d678c8",
   "metadata": {},
   "outputs": [
    {
     "name": "stderr",
     "output_type": "stream",
     "text": [
      "22/03/04 21:01:56 WARN Utils: Your hostname, ubuntu-virtual-machine resolves to a loopback address: 127.0.1.1; using 192.168.80.128 instead (on interface ens33)\n",
      "22/03/04 21:01:56 WARN Utils: Set SPARK_LOCAL_IP if you need to bind to another address\n",
      "22/03/04 21:01:57 WARN NativeCodeLoader: Unable to load native-hadoop library for your platform... using builtin-java classes where applicable\n",
      "Using Spark's default log4j profile: org/apache/spark/log4j-defaults.properties\n",
      "Setting default log level to \"WARN\".\n",
      "To adjust logging level use sc.setLogLevel(newLevel). For SparkR, use setLogLevel(newLevel).\n"
     ]
    }
   ],
   "source": [
    "from pyspark.conf import SparkConf\n",
    "config = SparkConf()\n",
    "# config.set(\"property\", \"value\")\n",
    "config.setMaster(\"local\").setAppName(\"FileFormats\")\n",
    "\n",
    "from pyspark.sql import SparkSession\n",
    "# spark Session, entry point for Spark SQL, DataFrame\n",
    "spark = SparkSession.builder\\\n",
    "                    .config(conf=config)\\\n",
    "                    .getOrCreate()\n",
    "\n",
    "sc = spark.sparkContext"
   ]
  },
  {
   "cell_type": "code",
   "execution_count": 3,
   "id": "6da599cb-dcd6-4c9d-b2e3-59ed9b03f159",
   "metadata": {},
   "outputs": [
    {
     "name": "stderr",
     "output_type": "stream",
     "text": [
      "                                                                                \r"
     ]
    }
   ],
   "source": [
    "# inferSchema will cause performace issue with loading\n",
    "movieDf = spark.read.format('csv')\\\n",
    "                    .option('header', True)\\\n",
    "                    .option('inferSchema', True)\\\n",
    "                    .load(\"hdfs://localhost:9000/movies\")\n",
    "\n",
    "ratingDf = spark.read.format('csv')\\\n",
    "                    .option('header', True)\\\n",
    "                    .option('inferSchema', True)\\\n",
    "                    .load(\"hdfs://localhost:9000/ratings\")"
   ]
  },
  {
   "cell_type": "code",
   "execution_count": 9,
   "id": "1f811ff3-cfb3-4b2b-b754-4db5f800808f",
   "metadata": {},
   "outputs": [],
   "source": [
    "# convert movies to json\n",
    "movieDf.write.mode(\"overwrite\")\\\n",
    "         .json(\"hdfs://localhost:9000/movies-json\")\n",
    "\n",
    "ratingDf.write.mode(\"overwrite\")\\\n",
    "         .json(\"hdfs://localhost:9000/ratings-json\")"
   ]
  },
  {
   "cell_type": "code",
   "execution_count": 16,
   "id": "0d682b02-0b1b-40cb-be36-b9a8975afb5a",
   "metadata": {},
   "outputs": [
    {
     "name": "stdout",
     "output_type": "stream",
     "text": [
      "root\n",
      " |-- genres: string (nullable = true)\n",
      " |-- movieId: long (nullable = true)\n",
      " |-- title: string (nullable = true)\n",
      "\n",
      "+--------------------+-------+--------------------+\n",
      "|              genres|movieId|               title|\n",
      "+--------------------+-------+--------------------+\n",
      "|Adventure|Animati...|      1|    Toy Story (1995)|\n",
      "|Adventure|Childre...|      2|      Jumanji (1995)|\n",
      "|      Comedy|Romance|      3|Grumpier Old Men ...|\n",
      "|Comedy|Drama|Romance|      4|Waiting to Exhale...|\n",
      "|              Comedy|      5|Father of the Bri...|\n",
      "+--------------------+-------+--------------------+\n",
      "only showing top 5 rows\n",
      "\n",
      "root\n",
      " |-- movieId: long (nullable = true)\n",
      " |-- rating: double (nullable = true)\n",
      " |-- timestamp: long (nullable = true)\n",
      " |-- userId: long (nullable = true)\n",
      "\n",
      "+-------+------+---------+------+\n",
      "|movieId|rating|timestamp|userId|\n",
      "+-------+------+---------+------+\n",
      "|      1|   4.0|964982703|     1|\n",
      "|      3|   4.0|964981247|     1|\n",
      "|      6|   4.0|964982224|     1|\n",
      "|     47|   5.0|964983815|     1|\n",
      "|     50|   5.0|964982931|     1|\n",
      "+-------+------+---------+------+\n",
      "only showing top 5 rows\n",
      "\n"
     ]
    }
   ],
   "source": [
    "# READ JSON FILE into DataFrame\n",
    "movieJsonDf = spark.read.format(\"json\")\\\n",
    "                    .option('inferSchema', True)\\\n",
    "                    .load(\"hdfs://localhost:9000/movies-json\")\n",
    "\n",
    "movieJsonDf.printSchema()\n",
    "movieJsonDf.show(5)\n",
    "\n",
    "ratingJsonDf = spark.read.format(\"json\")\\\n",
    "                    .option('inferSchema', True)\\\n",
    "                    .load(\"hdfs://localhost:9000/ratings-json\")\n",
    "\n",
    "ratingJsonDf.printSchema()\n",
    "ratingJsonDf.show(5)"
   ]
  },
  {
   "cell_type": "code",
   "execution_count": 10,
   "id": "d6a0b8fd-6866-4e58-9369-07dbfaf83ecd",
   "metadata": {},
   "outputs": [],
   "source": [
    "# parquet \n",
    "# Write dataframe into parquet format\n",
    "movieDf.write.mode(\"overwrite\")\\\n",
    "         .parquet(\"hdfs://localhost:9000/movies-parquet\")\n",
    "\n",
    "ratingDf.write.mode(\"overwrite\")\\\n",
    "         .parquet(\"hdfs://localhost:9000/ratings-parquet\")"
   ]
  },
  {
   "cell_type": "code",
   "execution_count": 14,
   "id": "5d58e020-08bc-48c0-8cb3-844276a9af9c",
   "metadata": {},
   "outputs": [
    {
     "name": "stdout",
     "output_type": "stream",
     "text": [
      "root\n",
      " |-- movieId: integer (nullable = true)\n",
      " |-- title: string (nullable = true)\n",
      " |-- genres: string (nullable = true)\n",
      "\n",
      "+-------+--------------------+--------------------+\n",
      "|movieId|               title|              genres|\n",
      "+-------+--------------------+--------------------+\n",
      "|      1|    Toy Story (1995)|Adventure|Animati...|\n",
      "|      2|      Jumanji (1995)|Adventure|Childre...|\n",
      "|      3|Grumpier Old Men ...|      Comedy|Romance|\n",
      "|      4|Waiting to Exhale...|Comedy|Drama|Romance|\n",
      "|      5|Father of the Bri...|              Comedy|\n",
      "+-------+--------------------+--------------------+\n",
      "only showing top 5 rows\n",
      "\n",
      "root\n",
      " |-- userId: integer (nullable = true)\n",
      " |-- movieId: integer (nullable = true)\n",
      " |-- rating: double (nullable = true)\n",
      " |-- timestamp: integer (nullable = true)\n",
      "\n",
      "+------+-------+------+---------+\n",
      "|userId|movieId|rating|timestamp|\n",
      "+------+-------+------+---------+\n",
      "|     1|      1|   4.0|964982703|\n",
      "|     1|      3|   4.0|964981247|\n",
      "|     1|      6|   4.0|964982224|\n",
      "|     1|     47|   5.0|964983815|\n",
      "|     1|     50|   5.0|964982931|\n",
      "+------+-------+------+---------+\n",
      "only showing top 5 rows\n",
      "\n"
     ]
    }
   ],
   "source": [
    "# READ Parquet File \n",
    "# inferSchema not need as parquet has shema itself\n",
    "movieParquetDf = spark.read.format(\"parquet\")\\\n",
    "                    .load(\"hdfs://localhost:9000/movies-parquet\")\n",
    "\n",
    "movieParquetDf.printSchema()\n",
    "movieParquetDf.show(5)\n",
    "\n",
    "ratingParquetDf = spark.read.format(\"parquet\")\\\n",
    "                    .load(\"hdfs://localhost:9000/ratings-parquet\")\n",
    "\n",
    "ratingParquetDf.printSchema()\n",
    "ratingParquetDf.show(5)"
   ]
  },
  {
   "cell_type": "code",
   "execution_count": 12,
   "id": "b886a708-ebca-4561-b423-236f33cac67a",
   "metadata": {},
   "outputs": [
    {
     "name": "stderr",
     "output_type": "stream",
     "text": [
      "                                                                                \r"
     ]
    }
   ],
   "source": [
    "# orc, optimized columar format\n",
    "# Write datafrom into orc format\n",
    "# https://orc.apache.org\n",
    "movieDf.write.mode(\"overwrite\")\\\n",
    "         .orc(\"hdfs://localhost:9000/movies-orc\")\n",
    "\n",
    "ratingDf.write.mode(\"overwrite\")\\\n",
    "         .orc(\"hdfs://localhost:9000/ratings-orc\")"
   ]
  },
  {
   "cell_type": "code",
   "execution_count": 15,
   "id": "a2a874e7-747c-4307-bf23-e9591d8efcf8",
   "metadata": {},
   "outputs": [
    {
     "name": "stdout",
     "output_type": "stream",
     "text": [
      "root\n",
      " |-- movieId: integer (nullable = true)\n",
      " |-- title: string (nullable = true)\n",
      " |-- genres: string (nullable = true)\n",
      "\n",
      "+-------+--------------------+--------------------+\n",
      "|movieId|               title|              genres|\n",
      "+-------+--------------------+--------------------+\n",
      "|      1|    Toy Story (1995)|Adventure|Animati...|\n",
      "|      2|      Jumanji (1995)|Adventure|Childre...|\n",
      "|      3|Grumpier Old Men ...|      Comedy|Romance|\n",
      "|      4|Waiting to Exhale...|Comedy|Drama|Romance|\n",
      "|      5|Father of the Bri...|              Comedy|\n",
      "+-------+--------------------+--------------------+\n",
      "only showing top 5 rows\n",
      "\n",
      "root\n",
      " |-- userId: integer (nullable = true)\n",
      " |-- movieId: integer (nullable = true)\n",
      " |-- rating: double (nullable = true)\n",
      " |-- timestamp: integer (nullable = true)\n",
      "\n",
      "+------+-------+------+---------+\n",
      "|userId|movieId|rating|timestamp|\n",
      "+------+-------+------+---------+\n",
      "|     1|      1|   4.0|964982703|\n",
      "|     1|      3|   4.0|964981247|\n",
      "|     1|      6|   4.0|964982224|\n",
      "|     1|     47|   5.0|964983815|\n",
      "|     1|     50|   5.0|964982931|\n",
      "+------+-------+------+---------+\n",
      "only showing top 5 rows\n",
      "\n"
     ]
    }
   ],
   "source": [
    "# READ Orc File \n",
    "# inferSchema not need as orc has shema itself\n",
    "movieOrcDf = spark.read.format(\"orc\")\\\n",
    "                    .load(\"hdfs://localhost:9000/movies-orc\")\n",
    "\n",
    "movieOrcDf.printSchema()\n",
    "movieOrcDf.show(5)\n",
    "\n",
    "ratingOrcDf = spark.read.format(\"orc\")\\\n",
    "                    .load(\"hdfs://localhost:9000/ratings-orc\")\n",
    "\n",
    "ratingOrcDf.printSchema()\n",
    "ratingOrcDf.show(5)"
   ]
  },
  {
   "cell_type": "code",
   "execution_count": null,
   "id": "0123b04f-78a4-42af-a720-f59f53bd27b5",
   "metadata": {},
   "outputs": [],
   "source": []
  }
 ],
 "metadata": {
  "kernelspec": {
   "display_name": "Python 3 (ipykernel)",
   "language": "python",
   "name": "python3"
  },
  "language_info": {
   "codemirror_mode": {
    "name": "ipython",
    "version": 3
   },
   "file_extension": ".py",
   "mimetype": "text/x-python",
   "name": "python",
   "nbconvert_exporter": "python",
   "pygments_lexer": "ipython3",
   "version": "3.7.12"
  }
 },
 "nbformat": 4,
 "nbformat_minor": 5
}
