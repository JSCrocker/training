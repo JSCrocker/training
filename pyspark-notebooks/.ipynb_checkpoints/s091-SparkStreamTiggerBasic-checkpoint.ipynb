{
 "cells": [
  {
   "cell_type": "code",
   "execution_count": 3,
   "id": "3abf189f-f17e-4984-8046-860f4185b9ed",
   "metadata": {},
   "outputs": [],
   "source": [
    "import findspark\n",
    "findspark.init()"
   ]
  },
  {
   "cell_type": "code",
   "execution_count": 4,
   "id": "d3ea47f9-2eb2-446d-8669-937b6aae732e",
   "metadata": {},
   "outputs": [
    {
     "name": "stderr",
     "output_type": "stream",
     "text": [
      "22/03/11 22:18:58 WARN Utils: Your hostname, ubuntu-virtual-machine resolves to a loopback address: 127.0.1.1; using 192.168.80.128 instead (on interface ens33)\n",
      "22/03/11 22:18:58 WARN Utils: Set SPARK_LOCAL_IP if you need to bind to another address\n",
      "22/03/11 22:18:59 WARN NativeCodeLoader: Unable to load native-hadoop library for your platform... using builtin-java classes where applicable\n",
      "Using Spark's default log4j profile: org/apache/spark/log4j-defaults.properties\n",
      "Setting default log level to \"WARN\".\n",
      "To adjust logging level use sc.setLogLevel(newLevel). For SparkR, use setLogLevel(newLevel).\n"
     ]
    }
   ],
   "source": [
    "from pyspark.conf import SparkConf\n",
    "config = SparkConf()\n",
    "# config.set(\"property\", \"value\")\n",
    "config.setMaster(\"local\").setAppName(\"SparkStreamHelloWorld\")\n",
    "\n",
    "from pyspark.sql import SparkSession\n",
    "# spark Session, entry point for Spark SQL, DataFrame\n",
    "spark = SparkSession.builder\\\n",
    "                    .config(conf=config)\\\n",
    "                    .getOrCreate()\n",
    "\n",
    "sc = spark.sparkContext"
   ]
  },
  {
   "cell_type": "code",
   "execution_count": 1,
   "id": "c901da5a-ddf7-4226-8d85-f3ea66caa80b",
   "metadata": {},
   "outputs": [],
   "source": [
    "# pre-requistes\n",
    "# we need a server running on port 9999, that provides text stream to spark\n",
    "# spark stream is a client, that will connext to a server running on port 9999\n",
    "\n",
    "# termial\n",
    "# nc -lk 9999"
   ]
  },
  {
   "cell_type": "code",
   "execution_count": 5,
   "id": "78d349c4-f759-451d-8c0c-06a670199b1b",
   "metadata": {},
   "outputs": [
    {
     "name": "stderr",
     "output_type": "stream",
     "text": [
      "22/03/11 22:19:09 WARN TextSocketSourceProvider: The socket source should not be used for production applications! It does not support recovery.\n"
     ]
    }
   ],
   "source": [
    "# Structured Streaming\n",
    "# Based on Data Frame/ internally there is an RDD\n",
    "# Micro Batch\n",
    "# spark batch programming, we use spark.read\n",
    "# in streaming, we use readStream\n",
    "# socket is predefined word, \n",
    "lineStreamDf = spark\\\n",
    "                .readStream\\\n",
    "                .format(\"socket\")\\\n",
    "                .option(\"host\", \"localhost\")\\\n",
    "                .option(\"port\", 9999)\\\n",
    "                .load()\n",
    "\n",
    "# now spark will connect to the server running on port 9999\n",
    "# then it will wait for the input from server\n",
    "# user/developer can write something on the server console and Press Entery key\n",
    "# to send to spark / client"
   ]
  },
  {
   "cell_type": "code",
   "execution_count": 6,
   "id": "640e75f3-0a84-47ac-aa96-62c454332bb7",
   "metadata": {},
   "outputs": [
    {
     "name": "stdout",
     "output_type": "stream",
     "text": [
      "root\n",
      " |-- value: string (nullable = true)\n",
      "\n"
     ]
    }
   ],
   "source": [
    "lineStreamDf.printSchema()"
   ]
  },
  {
   "cell_type": "code",
   "execution_count": null,
   "id": "63f7d46c-b7c2-4f82-bdb7-7a1bca7ab496",
   "metadata": {},
   "outputs": [],
   "source": [
    "# .show() will notwork for stream, it will cause an error\n",
    "# good for batches, not for stream\n",
    "# lineStreamDf.show()"
   ]
  },
  {
   "cell_type": "code",
   "execution_count": 7,
   "id": "d37cd7e6-a0d0-4b31-bdc0-f4b14e5a4c87",
   "metadata": {},
   "outputs": [
    {
     "name": "stderr",
     "output_type": "stream",
     "text": [
      "22/03/11 22:25:57 WARN StreamingQueryManager: Temporary checkpoint location created which is deleted normally when the query didn't fail: /tmp/temporary-33e53cb0-0837-475e-90c8-ede3b4ecb738. If it's required to delete it under any circumstances, please set spark.sql.streaming.forceDeleteTempCheckpointLocation to true. Important to know deleting temp checkpoint folder is best effort.\n",
      "                                                                                \r"
     ]
    },
    {
     "name": "stdout",
     "output_type": "stream",
     "text": [
      "-------------------------------------------\n",
      "Batch: 0\n",
      "-------------------------------------------\n",
      "+-----+\n",
      "|value|\n",
      "+-----+\n",
      "+-----+\n",
      "\n",
      "-------------------------------------------\n",
      "Batch: 1\n",
      "-------------------------------------------\n",
      "+-----------+\n",
      "|      value|\n",
      "+-----------+\n",
      "|hello spark|\n",
      "+-----------+\n",
      "\n",
      "-------------------------------------------\n",
      "Batch: 2\n",
      "-------------------------------------------\n",
      "+-----+\n",
      "|value|\n",
      "+-----+\n",
      "|hello|\n",
      "+-----+\n",
      "\n",
      "-------------------------------------------\n",
      "Batch: 3\n",
      "-------------------------------------------\n",
      "+-------+\n",
      "|  value|\n",
      "+-------+\n",
      "|welcome|\n",
      "+-------+\n",
      "\n",
      "-------------------------------------------\n",
      "Batch: 4\n",
      "-------------------------------------------\n",
      "+------------+\n",
      "|       value|\n",
      "+------------+\n",
      "|last message|\n",
      "+------------+\n",
      "\n"
     ]
    }
   ],
   "source": [
    "# print data on console\n",
    "# for stream write, we will use .writeStream()\n",
    "# for batch use .write()\n",
    "# append is mode\n",
    "# console is keyword, present console output\n",
    "echoOnConsole = lineStreamDf\\\n",
    "                    .writeStream\\\n",
    "                    .outputMode(\"append\")\\\n",
    "                    .format(\"console\")\\\n",
    "                    .start()\n",
    "\n",
    "# start basically start the streaming, listen for input\n",
    "# as input arrives, it starts processing\n",
    "# listen for jupyter console for the output"
   ]
  },
  {
   "cell_type": "code",
   "execution_count": null,
   "id": "fee9af32-d328-4a8c-96b2-a55e18a8e8d1",
   "metadata": {},
   "outputs": [],
   "source": []
  }
 ],
 "metadata": {
  "kernelspec": {
   "display_name": "Python 3 (ipykernel)",
   "language": "python",
   "name": "python3"
  },
  "language_info": {
   "codemirror_mode": {
    "name": "ipython",
    "version": 3
   },
   "file_extension": ".py",
   "mimetype": "text/x-python",
   "name": "python",
   "nbconvert_exporter": "python",
   "pygments_lexer": "ipython3",
   "version": "3.7.12"
  }
 },
 "nbformat": 4,
 "nbformat_minor": 5
}
