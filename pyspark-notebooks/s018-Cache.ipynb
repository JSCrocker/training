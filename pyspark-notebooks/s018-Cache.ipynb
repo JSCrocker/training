{
 "cells": [
  {
   "cell_type": "code",
   "execution_count": 1,
   "id": "b61d1ee0-9ec5-49fb-92e4-314145d515b1",
   "metadata": {},
   "outputs": [
    {
     "name": "stderr",
     "output_type": "stream",
     "text": [
      "22/03/02 20:29:00 WARN Utils: Your hostname, ubuntu-virtual-machine resolves to a loopback address: 127.0.1.1; using 192.168.80.128 instead (on interface ens33)\n",
      "22/03/02 20:29:00 WARN Utils: Set SPARK_LOCAL_IP if you need to bind to another address\n",
      "22/03/02 20:29:01 WARN NativeCodeLoader: Unable to load native-hadoop library for your platform... using builtin-java classes where applicable\n",
      "Using Spark's default log4j profile: org/apache/spark/log4j-defaults.properties\n",
      "Setting default log level to \"WARN\".\n",
      "To adjust logging level use sc.setLogLevel(newLevel). For SparkR, use setLogLevel(newLevel).\n"
     ]
    }
   ],
   "source": [
    "# will always need this 4 lines to start \n",
    "import findspark\n",
    "findspark.init()\n",
    "from pyspark import SparkContext\n",
    "sc = SparkContext(\"local\", \"Cache\")"
   ]
  },
  {
   "cell_type": "code",
   "execution_count": 2,
   "id": "830ebb79-0985-448f-924e-a5b7e615039c",
   "metadata": {},
   "outputs": [],
   "source": [
    "from pyspark import StorageLevel"
   ]
  },
  {
   "cell_type": "code",
   "execution_count": 17,
   "id": "68149b1a-fa71-402b-b627-deb4a71cf28f",
   "metadata": {},
   "outputs": [
    {
     "data": {
      "text/plain": [
       "'prince dont'"
      ]
     },
     "execution_count": 17,
     "metadata": {},
     "output_type": "execute_result"
    }
   ],
   "source": [
    "# how to remove special chars\n",
    "# we will remove all ascii\n",
    "def to_ascii(text):\n",
    "    import re\n",
    "    output = re.sub(r\"[^a-zA-z0-9 ]\", \"\", text)\n",
    "    #print(output)\n",
    "    return output\n",
    "    \n",
    "text = \"prince, don't\"\n",
    "to_ascii(text)"
   ]
  },
  {
   "cell_type": "code",
   "execution_count": 36,
   "id": "a92093c8-4a37-45c8-8596-8db6da03df00",
   "metadata": {},
   "outputs": [],
   "source": [
    "wordCountRdd = sc.textFile(\"hdfs://localhost:9000/book-war-and-peace.txt\")\\\n",
    "                    .map(lambda line: to_ascii(line))\\\n",
    "                    .map(lambda line: line.strip().lower())\\\n",
    "                    .map (lambda line: line.split(\" \"))\\\n",
    "                    .flatMap(lambda elements: elements)\\\n",
    "                    .filter (lambda word: word != \"\")\\\n",
    "                    .map (lambda word: (word, 1))\\\n",
    "                    .reduceByKey(lambda acc, value: acc + value)"
   ]
  },
  {
   "cell_type": "code",
   "execution_count": 37,
   "id": "d08add90-6109-4d67-a40b-56e27fac6ef6",
   "metadata": {},
   "outputs": [
    {
     "name": "stderr",
     "output_type": "stream",
     "text": [
      "                                                                                \r"
     ]
    },
    {
     "data": {
      "text/plain": [
       "[('chapter', 367),\n",
       " ('i', 4089),\n",
       " ('well', 741),\n",
       " ('prince', 1886),\n",
       " ('so', 1852),\n",
       " ('genoa', 3),\n",
       " ('and', 22082),\n",
       " ('lucca', 2),\n",
       " ('are', 1259),\n",
       " ('now', 1305)]"
      ]
     },
     "execution_count": 37,
     "metadata": {},
     "output_type": "execute_result"
    }
   ],
   "source": [
    "# wordCountRdd.cache() # , call persit internally with MEMORY_ONLY\n",
    "\n",
    "#wordCountRdd.persist(StorageLevel.MEMORY_AND_DISK) # we have many options\n",
    "wordCountRdd.persist(StorageLevel.DISK_ONLY) # we have many options\n",
    "wordCountRdd.take(10)"
   ]
  },
  {
   "cell_type": "code",
   "execution_count": 40,
   "id": "dc296bcc-d7c1-488b-911e-ab674f6ba89f",
   "metadata": {},
   "outputs": [
    {
     "data": {
      "text/plain": [
       "[('infamies', 1),\n",
       " ('yousit', 1),\n",
       " ('elite', 1),\n",
       " ('scarletliveried', 1),\n",
       " ('10annette', 1),\n",
       " ('grandfathers', 1),\n",
       " ('canceled', 1),\n",
       " ('woundup', 1),\n",
       " ('tease', 1),\n",
       " ('novosiltsevs', 1)]"
      ]
     },
     "execution_count": 40,
     "metadata": {},
     "output_type": "execute_result"
    }
   ],
   "source": [
    "# sort data by value\n",
    "sortedRddAscending = wordCountRdd.sortBy(lambda kv: kv[1])\n",
    "sortedRddAscending.take(10)"
   ]
  },
  {
   "cell_type": "code",
   "execution_count": 41,
   "id": "fd61620e-b513-441e-ba28-a5e02148c510",
   "metadata": {},
   "outputs": [
    {
     "name": "stdout",
     "output_type": "stream",
     "text": [
      "1\n"
     ]
    },
    {
     "data": {
      "text/plain": [
       "[('the', 34395),\n",
       " ('and', 22082),\n",
       " ('to', 16636),\n",
       " ('of', 14872),\n",
       " ('a', 10464),\n",
       " ('he', 9807),\n",
       " ('in', 8744),\n",
       " ('his', 7967),\n",
       " ('that', 7798),\n",
       " ('was', 7328)]"
      ]
     },
     "execution_count": 41,
     "metadata": {},
     "output_type": "execute_result"
    }
   ],
   "source": [
    "# sortBy values but decending order\n",
    "print(wordCountRdd.getNumPartitions())\n",
    "sortedRddDecending = wordCountRdd.sortBy(lambda kv: kv[1], ascending=False)\n",
    "sortedRddDecending.take(10)"
   ]
  },
  {
   "cell_type": "code",
   "execution_count": 42,
   "id": "5b70ff68-be2d-4e5d-9359-41c8aeef31f9",
   "metadata": {},
   "outputs": [],
   "source": [
    "wordCountRdd.saveAsTextFile(\"hdfs://localhost:9000/war-and-peace-1.txt\")"
   ]
  },
  {
   "cell_type": "code",
   "execution_count": 43,
   "id": "25dead43-d477-4ab3-96b7-9216f879a70a",
   "metadata": {},
   "outputs": [],
   "source": [
    "sortedRddDecending.saveAsTextFile(\"hdfs://localhost:9000/war-and-peace-decending.txt\")"
   ]
  },
  {
   "cell_type": "code",
   "execution_count": 45,
   "id": "0fd5030a-f009-4034-90e0-5805050ce235",
   "metadata": {},
   "outputs": [],
   "source": [
    "sortedRddAscending.saveAsTextFile(\"hdfs://localhost:9000/war-and-peace-ascending.txt\")"
   ]
  },
  {
   "cell_type": "code",
   "execution_count": null,
   "id": "ed5b822c-0b41-479c-8de6-5e8d4d6ee689",
   "metadata": {},
   "outputs": [],
   "source": []
  }
 ],
 "metadata": {
  "kernelspec": {
   "display_name": "Python 3 (ipykernel)",
   "language": "python",
   "name": "python3"
  },
  "language_info": {
   "codemirror_mode": {
    "name": "ipython",
    "version": 3
   },
   "file_extension": ".py",
   "mimetype": "text/x-python",
   "name": "python",
   "nbconvert_exporter": "python",
   "pygments_lexer": "ipython3",
   "version": "3.7.12"
  }
 },
 "nbformat": 4,
 "nbformat_minor": 5
}
