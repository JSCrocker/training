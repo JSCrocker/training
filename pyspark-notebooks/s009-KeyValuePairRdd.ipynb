{
 "cells": [
  {
   "cell_type": "code",
   "execution_count": 1,
   "id": "4e490960-1bfe-43dd-9dd8-ddcdc3a88628",
   "metadata": {},
   "outputs": [
    {
     "name": "stderr",
     "output_type": "stream",
     "text": [
      "22/03/01 01:32:03 WARN Utils: Your hostname, ubuntu-virtual-machine resolves to a loopback address: 127.0.1.1; using 192.168.80.128 instead (on interface ens33)\n",
      "22/03/01 01:32:03 WARN Utils: Set SPARK_LOCAL_IP if you need to bind to another address\n",
      "22/03/01 01:32:04 WARN NativeCodeLoader: Unable to load native-hadoop library for your platform... using builtin-java classes where applicable\n",
      "Using Spark's default log4j profile: org/apache/spark/log4j-defaults.properties\n",
      "Setting default log level to \"WARN\".\n",
      "To adjust logging level use sc.setLogLevel(newLevel). For SparkR, use setLogLevel(newLevel).\n",
      "22/03/01 01:32:07 WARN Utils: Service 'SparkUI' could not bind on port 4040. Attempting port 4041.\n",
      "22/03/01 01:32:07 WARN Utils: Service 'SparkUI' could not bind on port 4041. Attempting port 4042.\n",
      "22/03/01 01:32:07 WARN Utils: Service 'SparkUI' could not bind on port 4042. Attempting port 4043.\n",
      "22/03/01 01:32:07 WARN Utils: Service 'SparkUI' could not bind on port 4043. Attempting port 4044.\n",
      "22/03/01 01:32:07 WARN Utils: Service 'SparkUI' could not bind on port 4044. Attempting port 4045.\n",
      "22/03/01 01:32:07 WARN Utils: Service 'SparkUI' could not bind on port 4045. Attempting port 4046.\n",
      "22/03/01 01:32:07 WARN Utils: Service 'SparkUI' could not bind on port 4046. Attempting port 4047.\n",
      "22/03/01 01:32:07 WARN Utils: Service 'SparkUI' could not bind on port 4047. Attempting port 4048.\n"
     ]
    }
   ],
   "source": [
    "# will always need this 4 lines to start \n",
    "import findspark\n",
    "findspark.init()\n",
    "from pyspark import SparkContext\n",
    "sc = SparkContext(\"local\", \"KeyValuePairRDD\")"
   ]
  },
  {
   "cell_type": "code",
   "execution_count": 9,
   "id": "ad87c23b-7274-40aa-8204-2a7fbf83c0c3",
   "metadata": {},
   "outputs": [],
   "source": [
    "# key value pair formed from tuple, where as first element in tuple is known as key\n",
    "# second element known as value\n",
    "# (key, value)\n",
    "\n",
    "data = [\n",
    "    ('apple', 20), # apple = key, 2 = value\n",
    "    ('orange', 30), # orange = key, 3 = value\n",
    "    ('apple', 10), # apple = key, 1 = value\n",
    "    ('mango', 50) # mango = key, 5 = value\n",
    "]\n",
    "\n",
    "rdd = sc.parallelize(data)"
   ]
  },
  {
   "cell_type": "code",
   "execution_count": 6,
   "id": "0eb40c8f-90b0-48a8-84a0-422fc67bd75a",
   "metadata": {},
   "outputs": [
    {
     "data": {
      "text/plain": [
       "defaultdict(int, {'apple': 2, 'orange': 1, 'mango': 1})"
      ]
     },
     "execution_count": 6,
     "metadata": {},
     "output_type": "execute_result"
    }
   ],
   "source": [
    "# find the count of keys (apple - 2, orange - 1, mango - 1)\n",
    "# for rdd function with \"Key\" can use this dataset \n",
    "result = rdd.countByKey() # action\n",
    "result # result is dictionary, it returns count of keys"
   ]
  },
  {
   "cell_type": "code",
   "execution_count": 10,
   "id": "f7974a9d-6aef-4bcb-a848-580206ca6fa0",
   "metadata": {},
   "outputs": [
    {
     "data": {
      "text/plain": [
       "[('apple', 30), ('orange', 30), ('mango', 50)]"
      ]
     },
     "execution_count": 10,
     "metadata": {},
     "output_type": "execute_result"
    }
   ],
   "source": [
    "# find the total kilograms of fruits sold (apple - 30, orange - 30, mango - 50)\n",
    "# reduceByKeys, useful for sum or custom code\n",
    "result = rdd.reduceByKey(lambda acc, value: acc + value)\n",
    "result.collect()"
   ]
  },
  {
   "cell_type": "code",
   "execution_count": null,
   "id": "4ee62c2f-f9e6-459c-b69c-d1c56214ad48",
   "metadata": {},
   "outputs": [],
   "source": []
  }
 ],
 "metadata": {
  "kernelspec": {
   "display_name": "Python 3 (ipykernel)",
   "language": "python",
   "name": "python3"
  },
  "language_info": {
   "codemirror_mode": {
    "name": "ipython",
    "version": 3
   },
   "file_extension": ".py",
   "mimetype": "text/x-python",
   "name": "python",
   "nbconvert_exporter": "python",
   "pygments_lexer": "ipython3",
   "version": "3.7.12"
  }
 },
 "nbformat": 4,
 "nbformat_minor": 5
}
