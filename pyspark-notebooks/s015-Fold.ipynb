{
 "cells": [
  {
   "cell_type": "code",
   "execution_count": 1,
   "id": "7cc4d458-1c79-4a98-b003-676032eb724b",
   "metadata": {},
   "outputs": [
    {
     "name": "stderr",
     "output_type": "stream",
     "text": [
      "22/03/02 01:47:18 WARN Utils: Your hostname, ubuntu-virtual-machine resolves to a loopback address: 127.0.1.1; using 192.168.80.128 instead (on interface ens33)\n",
      "22/03/02 01:47:18 WARN Utils: Set SPARK_LOCAL_IP if you need to bind to another address\n",
      "22/03/02 01:47:19 WARN NativeCodeLoader: Unable to load native-hadoop library for your platform... using builtin-java classes where applicable\n",
      "Using Spark's default log4j profile: org/apache/spark/log4j-defaults.properties\n",
      "Setting default log level to \"WARN\".\n",
      "To adjust logging level use sc.setLogLevel(newLevel). For SparkR, use setLogLevel(newLevel).\n",
      "22/03/02 01:47:21 WARN Utils: Service 'SparkUI' could not bind on port 4040. Attempting port 4041.\n",
      "22/03/02 01:47:21 WARN Utils: Service 'SparkUI' could not bind on port 4041. Attempting port 4042.\n",
      "22/03/02 01:47:21 WARN Utils: Service 'SparkUI' could not bind on port 4042. Attempting port 4043.\n"
     ]
    }
   ],
   "source": [
    "# will always need this 4 lines to start \n",
    "import findspark\n",
    "findspark.init()\n",
    "from pyspark import SparkContext\n",
    "sc = SparkContext(\"local\", \"Fold\")"
   ]
  },
  {
   "cell_type": "code",
   "execution_count": 9,
   "id": "cf131357-cba8-4909-9f51-00a6fb56f8b1",
   "metadata": {},
   "outputs": [],
   "source": [
    "# fold is userful for aggregate\n",
    "# Fold has initial value to start with where as reduce will take first value as \n",
    "def add(acc, value):\n",
    "    result = acc + value\n",
    "    print(\"acc\", acc, \"value\", value, \"output\", result)\n",
    "    return result"
   ]
  },
  {
   "cell_type": "code",
   "execution_count": 3,
   "id": "5c44cd51-6c97-406b-be94-0b71cb142999",
   "metadata": {},
   "outputs": [],
   "source": [
    "rdd = sc.parallelize([10, 20, 30, 40, 50])"
   ]
  },
  {
   "cell_type": "code",
   "execution_count": 6,
   "id": "c19dd8a4-a1f1-4d44-ba88-1a6ef05f37ba",
   "metadata": {},
   "outputs": [
    {
     "name": "stdout",
     "output_type": "stream",
     "text": [
      "acc 0 value 150\n"
     ]
    },
    {
     "name": "stderr",
     "output_type": "stream",
     "text": [
      "acc 0 value 10\n",
      "acc 10 value 20\n",
      "acc 30 value 30\n",
      "acc 60 value 40\n",
      "acc 100 value 50\n",
      "                                                                                \r"
     ]
    },
    {
     "data": {
      "text/plain": [
       "150"
      ]
     },
     "execution_count": 6,
     "metadata": {},
     "output_type": "execute_result"
    }
   ],
   "source": [
    "# fold with aggregate with start value 0\n",
    "rdd.fold (0, add)"
   ]
  },
  {
   "cell_type": "code",
   "execution_count": 11,
   "id": "388ac56a-e542-443b-a6aa-0685cd555498",
   "metadata": {},
   "outputs": [
    {
     "data": {
      "text/plain": [
       "[[10, 20], [30, 40, 50]]"
      ]
     },
     "execution_count": 11,
     "metadata": {},
     "output_type": "execute_result"
    }
   ],
   "source": [
    "rdd = sc.parallelize([10, 20, 30, 40, 50], 2)\n",
    "rdd.glom().collect()"
   ]
  },
  {
   "cell_type": "code",
   "execution_count": 12,
   "id": "5d2fba12-6b9a-483f-8646-1db2068ecb20",
   "metadata": {},
   "outputs": [
    {
     "name": "stdout",
     "output_type": "stream",
     "text": [
      "acc 0 value 30 output 30\n",
      "acc 30 value 120 output 150\n"
     ]
    },
    {
     "name": "stderr",
     "output_type": "stream",
     "text": [
      "acc 0 value 10 output 10\n",
      "acc 10 value 20 output 30\n",
      "acc 0 value 30 output 30\n",
      "acc 30 value 40 output 70\n",
      "acc 70 value 50 output 120\n"
     ]
    },
    {
     "data": {
      "text/plain": [
       "150"
      ]
     },
     "execution_count": 12,
     "metadata": {},
     "output_type": "execute_result"
    }
   ],
   "source": [
    "# part 0: add is applied on part 0 = 10 + 20 = 30\n",
    "# part 1: add is applied on part 1 = 30 + 40 + 50 = 120\n",
    "# final result: add is applied on the result of part 0, part 1 = 30 + 120 = 150\n",
    "rdd.fold(0, add)"
   ]
  },
  {
   "cell_type": "code",
   "execution_count": 15,
   "id": "2879c99d-c5c8-4850-b01f-3ec8cb614b3d",
   "metadata": {},
   "outputs": [
    {
     "name": "stderr",
     "output_type": "stream",
     "text": [
      "acc 0 value 200 output 200\n",
      "acc 0 value 50 output 50\n",
      "acc 0 value 20 output 20\n",
      "acc 200 value 100 output 300\n",
      "acc 50 value 25 output 75\n"
     ]
    },
    {
     "data": {
      "text/plain": [
       "[('INFY', 300), ('TSLA', 75), ('EMR', 20)]"
      ]
     },
     "execution_count": 15,
     "metadata": {},
     "output_type": "execute_result"
    }
   ],
   "source": [
    "# FoldByKey\n",
    "# similar to fold, where as fold is applied on all the values in RDD in partition\n",
    "# foldByKEy is used against (Key, Value) paired rdd, key/value rdd\n",
    "# fold work based on key\n",
    "orders = [\n",
    "    # SYMBOL QTY\n",
    "    ('INFY', 200),\n",
    "    ('TSLA', 50),\n",
    "    ('EMR', 20),\n",
    "    ('INFY', 100),\n",
    "    ('TSLA', 25)\n",
    "]\n",
    "\n",
    "def add(acc, value):\n",
    "    output = acc + value\n",
    "    print(\"acc\", acc, \"value\", value, \"output\", output)\n",
    "    return output\n",
    "\n",
    "orderRdd = sc.parallelize(orders)\n",
    "# fold by key, return rdd\n",
    "orderRdd.foldByKey(0, add).collect()"
   ]
  },
  {
   "cell_type": "code",
   "execution_count": null,
   "id": "e3ed8f76-7963-4fe7-bb24-366db80f7a61",
   "metadata": {},
   "outputs": [],
   "source": []
  }
 ],
 "metadata": {
  "kernelspec": {
   "display_name": "Python 3 (ipykernel)",
   "language": "python",
   "name": "python3"
  },
  "language_info": {
   "codemirror_mode": {
    "name": "ipython",
    "version": 3
   },
   "file_extension": ".py",
   "mimetype": "text/x-python",
   "name": "python",
   "nbconvert_exporter": "python",
   "pygments_lexer": "ipython3",
   "version": "3.7.12"
  }
 },
 "nbformat": 4,
 "nbformat_minor": 5
}
