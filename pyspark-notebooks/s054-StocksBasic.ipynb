{
 "cells": [
  {
   "cell_type": "code",
   "execution_count": 1,
   "id": "ccca7429-a120-485c-ae2d-f49ed6a6459d",
   "metadata": {},
   "outputs": [],
   "source": [
    "import findspark\n",
    "findspark.init()"
   ]
  },
  {
   "cell_type": "code",
   "execution_count": 2,
   "id": "8045ccaa-be04-4186-bde9-9c1fc46dde03",
   "metadata": {},
   "outputs": [
    {
     "name": "stderr",
     "output_type": "stream",
     "text": [
      "22/03/04 03:31:29 WARN Utils: Your hostname, ubuntu-virtual-machine resolves to a loopback address: 127.0.1.1; using 192.168.80.128 instead (on interface ens33)\n",
      "22/03/04 03:31:29 WARN Utils: Set SPARK_LOCAL_IP if you need to bind to another address\n",
      "22/03/04 03:31:29 WARN NativeCodeLoader: Unable to load native-hadoop library for your platform... using builtin-java classes where applicable\n",
      "Using Spark's default log4j profile: org/apache/spark/log4j-defaults.properties\n",
      "Setting default log level to \"WARN\".\n",
      "To adjust logging level use sc.setLogLevel(newLevel). For SparkR, use setLogLevel(newLevel).\n",
      "22/03/04 03:31:31 WARN Utils: Service 'SparkUI' could not bind on port 4040. Attempting port 4041.\n",
      "22/03/04 03:31:31 WARN Utils: Service 'SparkUI' could not bind on port 4041. Attempting port 4042.\n",
      "22/03/04 03:31:31 WARN Utils: Service 'SparkUI' could not bind on port 4042. Attempting port 4043.\n"
     ]
    }
   ],
   "source": [
    "from pyspark.conf import SparkConf\n",
    "config = SparkConf()\n",
    "# config.set(\"property\", \"value\")\n",
    "config.setMaster(\"local\").setAppName(\"StockBasic\")\n",
    "\n",
    "from pyspark.sql import SparkSession\n",
    "# spark Session, entry point for Spark SQL, DataFrame\n",
    "spark = SparkSession.builder\\\n",
    "                    .config(conf=config)\\\n",
    "                    .getOrCreate()\n",
    "\n",
    "sc = spark.sparkContext"
   ]
  },
  {
   "cell_type": "code",
   "execution_count": 3,
   "id": "ca3c2b09-245f-4c61-bd5e-cfb6c0e1c3c4",
   "metadata": {},
   "outputs": [
    {
     "name": "stdout",
     "output_type": "stream",
     "text": [
      "+--------------------+------------------+----------+------+------------+\n",
      "|        Company Name|          Industry|    Symbol|Series|   ISIN Code|\n",
      "+--------------------+------------------+----------+------+------------+\n",
      "|      Axis Bank Ltd.|FINANCIAL SERVICES|  AXISBANK|    EQ|INE238A01034|\n",
      "|  Bajaj Finance Ltd.|FINANCIAL SERVICES|BAJFINANCE|    EQ|INE296A01024|\n",
      "|  Bajaj Finserv Ltd.|FINANCIAL SERVICES|BAJAJFINSV|    EQ|INE918I01018|\n",
      "|Cholamandalam Inv...|FINANCIAL SERVICES|  CHOLAFIN|    EQ|INE121A01024|\n",
      "|HDFC Asset Manage...|FINANCIAL SERVICES|   HDFCAMC|    EQ|INE127D01025|\n",
      "+--------------------+------------------+----------+------+------------+\n",
      "only showing top 5 rows\n",
      "\n",
      "+----------+------+-------+-------+-------+-------+-------+---------+---------+-------------+-----------+-----------+------------+\n",
      "|    SYMBOL|SERIES|   OPEN|   HIGH|    LOW|  CLOSE|   LAST|PREVCLOSE|TOTTRDQTY|    TOTTRDVAL|  TIMESTAMP|TOTALTRADES|        ISIN|\n",
      "+----------+------+-------+-------+-------+-------+-------+---------+---------+-------------+-----------+-----------+------------+\n",
      "| 20MICRONS|    EQ|   70.1|   73.6|   70.1|  71.85|  72.05|     71.2|   219912|1.583125505E7|02-MAR-2022|       2642|INE144J01027|\n",
      "|21STCENMGM|    EQ|   29.6|   29.6|   29.6|   29.6|   29.6|     30.2|     1209|      35786.4|02-MAR-2022|         45|INE253B01015|\n",
      "| 3IINFOLTD|    EQ|  51.05|  51.35|   49.1|  49.45|   49.4|    51.45|  1092731| 5.46426994E7|02-MAR-2022|       7273|INE748C01038|\n",
      "|   3MINDIA|    EQ|21480.0|21480.0|20730.0|20923.1|20925.0|  21208.4|     1823|3.829445575E7|02-MAR-2022|       1120|INE470A01017|\n",
      "|    3PLAND|    BE|   15.9|  16.15|   14.8|   15.5|  15.65|    15.55|     8318|     128580.0|02-MAR-2022|         70|INE105C01023|\n",
      "+----------+------+-------+-------+-------+-------+-------+---------+---------+-------------+-----------+-----------+------------+\n",
      "only showing top 5 rows\n",
      "\n"
     ]
    }
   ],
   "source": [
    "SectorsDf = spark.read.format('csv')\\\n",
    "                    .option('header', True)\\\n",
    "                    .option('inferSchema', True)\\\n",
    "                    .load(\"hdfs://localhost:9000/stocks/sectors\")\n",
    "\n",
    "dailyDf = spark.read.format('csv')\\\n",
    "                    .option('header', True)\\\n",
    "                    .option('inferSchema', True)\\\n",
    "                    .load(\"hdfs://localhost:9000/stocks/daily\")\n",
    "\n",
    "# to drop column the NAME has to be in double qoutes - \"NAME\" \n",
    "dailyDf = dailyDf.drop(\"_c13\")\n",
    "SectorsDf.show(5)\n",
    "dailyDf.show(5)"
   ]
  },
  {
   "cell_type": "code",
   "execution_count": 4,
   "id": "aacbf24f-f2cb-4ff1-b589-16a1dadb9856",
   "metadata": {},
   "outputs": [
    {
     "name": "stdout",
     "output_type": "stream",
     "text": [
      "root\n",
      " |-- SYMBOL: string (nullable = true)\n",
      " |-- SERIES: string (nullable = true)\n",
      " |-- OPEN: double (nullable = true)\n",
      " |-- HIGH: double (nullable = true)\n",
      " |-- LOW: double (nullable = true)\n",
      " |-- CLOSE: double (nullable = true)\n",
      " |-- LAST: double (nullable = true)\n",
      " |-- PREVCLOSE: double (nullable = true)\n",
      " |-- TOTTRDQTY: integer (nullable = true)\n",
      " |-- TOTTRDVAL: double (nullable = true)\n",
      " |-- TIMESTAMP: string (nullable = true)\n",
      " |-- TOTALTRADES: integer (nullable = true)\n",
      " |-- ISIN: string (nullable = true)\n",
      " |-- GAIN: double (nullable = true)\n",
      " |-- GAINP: double (nullable = true)\n",
      "\n",
      "+----------+------+-------+-------+-------+-------+-------+---------+---------+-------------+-----------+-----------+------------+--------------------+-------------------+\n",
      "|    SYMBOL|SERIES|   OPEN|   HIGH|    LOW|  CLOSE|   LAST|PREVCLOSE|TOTTRDQTY|    TOTTRDVAL|  TIMESTAMP|TOTALTRADES|        ISIN|                GAIN|              GAINP|\n",
      "+----------+------+-------+-------+-------+-------+-------+---------+---------+-------------+-----------+-----------+------------+--------------------+-------------------+\n",
      "| 20MICRONS|    EQ|   70.1|   73.6|   70.1|  71.85|  72.05|     71.2|   219912|1.583125505E7|02-MAR-2022|       2642|INE144J01027|                1.75| 2.4964336661911557|\n",
      "|21STCENMGM|    EQ|   29.6|   29.6|   29.6|   29.6|   29.6|     30.2|     1209|      35786.4|02-MAR-2022|         45|INE253B01015|                 0.0|                0.0|\n",
      "| 3IINFOLTD|    EQ|  51.05|  51.35|   49.1|  49.45|   49.4|    51.45|  1092731| 5.46426994E7|02-MAR-2022|       7273|INE748C01038| -1.5999999999999943|-3.1341821743388723|\n",
      "|   3MINDIA|    EQ|21480.0|21480.0|20730.0|20923.1|20925.0|  21208.4|     1823|3.829445575E7|02-MAR-2022|       1120|INE470A01017|  -556.9000000000015|-2.5926443202979583|\n",
      "|    3PLAND|    BE|   15.9|  16.15|   14.8|   15.5|  15.65|    15.55|     8318|     128580.0|02-MAR-2022|         70|INE105C01023|-0.40000000000000036|-2.5157232704402537|\n",
      "+----------+------+-------+-------+-------+-------+-------+---------+---------+-------------+-----------+-----------+------------+--------------------+-------------------+\n",
      "only showing top 5 rows\n",
      "\n"
     ]
    }
   ],
   "source": [
    "# add/derive a column withColumn Gain = CLOSE - OPEN\n",
    "# add/derive a column withColumn GAINP = (abs(GAIN) / OPEN)\n",
    "# where as abs is function from pyspark.sql.functions\n",
    "from pyspark.sql.functions import col\n",
    "dailyDf = dailyDf.withColumn(\"GAIN\", col(\"CLOSE\") - col(\"OPEN\"))\\\n",
    "                 .withColumn(\"GAINP\", (col(\"GAIN\") / col(\"OPEN\")) * 100)\n",
    "\n",
    "dailyDf.printSchema()\n",
    "dailyDf.show(5)"
   ]
  },
  {
   "cell_type": "code",
   "execution_count": null,
   "id": "9acfc8c2-407e-4f4b-8595-f80a54eddf2c",
   "metadata": {},
   "outputs": [],
   "source": []
  }
 ],
 "metadata": {
  "kernelspec": {
   "display_name": "Python 3 (ipykernel)",
   "language": "python",
   "name": "python3"
  },
  "language_info": {
   "codemirror_mode": {
    "name": "ipython",
    "version": 3
   },
   "file_extension": ".py",
   "mimetype": "text/x-python",
   "name": "python",
   "nbconvert_exporter": "python",
   "pygments_lexer": "ipython3",
   "version": "3.7.12"
  }
 },
 "nbformat": 4,
 "nbformat_minor": 5
}
