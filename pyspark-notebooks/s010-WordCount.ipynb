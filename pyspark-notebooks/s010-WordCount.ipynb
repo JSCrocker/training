{
 "cells": [
  {
   "cell_type": "code",
   "execution_count": 1,
   "id": "e1e1ad85-938e-4978-8b8a-177d6cdb297a",
   "metadata": {},
   "outputs": [
    {
     "name": "stderr",
     "output_type": "stream",
     "text": [
      "22/03/01 22:47:09 WARN Utils: Your hostname, ubuntu-virtual-machine resolves to a loopback address: 127.0.1.1; using 192.168.80.128 instead (on interface ens33)\n",
      "22/03/01 22:47:09 WARN Utils: Set SPARK_LOCAL_IP if you need to bind to another address\n",
      "22/03/01 22:47:09 WARN NativeCodeLoader: Unable to load native-hadoop library for your platform... using builtin-java classes where applicable\n",
      "Using Spark's default log4j profile: org/apache/spark/log4j-defaults.properties\n",
      "Setting default log level to \"WARN\".\n",
      "To adjust logging level use sc.setLogLevel(newLevel). For SparkR, use setLogLevel(newLevel).\n"
     ]
    }
   ],
   "source": [
    "# will always need this 4 lines to start \n",
    "import findspark\n",
    "findspark.init()\n",
    "from pyspark import SparkContext\n",
    "sc = SparkContext(\"local\", \"WordCount\")"
   ]
  },
  {
   "cell_type": "code",
   "execution_count": null,
   "id": "d5080af9-d283-48f4-87e3-b37a636207c3",
   "metadata": {},
   "outputs": [],
   "source": [
    "fileRdd = sc.textFile(\"hdfs://localhost:9000/words.txt\")\n",
    "fileRdd.count()"
   ]
  },
  {
   "cell_type": "code",
   "execution_count": null,
   "id": "1d7eb94b-a881-491c-928a-b9ee340a7473",
   "metadata": {},
   "outputs": [],
   "source": [
    "fileRdd.collect()"
   ]
  },
  {
   "cell_type": "code",
   "execution_count": null,
   "id": "98d47ef7-ba82-4825-bb57-4c64285e20a9",
   "metadata": {},
   "outputs": [],
   "source": [
    "# RDD Lineage\n",
    "lowerCaseRdd = fileRdd.map(lambda line: line.strip().lower())\n",
    "lowerCaseRdd.collect()"
   ]
  },
  {
   "cell_type": "code",
   "execution_count": null,
   "id": "0c7631b3-c4d5-4a8d-851f-8f0468ad9269",
   "metadata": {},
   "outputs": [],
   "source": [
    "wordListRdd = lowerCaseRdd.map (lambda line: line.split(\" \"))\n",
    "wordListRdd.collect()                         "
   ]
  },
  {
   "cell_type": "code",
   "execution_count": 15,
   "id": "237de637-39e1-4f5f-bcb4-6d0e6b0b0d9b",
   "metadata": {},
   "outputs": [
    {
     "data": {
      "text/plain": [
       "['spark',\n",
       " 'kafka',\n",
       " 'kafka',\n",
       " '',\n",
       " '',\n",
       " 'spark',\n",
       " 'pyspark',\n",
       " '',\n",
       " 'spark',\n",
       " '',\n",
       " 'apache',\n",
       " 'kafka',\n",
       " 'apache',\n",
       " 'spark']"
      ]
     },
     "execution_count": 15,
     "metadata": {},
     "output_type": "execute_result"
    }
   ],
   "source": [
    "# flatMap, remove the list, project element in the list as record\n",
    "wordRdd = wordListRdd.flatMap(lambda elements: elements)\n",
    "wordRdd.collect()"
   ]
  },
  {
   "cell_type": "code",
   "execution_count": 16,
   "id": "f568b81d-52e4-438e-a2f7-b0ecd684a924",
   "metadata": {},
   "outputs": [
    {
     "data": {
      "text/plain": [
       "['spark',\n",
       " 'kafka',\n",
       " 'kafka',\n",
       " 'spark',\n",
       " 'pyspark',\n",
       " 'spark',\n",
       " 'apache',\n",
       " 'kafka',\n",
       " 'apache',\n",
       " 'spark']"
      ]
     },
     "execution_count": 16,
     "metadata": {},
     "output_type": "execute_result"
    }
   ],
   "source": [
    "wordRdd =  wordRdd.filter (lambda word: word != \"\")\n",
    "wordRdd.collect()"
   ]
  },
  {
   "cell_type": "code",
   "execution_count": 17,
   "id": "30468f92-cee4-4c47-b440-ac81f371e80b",
   "metadata": {},
   "outputs": [
    {
     "data": {
      "text/plain": [
       "[('spark', 1),\n",
       " ('kafka', 1),\n",
       " ('kafka', 1),\n",
       " ('spark', 1),\n",
       " ('pyspark', 1),\n",
       " ('spark', 1),\n",
       " ('apache', 1),\n",
       " ('kafka', 1),\n",
       " ('apache', 1),\n",
       " ('spark', 1)]"
      ]
     },
     "execution_count": 17,
     "metadata": {},
     "output_type": "execute_result"
    }
   ],
   "source": [
    "# convert word into (key,value) rdd (spark, 1) for reduceByKey\n",
    "pairRdd = wordRdd.map (lambda word: (word, 1))\n",
    "pairRdd.collect()"
   ]
  },
  {
   "cell_type": "code",
   "execution_count": 18,
   "id": "62d4175a-bba0-4eeb-9cbd-9f1a21066de3",
   "metadata": {},
   "outputs": [
    {
     "name": "stderr",
     "output_type": "stream",
     "text": [
      "                                                                                \r"
     ]
    },
    {
     "data": {
      "text/plain": [
       "[('spark', 4), ('kafka', 3), ('pyspark', 1), ('apache', 2)]"
      ]
     },
     "execution_count": 18,
     "metadata": {},
     "output_type": "execute_result"
    }
   ],
   "source": [
    "# get word count using reduceByKey\n",
    "wordCountRdd = pairRdd.reduceByKey(lambda acc, value: acc + value)\n",
    "wordCountRdd.collect()"
   ]
  },
  {
   "cell_type": "code",
   "execution_count": 19,
   "id": "7abdea7d-d437-454e-b856-e1fa0ac37a16",
   "metadata": {},
   "outputs": [
    {
     "data": {
      "text/plain": [
       "1"
      ]
     },
     "execution_count": 19,
     "metadata": {},
     "output_type": "execute_result"
    }
   ],
   "source": [
    "wordCountRdd.getNumPartitions()"
   ]
  },
  {
   "cell_type": "code",
   "execution_count": 20,
   "id": "9de300f0-6a2b-4a87-a3b6-a4b974c49f3c",
   "metadata": {},
   "outputs": [],
   "source": [
    "# write the result into text file in hdfs\n",
    "# saveAsTextFile is an ACTION Method\n",
    "# word-count-results1 is a folder, inside we will shall partition files\n",
    "\n",
    "wordCountRdd.saveAsTextFile (\"hdfs://localhost:9000/word-count-results1\")"
   ]
  },
  {
   "cell_type": "code",
   "execution_count": 21,
   "id": "0d4b1fb9-08e7-423d-b63f-57b64fbd64b4",
   "metadata": {},
   "outputs": [],
   "source": [
    "# hdfs dfs -ls /word-count-results1\n",
    "#  _SUCCESS 0 bytes , to state that last operation successfuly stored\n",
    "# part-00000 - partition files \n",
    "# note the partition file name, part-00000 or other file name \n",
    "# hdfs dfs -cat /word-count-results1/part-00000\n",
    "\n",
    "# use hdfs web ui  http://localhost:50070/"
   ]
  },
  {
   "cell_type": "code",
   "execution_count": 22,
   "id": "d6408442-75ef-49e2-a38b-7e1945bbbbed",
   "metadata": {},
   "outputs": [],
   "source": [
    "# saveAsTextFile with two partitioned data\n",
    "wordCountRdd.repartition(2)\\\n",
    "            .saveAsTextFile(\"hdfs://localhost:9000/word-count-results2\")"
   ]
  },
  {
   "cell_type": "code",
   "execution_count": 23,
   "id": "11458d6f-6085-4552-a14a-97591e67bfba",
   "metadata": {},
   "outputs": [],
   "source": [
    "# hdfs dfs -ls /word-count-results2\n",
    "# hdfs dfs -cat /word-count-results2/part-00000\n",
    "# hdfs dfs -cat /word-count-results2/part-00001"
   ]
  },
  {
   "cell_type": "code",
   "execution_count": null,
   "id": "979fcdcb-1fe9-4d2e-b306-c1c579944e8a",
   "metadata": {},
   "outputs": [],
   "source": []
  }
 ],
 "metadata": {
  "kernelspec": {
   "display_name": "Python 3 (ipykernel)",
   "language": "python",
   "name": "python3"
  },
  "language_info": {
   "codemirror_mode": {
    "name": "ipython",
    "version": 3
   },
   "file_extension": ".py",
   "mimetype": "text/x-python",
   "name": "python",
   "nbconvert_exporter": "python",
   "pygments_lexer": "ipython3",
   "version": "3.7.12"
  }
 },
 "nbformat": 4,
 "nbformat_minor": 5
}
