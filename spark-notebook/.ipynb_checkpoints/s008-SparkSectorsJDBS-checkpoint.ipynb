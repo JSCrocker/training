{
 "cells": [
  {
   "cell_type": "code",
   "execution_count": 1,
   "id": "f833c9d2-8022-4880-acd4-138b466563c8",
   "metadata": {},
   "outputs": [
    {
     "data": {
      "text/plain": [
       "Intitializing Scala interpreter ..."
      ]
     },
     "metadata": {},
     "output_type": "display_data"
    },
    {
     "data": {
      "text/plain": [
       "Spark Web UI available at http://192.168.80.128:4041\n",
       "SparkContext available as 'sc' (version = 3.1.3, master = local[*], app id = local-1647445884432)\n",
       "SparkSession available as 'spark'\n"
      ]
     },
     "metadata": {},
     "output_type": "display_data"
    },
    {
     "name": "stdout",
     "output_type": "stream",
     "text": [
      "root\n",
      " |-- Company Name: string (nullable = true)\n",
      " |-- Industry: string (nullable = true)\n",
      " |-- Symbol: string (nullable = true)\n",
      " |-- Series: string (nullable = true)\n",
      " |-- ISIN Code: string (nullable = true)\n",
      "\n",
      "+------------------+------------------+----------+------+------------+\n",
      "|      Company Name|          Industry|    Symbol|Series|   ISIN Code|\n",
      "+------------------+------------------+----------+------+------------+\n",
      "|    Axis Bank Ltd.|FINANCIAL SERVICES|  AXISBANK|    EQ|INE238A01034|\n",
      "|Bajaj Finance Ltd.|FINANCIAL SERVICES|BAJFINANCE|    EQ|INE296A01024|\n",
      "+------------------+------------------+----------+------+------------+\n",
      "only showing top 2 rows\n",
      "\n"
     ]
    },
    {
     "data": {
      "text/plain": [
       "sectorDf: org.apache.spark.sql.DataFrame = [Company Name: string, Industry: string ... 3 more fields]\n"
      ]
     },
     "execution_count": 1,
     "metadata": {},
     "output_type": "execute_result"
    }
   ],
   "source": [
    "val sectorDf = spark.read\n",
    "                    .format(\"csv\")\n",
    "                    .option(\"header\", true)\n",
    "                    .option(\"inferSchema\", true)\n",
    "                    .option(\"delimitter\", \",\")\n",
    "                    .load(\"hdfs://localhost:9000/stocks/sectors\")\n",
    "\n",
    "sectorDf.printSchema()\n",
    "sectorDf.show(2)"
   ]
  },
  {
   "cell_type": "code",
   "execution_count": 2,
   "id": "834a1b40-cfb8-49b4-b07d-d23a98309ce1",
   "metadata": {},
   "outputs": [],
   "source": [
    "// Write dataframe into mysql\n",
    "// overwrite - sectors/existing  table, data shall be deleted\n",
    "// new table created, records shall be inserted\n",
    "// \"jdbc\" - write to connect to db\n",
    "// driver - mysql class name\n",
    "// user - mysql user name\n",
    "// password - mysql password\n",
    "// dbtable - mysql table name\n",
    "sectorDf\n",
    "    .withColumnRenamed(\"Company Name\", \"Company\")\n",
    "    .withColumnRenamed(\"ISIN Code\", \"ISIN\")\n",
    "    .write\n",
    "    .mode(\"overwrite\")\n",
    "    .format(\"jdbc\")\n",
    "    .option(\"url\", \"jdbc:mysql://localhost:3306/stockdb\") \n",
    "    .option(\"driver\", \"com.mysql.jdbc.Driver\") \n",
    "    .option(\"user\", \"team\") \n",
    "    .option(\"password\", \"Team1234!\") \n",
    "    .option(\"dbtable\", \"sectors\") \n",
    "    .save()"
   ]
  },
  {
   "cell_type": "code",
   "execution_count": 3,
   "id": "885951af-c552-4e21-8076-766cd38c47e5",
   "metadata": {},
   "outputs": [
    {
     "name": "stdout",
     "output_type": "stream",
     "text": [
      "root\n",
      " |-- Company Name: string (nullable = true)\n",
      " |-- Industry: string (nullable = true)\n",
      " |-- Symbol: string (nullable = true)\n",
      " |-- Series: string (nullable = true)\n",
      " |-- ISIN Code: string (nullable = true)\n",
      "\n",
      "+--------------------+------------+----------+------+------------+\n",
      "|        Company Name|    Industry|    Symbol|Series|   ISIN Code|\n",
      "+--------------------+------------+----------+------+------------+\n",
      "|Brigade Enterpris...|CONSTRUCTION|   BRIGADE|    EQ|INE791I01019|\n",
      "|            DLF Ltd.|CONSTRUCTION|       DLF|    EQ|INE271C01023|\n",
      "|Godrej Properties...|CONSTRUCTION|GODREJPROP|    EQ|INE484J01027|\n",
      "|Indiabulls Real E...|CONSTRUCTION| IBREALEST|    EQ|INE069I01010|\n",
      "|Macrotech Develop...|CONSTRUCTION|     LODHA|    EQ|INE670K01029|\n",
      "+--------------------+------------+----------+------+------------+\n",
      "only showing top 5 rows\n",
      "\n"
     ]
    },
    {
     "data": {
      "text/plain": [
       "sectorDataFromMySqlDf: org.apache.spark.sql.DataFrame = [Company Name: string, Industry: string ... 3 more fields]\n"
      ]
     },
     "execution_count": 3,
     "metadata": {},
     "output_type": "execute_result"
    }
   ],
   "source": [
    "// read data from mysql to dataframe\n",
    "// this will crate schema automatically becuase database is structured: table, column, data type, etc\n",
    "// spark will read schema definition from mysql and crate dataframe\n",
    "val sectorDataFromMySqlDf = spark.read\n",
    "    .format(\"jdbc\")\n",
    "    .option(\"url\", \"jdbc:mysql://localhost:3306/stockdb\") \n",
    "    .option(\"driver\", \"com.mysql.jdbc.Driver\") \n",
    "    .option(\"user\", \"team\") \n",
    "    .option(\"password\", \"Team1234!\") \n",
    "    .option(\"dbtable\", \"sectors\") \n",
    "    .load()\n",
    "\n",
    "sectorDataFromMySqlDf.printSchema()\n",
    "sectorDataFromMySqlDf.show(5)"
   ]
  },
  {
   "cell_type": "code",
   "execution_count": null,
   "id": "dd7ca718-5345-42e7-8b38-38833628496a",
   "metadata": {},
   "outputs": [],
   "source": []
  }
 ],
 "metadata": {
  "kernelspec": {
   "display_name": "spylon-kernel",
   "language": "scala",
   "name": "spylon-kernel"
  },
  "language_info": {
   "codemirror_mode": "text/x-scala",
   "file_extension": ".scala",
   "help_links": [
    {
     "text": "MetaKernel Magics",
     "url": "https://metakernel.readthedocs.io/en/latest/source/README.html"
    }
   ],
   "mimetype": "text/x-scala",
   "name": "scala",
   "pygments_lexer": "scala",
   "version": "0.4.1"
  }
 },
 "nbformat": 4,
 "nbformat_minor": 5
}
