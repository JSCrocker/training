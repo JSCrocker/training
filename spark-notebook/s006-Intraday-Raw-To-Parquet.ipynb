{
 "cells": [
  {
   "cell_type": "code",
   "execution_count": 1,
   "id": "3e7a4f63-d8c9-46cb-ab75-29540c19a2e2",
   "metadata": {},
   "outputs": [
    {
     "data": {
      "text/plain": [
       "Intitializing Scala interpreter ..."
      ]
     },
     "metadata": {},
     "output_type": "display_data"
    },
    {
     "data": {
      "text/plain": [
       "Spark Web UI available at http://192.168.80.128:4043\n",
       "SparkContext available as 'sc' (version = 2.4.7, master = local[*], app id = local-1646427004325)\n",
       "SparkSession available as 'spark'\n"
      ]
     },
     "metadata": {},
     "output_type": "display_data"
    },
    {
     "data": {
      "text/plain": [
       "import org.apache.spark.sql.types.{DoubleType, IntegerType, LongType, TimestampType, StringType, StructField, StructType}\n",
       "import org.apache.spark.sql.functions._\n"
      ]
     },
     "execution_count": 1,
     "metadata": {},
     "output_type": "execute_result"
    }
   ],
   "source": [
    "import org.apache.spark.sql.types.{DoubleType, IntegerType, LongType, TimestampType,  StringType, StructField, StructType}\n",
    "\n",
    "import  org.apache.spark.sql.functions._"
   ]
  },
  {
   "cell_type": "code",
   "execution_count": 2,
   "id": "c8441b2f-ce9e-4550-b273-1de7f4b3778f",
   "metadata": {},
   "outputs": [
    {
     "data": {
      "text/plain": [
       "IntraDaySchema: org.apache.spark.sql.types.StructType = StructType(StructField(Symbol,StringType,true), StructField(Date,StringType,true), StructField(Time,StringType,true), StructField(Open,DoubleType,true), StructField(High,DoubleType,true), StructField(Low,DoubleType,true), StructField(Close,DoubleType,true), StructField(Volume,LongType,true), StructField(OI,LongType,true))\n"
      ]
     },
     "execution_count": 2,
     "metadata": {},
     "output_type": "execute_result"
    }
   ],
   "source": [
    "val IntraDaySchema = StructType(\n",
    "    List(\n",
    "      StructField(\"Symbol\", StringType, true),\n",
    "      StructField(\"Date\", StringType, true), // TimestampType with , yyyyMMdd\n",
    "      StructField(\"Time\", StringType, true),\n",
    "      StructField(\"Open\", DoubleType, true),\n",
    "      StructField(\"High\", DoubleType, true),\n",
    "      StructField(\"Low\", DoubleType, true),\n",
    "      StructField(\"Close\", DoubleType, true),\n",
    "      StructField(\"Volume\", LongType, true),\n",
    "      StructField(\"OI\", LongType, true)\n",
    "    )\n",
    "  )"
   ]
  },
  {
   "cell_type": "code",
   "execution_count": 3,
   "id": "a9f22bda-467c-454f-bb50-20553c1220d7",
   "metadata": {},
   "outputs": [
    {
     "data": {
      "text/plain": [
       "intraDayMinRawDf: org.apache.spark.sql.DataFrame = [Symbol: string, Date: string ... 7 more fields]\n"
      ]
     },
     "execution_count": 3,
     "metadata": {},
     "output_type": "execute_result"
    }
   ],
   "source": [
    "var intraDayMinRawDf = spark.read\n",
    "    .format(\"csv\")\n",
    "    .option(\"header\",  false)\n",
    "    .option(\"delimitter\", \",\")\n",
    "    //.option(\"timestampFormat\", \"yyyyMMdd\") //20200803\n",
    "    .schema(IntraDaySchema) // use the Schema\n",
    "    .load(\"hdfs://localhost:9000/raw/*/*/*.txt\")"
   ]
  },
  {
   "cell_type": "code",
   "execution_count": 5,
   "id": "dad459f5-789d-4286-a369-117d9555d3ba",
   "metadata": {},
   "outputs": [
    {
     "data": {
      "text/plain": [
       "res1: Long = 27812025\n"
      ]
     },
     "execution_count": 5,
     "metadata": {},
     "output_type": "execute_result"
    }
   ],
   "source": [
    "intraDayMinRawDf.count()"
   ]
  },
  {
   "cell_type": "code",
   "execution_count": 6,
   "id": "a19878e3-73bb-47a9-8f93-9baf1fda5591",
   "metadata": {},
   "outputs": [
    {
     "data": {
      "text/plain": [
       "res2: Array[org.apache.spark.sql.Row] = Array([SILVERMIC_F1,20211201,09:01,62588.0,62707.0,62550.0,62659.0,101,98752], [SILVERMIC_F1,20211201,09:02,62662.0,62679.0,62658.0,62670.0,98,98818])\n"
      ]
     },
     "execution_count": 6,
     "metadata": {},
     "output_type": "execute_result"
    }
   ],
   "source": [
    "intraDayMinRawDf.rdd.take(2)"
   ]
  },
  {
   "cell_type": "code",
   "execution_count": 7,
   "id": "6d3f6552-caf5-4f55-89e9-5c560d19bbe7",
   "metadata": {},
   "outputs": [
    {
     "data": {
      "text/plain": [
       "res3: Int = 133\n"
      ]
     },
     "execution_count": 7,
     "metadata": {},
     "output_type": "execute_result"
    }
   ],
   "source": [
    "intraDayMinRawDf.rdd.getNumPartitions"
   ]
  },
  {
   "cell_type": "code",
   "execution_count": 8,
   "id": "f0a13943-40b3-4cc4-821b-232abc2388b0",
   "metadata": {},
   "outputs": [],
   "source": [
    "intraDayMinRawDf.write\n",
    "        .format(\"parquet\")\n",
    "        .mode(\"overwrite\")\n",
    "        .save(\"hdfs://localhost:9000/silver\")"
   ]
  },
  {
   "cell_type": "code",
   "execution_count": 10,
   "id": "538fd96c-c2fd-47d9-82e4-57b630aa326e",
   "metadata": {},
   "outputs": [
    {
     "name": "stdout",
     "output_type": "stream",
     "text": [
      "root\n",
      " |-- Symbol: string (nullable = true)\n",
      " |-- Date: string (nullable = true)\n",
      " |-- Time: string (nullable = true)\n",
      " |-- Open: double (nullable = true)\n",
      " |-- High: double (nullable = true)\n",
      " |-- Low: double (nullable = true)\n",
      " |-- Close: double (nullable = true)\n",
      " |-- Volume: long (nullable = true)\n",
      " |-- OI: long (nullable = true)\n",
      "\n"
     ]
    }
   ],
   "source": [
    "intraDayMinRawDf.printSchema()"
   ]
  },
  {
   "cell_type": "code",
   "execution_count": null,
   "id": "66cbc56b-1d2d-4e17-a2a0-b52427e9334c",
   "metadata": {},
   "outputs": [],
   "source": []
  }
 ],
 "metadata": {
  "kernelspec": {
   "display_name": "spylon-kernel",
   "language": "scala",
   "name": "spylon-kernel"
  },
  "language_info": {
   "codemirror_mode": "text/x-scala",
   "file_extension": ".scala",
   "help_links": [
    {
     "text": "MetaKernel Magics",
     "url": "https://metakernel.readthedocs.io/en/latest/source/README.html"
    }
   ],
   "mimetype": "text/x-scala",
   "name": "scala",
   "pygments_lexer": "scala",
   "version": "0.4.1"
  }
 },
 "nbformat": 4,
 "nbformat_minor": 5
}
