{
 "cells": [
  {
   "cell_type": "code",
   "execution_count": 1,
   "id": "c90dbff0-e025-4056-9f1f-22ea5d90cc9b",
   "metadata": {},
   "outputs": [
    {
     "data": {
      "text/plain": [
       "Intitializing Scala interpreter ..."
      ]
     },
     "metadata": {},
     "output_type": "display_data"
    },
    {
     "data": {
      "text/plain": [
       "Spark Web UI available at http://192.168.80.128:4041\n",
       "SparkContext available as 'sc' (version = 2.4.7, master = local[*], app id = local-1646316873458)\n",
       "SparkSession available as 'spark'\n"
      ]
     },
     "metadata": {},
     "output_type": "display_data"
    },
    {
     "data": {
      "text/plain": [
       "movieRdd: org.apache.spark.rdd.RDD[String] = hdfs://localhost:9000/movies/movies.csv MapPartitionsRDD[1] at textFile at <console>:25\n",
       "ratingRdd: org.apache.spark.rdd.RDD[String] = hdfs://localhost:9000/ratings/ratings.csv MapPartitionsRDD[3] at textFile at <console>:26\n"
      ]
     },
     "execution_count": 1,
     "metadata": {},
     "output_type": "execute_result"
    }
   ],
   "source": [
    "val movieRdd = sc.textFile(\"hdfs://localhost:9000/movies/movies.csv\")\n",
    "val ratingRdd = sc.textFile(\"hdfs://localhost:9000/ratings/ratings.csv\")"
   ]
  },
  {
   "cell_type": "code",
   "execution_count": 2,
   "id": "d40eb503-5f79-431e-a6da-04f0abc3166f",
   "metadata": {},
   "outputs": [
    {
     "data": {
      "text/plain": [
       "res0: Long = 9743\n"
      ]
     },
     "execution_count": 2,
     "metadata": {},
     "output_type": "execute_result"
    }
   ],
   "source": [
    "movieRdd.count()"
   ]
  },
  {
   "cell_type": "code",
   "execution_count": 3,
   "id": "ca93fa7b-7dfb-4a48-89b2-22d49e914a9f",
   "metadata": {},
   "outputs": [
    {
     "data": {
      "text/plain": [
       "res1: Long = 100837\n"
      ]
     },
     "execution_count": 3,
     "metadata": {},
     "output_type": "execute_result"
    }
   ],
   "source": [
    "ratingRdd.count()"
   ]
  },
  {
   "cell_type": "code",
   "execution_count": 4,
   "id": "b2b444e5-fc1f-4ebc-80c5-267346b14c96",
   "metadata": {},
   "outputs": [
    {
     "data": {
      "text/plain": [
       "res2: String = userId,movieId,rating,timestamp\n"
      ]
     },
     "execution_count": 4,
     "metadata": {},
     "output_type": "execute_result"
    }
   ],
   "source": [
    "ratingRdd.first()"
   ]
  },
  {
   "cell_type": "code",
   "execution_count": 5,
   "id": "e3dcc60e-e728-46db-9abb-d02a8d290480",
   "metadata": {},
   "outputs": [
    {
     "ename": "<console>",
     "evalue": "24: error: not found: value moviesRdd",
     "output_type": "error",
     "traceback": [
      "<console>:24: error: not found: value moviesRdd",
      "       val header = moviesRdd.first()",
      "                    ^",
      "<console>:25: error: not found: value moviesRdd",
      "       val moviesContentRdd = moviesRdd.filter (line => line != header)",
      "                              ^",
      ""
     ]
    }
   ],
   "source": [
    "val header = moviesRdd.first()\n",
    "val moviesContentRdd = moviesRdd.filter (line => line != header)\n",
    "moviesContentRdd.take(2)"
   ]
  },
  {
   "cell_type": "code",
   "execution_count": null,
   "id": "5ed2d954-2674-44f0-b37f-a28e0d75b0fe",
   "metadata": {},
   "outputs": [],
   "source": [
    "val rheader = ratingRdd.first()\n",
    "val ratingsContentRdd = ratingRdd.filter (line => line != rheader)\n",
    "ratingsContentRdd.take(2)"
   ]
  },
  {
   "cell_type": "code",
   "execution_count": null,
   "id": "c792a3f3-9b24-4a50-b9ee-a8ebf90d091d",
   "metadata": {},
   "outputs": [],
   "source": [
    "// parse moviescsv without header input tuple\n",
    "val moviesParsedRdd = moviesContentRdd\n",
    "                        .map (line => line.trim())\n",
    "                        .filter ( line => !line.isEmpty())\n",
    "                        .map ( line => line.split(\",\"))\n",
    "moviesParsedRdd.take(4)                                    "
   ]
  },
  {
   "cell_type": "code",
   "execution_count": null,
   "id": "c8a8f01b-6446-448b-9d74-652dafe3a2a2",
   "metadata": {},
   "outputs": [],
   "source": [
    "// convert moviesParsedRdd into tuple of 3 elements \n",
    "// (INT, String, String), using _1, _2, _3\n",
    "val moviesTupleRdd = moviesParsedRdd.map (arr => (arr(0).toInt, (arr(1), arr(2) ) ) )\n",
    "moviesTupleRdd.take(4)"
   ]
  },
  {
   "cell_type": "code",
   "execution_count": null,
   "id": "6053b4b0-8f28-47b0-b621-e2063793444e",
   "metadata": {},
   "outputs": [],
   "source": [
    "// using case class, domain object\n",
    "//case class Movie(id: Int, title: String, genres: String)\n",
    "//val moviesDataRdd = moviesTupleRdd.map(t => Movie(t._1, t._2, t._3))\n",
    "//moviesDataRdd.take(4)"
   ]
  },
  {
   "cell_type": "code",
   "execution_count": null,
   "id": "bd2a8c6b-e3fd-4fd6-adf4-f0b6bd523880",
   "metadata": {},
   "outputs": [],
   "source": [
    "val ratingParsedRdd = ratingsContentRdd\n",
    "                        .map (line => line.trim())\n",
    "                        .filter ( line => !line.isEmpty())\n",
    "                        .map ( line => line.split(\",\"))\n",
    "\n",
    "ratingParsedRdd.take(4)"
   ]
  },
  {
   "cell_type": "code",
   "execution_count": null,
   "id": "d0085f4f-df57-46ed-82c1-8ca7df3f05dc",
   "metadata": {},
   "outputs": [],
   "source": [
    "// get ratings in tuple format\n",
    "// bring the movieId to first member\n",
    "val ratingsTupleRdd = ratingParsedRdd.map (rating => (rating(1).toInt, //movieId\n",
    "                                                      (rating(0).toInt, //  userId\n",
    "                                                      rating(2).toDouble, //rating\n",
    "                                                      rating(3).toLong ) // timestamp\n",
    "                                                     ))\n",
    "                                           \n",
    "ratingsTupleRdd.take(4)"
   ]
  },
  {
   "cell_type": "code",
   "execution_count": null,
   "id": "aca580f8-c55f-4650-a2ab-83369deb230c",
   "metadata": {},
   "outputs": [],
   "source": [
    "val outputRdd = moviesTupleRdd.join(ratingsTupleRdd)\n",
    "outputRdd.take(3)"
   ]
  },
  {
   "cell_type": "code",
   "execution_count": null,
   "id": "825ea22d-3eca-4cfe-92d5-ee2c9fc61a18",
   "metadata": {},
   "outputs": [],
   "source": []
  },
  {
   "cell_type": "code",
   "execution_count": null,
   "id": "6849b052-5352-4ee8-998e-8df9c1f0f21c",
   "metadata": {},
   "outputs": [],
   "source": []
  },
  {
   "cell_type": "markdown",
   "id": "86dd8645-acef-4d31-a4d7-cfb59315b09b",
   "metadata": {},
   "source": []
  }
 ],
 "metadata": {
  "kernelspec": {
   "display_name": "spylon-kernel",
   "language": "scala",
   "name": "spylon-kernel"
  },
  "language_info": {
   "codemirror_mode": "text/x-scala",
   "file_extension": ".scala",
   "help_links": [
    {
     "text": "MetaKernel Magics",
     "url": "https://metakernel.readthedocs.io/en/latest/source/README.html"
    }
   ],
   "mimetype": "text/x-scala",
   "name": "scala",
   "pygments_lexer": "scala",
   "version": "0.4.1"
  }
 },
 "nbformat": 4,
 "nbformat_minor": 5
}
