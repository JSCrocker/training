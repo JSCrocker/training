{
 "cells": [
  {
   "cell_type": "code",
   "execution_count": 1,
   "id": "4361e6d4-46e7-4b44-b06b-2f13c68eab7d",
   "metadata": {},
   "outputs": [
    {
     "data": {
      "text/plain": [
       "Intitializing Scala interpreter ..."
      ]
     },
     "metadata": {},
     "output_type": "display_data"
    },
    {
     "data": {
      "text/plain": [
       "Spark Web UI available at http://192.168.80.128:4040\n",
       "SparkContext available as 'sc' (version = 2.4.7, master = local[*], app id = local-1646249213157)\n",
       "SparkSession available as 'spark'\n"
      ]
     },
     "metadata": {},
     "output_type": "display_data"
    },
    {
     "data": {
      "text/plain": [
       "r: Int = 30\n"
      ]
     },
     "execution_count": 1,
     "metadata": {},
     "output_type": "execute_result"
    }
   ],
   "source": [
    "val r = 10 + 20"
   ]
  },
  {
   "cell_type": "code",
   "execution_count": 2,
   "id": "023aafaa-2b8f-4d61-8c7e-46fe3f8a1f6b",
   "metadata": {},
   "outputs": [
    {
     "data": {
      "text/plain": [
       "rdd: org.apache.spark.rdd.RDD[Int] = ParallelCollectionRDD[0] at parallelize at <console>:25\n"
      ]
     },
     "execution_count": 2,
     "metadata": {},
     "output_type": "execute_result"
    }
   ],
   "source": [
    "val rdd = sc.parallelize(1 to 10)"
   ]
  },
  {
   "cell_type": "code",
   "execution_count": 3,
   "id": "809e5d93-407c-403a-b32b-4b6d3df8dad6",
   "metadata": {},
   "outputs": [
    {
     "data": {
      "text/plain": [
       "res0: Array[Int] = Array(1, 2, 3, 4, 5, 6, 7, 8, 9, 10)\n"
      ]
     },
     "execution_count": 3,
     "metadata": {},
     "output_type": "execute_result"
    }
   ],
   "source": [
    "rdd.collect()"
   ]
  },
  {
   "cell_type": "code",
   "execution_count": 4,
   "id": "c9eff84d-c65f-49ad-8144-41965d6311c1",
   "metadata": {},
   "outputs": [
    {
     "data": {
      "text/plain": [
       "oddNumbers: org.apache.spark.rdd.RDD[Int] = MapPartitionsRDD[1] at filter at <console>:26\n",
       "res1: Array[Int] = Array(1, 3, 5, 7, 9)\n"
      ]
     },
     "execution_count": 4,
     "metadata": {},
     "output_type": "execute_result"
    }
   ],
   "source": [
    "val oddNumbers = rdd.filter(n => n % 2 == 1)\n",
    "oddNumbers.collect()"
   ]
  },
  {
   "cell_type": "code",
   "execution_count": 6,
   "id": "91b32083-24b3-431a-b192-efe07280af21",
   "metadata": {},
   "outputs": [
    {
     "data": {
      "text/plain": [
       "muliRdd: org.apache.spark.rdd.RDD[Int] = MapPartitionsRDD[3] at map at <console>:28\n",
       "res2: Array[Int] = Array(10, 30, 50, 70, 90)\n"
      ]
     },
     "execution_count": 6,
     "metadata": {},
     "output_type": "execute_result"
    }
   ],
   "source": [
    "val muliRdd = oddNumbers.map(n => n * 10)\n",
    "muliRdd.collect()"
   ]
  },
  {
   "cell_type": "code",
   "execution_count": 7,
   "id": "09fe3fd8-cd46-4e03-b4c3-d66cc5ef27d6",
   "metadata": {},
   "outputs": [
    {
     "data": {
      "text/plain": [
       "res3: String =\n",
       "(2) MapPartitionsRDD[3] at map at <console>:28 []\n",
       " |  MapPartitionsRDD[1] at filter at <console>:26 []\n",
       " |  ParallelCollectionRDD[0] at parallelize at <console>:25 []\n"
      ]
     },
     "execution_count": 7,
     "metadata": {},
     "output_type": "execute_result"
    }
   ],
   "source": [
    "muliRdd.toDebugString"
   ]
  },
  {
   "cell_type": "code",
   "execution_count": null,
   "id": "4a6d33ef-882e-4799-a830-f4b107f9d543",
   "metadata": {},
   "outputs": [],
   "source": []
  }
 ],
 "metadata": {
  "kernelspec": {
   "display_name": "spylon-kernel",
   "language": "scala",
   "name": "spylon-kernel"
  },
  "language_info": {
   "codemirror_mode": "text/x-scala",
   "file_extension": ".scala",
   "help_links": [
    {
     "text": "MetaKernel Magics",
     "url": "https://metakernel.readthedocs.io/en/latest/source/README.html"
    }
   ],
   "mimetype": "text/x-scala",
   "name": "scala",
   "pygments_lexer": "scala",
   "version": "0.4.1"
  }
 },
 "nbformat": 4,
 "nbformat_minor": 5
}
