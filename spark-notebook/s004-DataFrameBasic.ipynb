{
 "cells": [
  {
   "cell_type": "code",
   "execution_count": 4,
   "id": "f393cff6-1cc8-47d1-a863-c6505f602ed3",
   "metadata": {},
   "outputs": [
    {
     "data": {
      "text/plain": [
       "defined class Product\n"
      ]
     },
     "execution_count": 4,
     "metadata": {},
     "output_type": "execute_result"
    }
   ],
   "source": [
    "case class Product(id: Int, price: Double)"
   ]
  },
  {
   "cell_type": "code",
   "execution_count": 6,
   "id": "d66626cc-5404-4a0b-8694-c5d80851a57f",
   "metadata": {},
   "outputs": [
    {
     "data": {
      "text/plain": [
       "products: Seq[Product] = List(Product(1,100.0), Product(2,200.0), Product(3,300.9))\n"
      ]
     },
     "execution_count": 6,
     "metadata": {},
     "output_type": "execute_result"
    }
   ],
   "source": [
    "val products = Seq(Product(1, 100.0),\n",
    "                   Product(2, 200.0),\n",
    "                   Product(3, 300.9)\n",
    "                   )"
   ]
  },
  {
   "cell_type": "code",
   "execution_count": 7,
   "id": "35d704ac-bf89-4574-a20b-58a7b0b1a53d",
   "metadata": {},
   "outputs": [
    {
     "data": {
      "text/plain": [
       "rdd: org.apache.spark.rdd.RDD[Product] = ParallelCollectionRDD[0] at parallelize at <console>:27\n"
      ]
     },
     "execution_count": 7,
     "metadata": {},
     "output_type": "execute_result"
    }
   ],
   "source": [
    "val rdd = sc.parallelize(products)"
   ]
  },
  {
   "cell_type": "code",
   "execution_count": 8,
   "id": "25342018-8d4c-4fe0-b2b3-174c6a753d3d",
   "metadata": {},
   "outputs": [
    {
     "data": {
      "text/plain": [
       "rdd2: org.apache.spark.rdd.RDD[Product] = MapPartitionsRDD[1] at filter at <console>:26\n"
      ]
     },
     "execution_count": 8,
     "metadata": {},
     "output_type": "execute_result"
    }
   ],
   "source": [
    "val rdd2 = rdd.filter(product => product.price > 150)"
   ]
  },
  {
   "cell_type": "code",
   "execution_count": 9,
   "id": "ef9ab1a7-4218-4531-b305-56035b5cc81e",
   "metadata": {},
   "outputs": [
    {
     "data": {
      "text/plain": [
       "productDf: org.apache.spark.sql.DataFrame = [id: int, price: double]\n"
      ]
     },
     "execution_count": 9,
     "metadata": {},
     "output_type": "execute_result"
    }
   ],
   "source": [
    "// convert rdd into DataFrame\n",
    "// column name, data type is taken from Scala case class\n",
    "val productDf = rdd.toDF()"
   ]
  },
  {
   "cell_type": "code",
   "execution_count": 10,
   "id": "85ecf062-f701-44d6-8078-7563bfc2deed",
   "metadata": {},
   "outputs": [
    {
     "name": "stdout",
     "output_type": "stream",
     "text": [
      "root\n",
      " |-- id: integer (nullable = false)\n",
      " |-- price: double (nullable = false)\n",
      "\n"
     ]
    }
   ],
   "source": [
    "productDf.printSchema()"
   ]
  },
  {
   "cell_type": "code",
   "execution_count": null,
   "id": "a0aceb3e-5265-4b1f-be8c-10bb68a64cd8",
   "metadata": {},
   "outputs": [],
   "source": []
  }
 ],
 "metadata": {
  "kernelspec": {
   "display_name": "spylon-kernel",
   "language": "scala",
   "name": "spylon-kernel"
  },
  "language_info": {
   "codemirror_mode": "text/x-scala",
   "file_extension": ".scala",
   "help_links": [
    {
     "text": "MetaKernel Magics",
     "url": "https://metakernel.readthedocs.io/en/latest/source/README.html"
    }
   ],
   "mimetype": "text/x-scala",
   "name": "scala",
   "pygments_lexer": "scala",
   "version": "0.4.1"
  }
 },
 "nbformat": 4,
 "nbformat_minor": 5
}
